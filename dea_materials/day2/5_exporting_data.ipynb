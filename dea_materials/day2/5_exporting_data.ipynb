{
 "cells": [
  {
   "cell_type": "markdown",
   "metadata": {},
   "source": [
    "# Exporting images out of DEA"
   ]
  },
  {
   "cell_type": "markdown",
   "metadata": {},
   "source": [
    "### Background:\n",
    "\n",
    "Data in the DataCube is represented as XArray Dataset objects. Xarray follows a data model for representing data which is very similar to the one defined in the NetCDF4 file format. NetCDF4 is a file format designed to store scientific numerical data. Multidimensional arrays can be naturally stored in this format together with dimensions information as well as metadata."
   ]
  },
  {
   "cell_type": "markdown",
   "metadata": {},
   "source": [
    "### import modules and scripts"
   ]
  },
  {
   "cell_type": "code",
   "execution_count": null,
   "metadata": {},
   "outputs": [],
   "source": [
    "%matplotlib inline\n",
    "\n",
    "from datacube import Datacube\n",
    "import xarray as xr\n",
    "\n",
    "dc = Datacube(app='Sentinel2')"
   ]
  },
  {
   "cell_type": "markdown",
   "metadata": {},
   "source": [
    "### Saving data as NetCDF4"
   ]
  },
  {
   "cell_type": "code",
   "execution_count": null,
   "metadata": {},
   "outputs": [],
   "source": [
    "import datacube, xarray\n",
    "from datacube.drivers.netcdf import write_dataset_to_netcdf\n",
    "\n",
    "-34.928889, 138.601111\n",
    "query = {\n",
    "        'lat': (-34.90, -34.96),\n",
    "        'lon': (138.57, 138.63),\n",
    "        'output_crs': 'EPSG:3577',\n",
    "        'resolution': (-20, 20),\n",
    "        'measurements': [\"nbar_red\",\"nbar_green\",\"nbar_blue\"],\n",
    "        'time': ('2019-01-01', '2019-03-01')\n",
    "        }\n",
    "\n",
    "adelaide = dc.load(product='s2a_ard_granule', group_by='solar_day', **query)\n",
    "\n",
    "\n",
    "write_dataset_to_netcdf(adelaide, 'adelaide2019.nc')"
   ]
  },
  {
   "cell_type": "markdown",
   "metadata": {},
   "source": [
    "### Reading the images back\n",
    "\n",
    "Using `XArray` functionality, NetCDF files can be read into `Dataset` objects. These objects can be used as if they where DEA objects using DEA functionality to plot, merge or compare with other objects."
   ]
  },
  {
   "cell_type": "code",
   "execution_count": null,
   "metadata": {},
   "outputs": [],
   "source": [
    "ds = xr.open_dataset('adelaide2019.nc')\n",
    "\n",
    "ds.nbar_red.plot(col='time', col_wrap=5)"
   ]
  },
  {
   "cell_type": "markdown",
   "metadata": {},
   "source": [
    "### Real Colour RGBs:\n",
    "\n",
    "From the images above, can you detect a one with no clouds and plot a real colour RGB image of Adelaide? _Hint_: Substitute the `?` symbols with the right values."
   ]
  },
  {
   "cell_type": "code",
   "execution_count": null,
   "metadata": {},
   "outputs": [],
   "source": [
    "ds[['nbar_red', 'nbar_green', 'nbar_blue']].isel(time=3).to_array().plot.imshow(robust=True, figsize=(8,8))"
   ]
  },
  {
   "cell_type": "markdown",
   "metadata": {},
   "source": [
    "### DEA requests with vector data\n",
    "\n",
    "Sometimes, our area of interest is defined in external files containing a polygon or other forms of vector data. These files can be used directly into DEA query objects to select the data of interest. For example, the following file, stored locally, contains a shapefile defining an area of interest."
   ]
  },
  {
   "cell_type": "code",
   "execution_count": null,
   "metadata": {
    "ExecuteTime": {
     "end_time": "2019-02-21T00:00:28.639366Z",
     "start_time": "2019-02-21T00:00:28.634908Z"
    }
   },
   "outputs": [],
   "source": [
    "poly_path = 'data/reeves_lake_for_demo.shp'"
   ]
  },
  {
   "cell_type": "markdown",
   "metadata": {},
   "source": [
    "### Plotting polygon data\n",
    "\n",
    "`Geopandas` is a Python library for working with geospatial data. It can read a large number of formats and offers convenient functionality to analyse and represent geospatial data."
   ]
  },
  {
   "cell_type": "code",
   "execution_count": null,
   "metadata": {
    "ExecuteTime": {
     "start_time": "2019-02-21T00:00:12.216Z"
    }
   },
   "outputs": [],
   "source": [
    "import geopandas as gpd\n",
    "import matplotlib.pyplot as plt\n",
    "\n",
    "plt.clf()\n",
    "shape_plot = gpd.read_file(poly_path)\n",
    "shape_plot.plot()\n",
    "plt.show()"
   ]
  },
  {
   "cell_type": "markdown",
   "metadata": {},
   "source": [
    "Using the `open_polygon_from_shapefile` function from the DEA toolbox, we can extract the geometry information and pass it directly into the DEA query instead of specifying `lat` and `lon` values."
   ]
  },
  {
   "cell_type": "code",
   "execution_count": null,
   "metadata": {
    "ExecuteTime": {
     "start_time": "2019-02-21T00:00:12.229Z"
    }
   },
   "outputs": [],
   "source": [
    "import sys\n",
    "sys.path.append('./Scripts')\n",
    "import DEADataHandling\n",
    "import DEAPlotting\n",
    "\n",
    "GEOM, SHAPE_NAME = DEADataHandling.open_polygon_from_shapefile(poly_path)\n",
    "\n",
    "query = {\n",
    "    'time': ('2016-05-01', '2016-05-30'), \n",
    "    'geopolygon': GEOM,\n",
    "    'output_crs': 'EPSG:3577',\n",
    "    'resolution': (-10, 10)\n",
    "}"
   ]
  },
  {
   "cell_type": "markdown",
   "metadata": {},
   "source": [
    "Load cloud free Sentinel data for all sensors (S2A, S2B) for the above query. Setting \n",
    "`satellite_metadata=True` will return the data with a variable that gives the abbreviation\n",
    "of the satellite that made the observation. Masked_prop allows removing timesteps with missing data greater than masked proportion, useful when animating/communicating results."
   ]
  },
  {
   "cell_type": "code",
   "execution_count": null,
   "metadata": {},
   "outputs": [],
   "source": [
    "s2 = DEADataHandling.load_clearsentinel2(dc=dc, query=query, sensors=['s2a', 's2b'],\n",
    "                                         bands_of_interest=['fmask','nbart_green','nbart_nir_1','nbart_swir_2'], \n",
    "                                         masked_prop=0, satellite_metadata=True)"
   ]
  },
  {
   "cell_type": "markdown",
   "metadata": {},
   "source": [
    "### Print and plot sample of resulting data (false color) "
   ]
  },
  {
   "cell_type": "code",
   "execution_count": null,
   "metadata": {},
   "outputs": [],
   "source": [
    "# Plot sample of resulting data for an index (timestep) of your choice\n",
    "plt.clf()\n",
    "DEAPlotting.rgb(s2, bands=['nbart_nir_1', 'nbart_swir_2', 'nbart_green'], index=2)"
   ]
  },
  {
   "cell_type": "markdown",
   "metadata": {},
   "source": [
    "### Exporting data in GeoTIFF format\n",
    "\n",
    "Although NetCDF is a convenient format to represent and organise geospatial data it is not always the most compatible format to use with GIS systems and share data with other users. GeoTIFF is probably the most well-known format for geospatial data and constitutes the de-facto standard in the geospatial community. DEA data can also be exported in this format making use of a library called `rasterio` which is a Python wrapper of GDAL. For the purposes of this tutorial we are going to make use of a function called `dataset_to_geotiff` with makes use of `rasterio` to save `XArray` data into GeoTiffs."
   ]
  },
  {
   "cell_type": "markdown",
   "metadata": {},
   "source": [
    "Before demonstrating how to save an image as a GeoTiff, let's clean the previous object to remove unwanted variables using `drop` and convert data into float32 type to save some space:"
   ]
  },
  {
   "cell_type": "code",
   "execution_count": null,
   "metadata": {},
   "outputs": [],
   "source": [
    "import numpy as np\n",
    "\n",
    "s2 = s2.drop('fmask')\n",
    "s2 = s2.drop('data_perc')\n",
    "s2 = s2.drop('satellite')\n",
    "\n",
    "s2['nbart_green'] = s2.nbart_green.astype(np.float32)\n",
    "s2['nbart_nir_1'] = s2.nbart_nir_1.astype(np.float32)\n",
    "s2['nbart_swir_2'] = s2.nbart_swir_2.astype(np.float32)\n",
    "\n",
    "\n",
    "s2"
   ]
  },
  {
   "cell_type": "markdown",
   "metadata": {},
   "source": [
    "Now we save the object calling the `dataset_to_geotiff` function"
   ]
  },
  {
   "cell_type": "code",
   "execution_count": null,
   "metadata": {},
   "outputs": [],
   "source": [
    "import GeoTiffExport\n",
    "\n",
    "GeoTiffExport.dataset_to_geotiff('reeves_lake.tiff', s2.isel(time=2))"
   ]
  },
  {
   "cell_type": "markdown",
   "metadata": {},
   "source": [
    "### GDAL on the command line\n",
    "\n",
    "GDAL commands such as `gdal_translate` or `gdalinfo` can be called within jupyter notebooks using the `!` symbol to call the shell:"
   ]
  },
  {
   "cell_type": "code",
   "execution_count": null,
   "metadata": {},
   "outputs": [],
   "source": [
    "!gdalinfo -mm reeves_lake.tiff"
   ]
  },
  {
   "cell_type": "markdown",
   "metadata": {},
   "source": [
    "### Loading GeoTiffs\n",
    "\n",
    "Geotiff files can be read into numpy arrays using `rasterio`. The geospatial information such as coordinates and projection is lost but can be recovered and potentially written into a new `XArray` object, but we leave this as an exercise."
   ]
  },
  {
   "cell_type": "code",
   "execution_count": null,
   "metadata": {},
   "outputs": [],
   "source": [
    "import rasterio\n",
    "\n",
    "with rasterio.open('reeves_lake.tiff', 'r') as ds:\n",
    "    print(ds.read().shape)"
   ]
  },
  {
   "cell_type": "markdown",
   "metadata": {},
   "source": [
    "### Exercise:\n",
    "\n",
    "`rasterio` reads a GeoTiff and returns a numpy array which contains the bands in the first dimension. If we want to plot this image using matplotlib, there are some transformations that we need to apply to this array:\n",
    "\n",
    "1. The dimension containing the bands should come last: _Hint_: Look into numpy `swapaxes` doc.\n",
    "2. Some reflectance values in the image are quite high, you'll need clip values in the range [0-2000]: Look into numpy `clip` doc.\n",
    "3. Matplotlib `imshow` can only plot float RGB images of type if they are in the range [0-1] so you'll need to normalise the data."
   ]
  },
  {
   "cell_type": "code",
   "execution_count": null,
   "metadata": {
    "ExecuteTime": {
     "start_time": "2019-02-21T00:00:12.257Z"
    }
   },
   "outputs": [],
   "source": [
    "with rasterio.open(\"reeves_lake.tiff\", 'r') as ds:\n",
    "    print(ds)\n",
    "    ### Your code goes here"
   ]
  },
  {
   "cell_type": "markdown",
   "metadata": {},
   "source": [
    "### Exporting images for non-scientific purposes\n",
    "\n",
    "Sometime, we might want to export the images that we want to generate in DEA in a simple format for media publications or other non-scientific purposes. PNG and JPEG are popular image formats to share our satellite results and Python offers a many ways to work with these formats. For this tutorial we are going to use `imageio` which is a very simple library for working with image files.\n",
    "\n",
    "Let's request some data for Darwin:"
   ]
  },
  {
   "cell_type": "code",
   "execution_count": null,
   "metadata": {},
   "outputs": [],
   "source": [
    "query = {\n",
    "        'lat': (-12.40, -12.46),\n",
    "        'lon': (130.80, 130.87),\n",
    "        'output_crs': 'EPSG:3577',\n",
    "        'resolution': (-20, 20),\n",
    "        'measurements': [\"nbar_red\",\"nbar_green\",\"nbar_blue\"],\n",
    "        'time': ('2017-01-01', '2017-02-01')\n",
    "        }\n",
    "\n",
    "darwin = dc.load(product='s2a_ard_granule', group_by='solar_day', **query)\n",
    "\n",
    "DEAPlotting.rgb(darwin, bands=['nbar_red', 'nbar_green', 'nbar_blue'], index=0)"
   ]
  },
  {
   "cell_type": "markdown",
   "metadata": {},
   "source": [
    "### Exercise:\n",
    "\n",
    "We are going to use `imageio` to save the previous image into a PNG image. To create this image we need to pass a valid numpy array to `imagio` so you'll need to follow a few steps to go from the DEA `Dataset` into this numpy array: \n",
    "\n",
    "1. Select the first temporal index from the Dataset object\n",
    "2. Create a 3-d numpy array using the red, green and blue bands: _Hint_: Look into numpy `dstack` doc.\n",
    "3. Some reflectance values in the image are quite high, you'll need clip values in the range [0-3500]: Look into numpy `clip` doc.\n",
    "3. `imageio` uses RGB images encoded as `uint8` type with values ranging [0-255]. \n",
    "    * Normalise the array data into [0-255]\n",
    "    * Convert the array to `uint8` datatype: _Hint_: Remember `.astype()`?"
   ]
  },
  {
   "cell_type": "code",
   "execution_count": null,
   "metadata": {},
   "outputs": [],
   "source": [
    "import imageio\n",
    "\n",
    "### Your code goes here\n",
    "#imageio.imwrite(\"darwin.png\",3D array)"
   ]
  },
  {
   "cell_type": "code",
   "execution_count": null,
   "metadata": {},
   "outputs": [],
   "source": []
  }
 ],
 "metadata": {
  "celltoolbar": "Raw Cell Format",
  "kernelspec": {
   "display_name": "Python 3",
   "language": "python",
   "name": "python3"
  },
  "language_info": {
   "codemirror_mode": {
    "name": "ipython",
    "version": 3
   },
   "file_extension": ".py",
   "mimetype": "text/x-python",
   "name": "python",
   "nbconvert_exporter": "python",
   "pygments_lexer": "ipython3",
   "version": "3.6.8"
  },
  "toc": {
   "base_numbering": 1,
   "nav_menu": {},
   "number_sections": true,
   "sideBar": true,
   "skip_h1_title": false,
   "title_cell": "Table of Contents",
   "title_sidebar": "Contents",
   "toc_cell": false,
   "toc_position": {},
   "toc_section_display": "block",
   "toc_window_display": false
  }
 },
 "nbformat": 4,
 "nbformat_minor": 4
}
