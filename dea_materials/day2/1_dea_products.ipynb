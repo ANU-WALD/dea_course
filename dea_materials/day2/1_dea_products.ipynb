{
 "cells": [
  {
   "cell_type": "markdown",
   "metadata": {},
   "source": [
    "## Browsing through DEA data collections\n",
    "\n",
    "#### A \"datacube\" is a digital information architecture that specialises in hosting and cataloguing spatial information. [Digital Earth Australia (DEA)](https://www.ga.gov.au/dea) is based on the [Open Data Cube](https://www.opendatacube.org/) infrastructure, and specialises in storing remotely sensed data from Earth Observation satellites such as [Landsat](https://landsat.gsfc.nasa.gov/) and [Sentinel-2](https://www.copernicus.eu/en/about-copernicus/infrastructure/discover-our-satellites).\n",
    "\n",
    "#### The DEA datacube contains both raw satellite data and derived \"products\". These data products are often composed of a range of \"measurements\" such as the suite of remote sensing band values or statistical product summaries. Before running a query to load data from the datacube, it is useful to know what it contains. This notebook demonstrates several straightforward ways to inspect the product and measurement contents of a datacube."
   ]
  },
  {
   "cell_type": "markdown",
   "metadata": {},
   "source": [
    "#### Let's get started by loading up the usual Python modules and some extra ones that will allow us to demonstrate new functionality in this notebook."
   ]
  },
  {
   "cell_type": "code",
   "execution_count": null,
   "metadata": {},
   "outputs": [],
   "source": [
    "import datacube\n",
    "from check_answer import check_answer\n",
    "import pandas as pd\n",
    "from odc.ui import DcViewer\n",
    "\n",
    "# Set some configurations for displaying tables nicely\n",
    "pd.set_option('display.max_colwidth', 200)\n",
    "pd.set_option('display.max_rows', None)\n",
    "\n",
    "# Create the dc Datacube object, our handler for working with DEA\n",
    "dc = datacube.Datacube(app=\"DEA_Products_and_measurements\")"
   ]
  },
  {
   "cell_type": "markdown",
   "metadata": {},
   "source": [
    "#### We already seen in the previous tutorial how to list the DEA data collections using the `dc.list_products()` function. \n",
    "\n",
    "#### Products listed under **name** in the following table represent the product options available when querying the datacube. \n",
    "The table below provides some useful information about each product, including a brief product **description**, the **instrument** and **platform** the data originated from (e.g. Landsat 8 OLI), and the product's default **crs** (coordinate reference system) and **resolution** if applicable.\n",
    "\n",
    "> Note: For a comprehensive product description and access to complete product metadata, users are directed to the Geoscience Australia [Content Management Interface](https://cmi.ga.gov.au)"
   ]
  },
  {
   "cell_type": "code",
   "execution_count": null,
   "metadata": {},
   "outputs": [],
   "source": [
    "products = dc.list_products()\n",
    "\n",
    "display_columns = [\"name\",\n",
    "                   \"description\",\n",
    "                   \"default_crs\",\n",
    "                   \"default_resolution\"]\n",
    "\n",
    "products[display_columns].sort_index()"
   ]
  },
  {
   "cell_type": "markdown",
   "metadata": {},
   "source": [
    "#### The previous `dc.list_products()` function provides information about the DEA products together with some high level and storage details. Each product contains a series of measurements. These can be individual satellite reflectance bands (e.g. Landsat's near-infrared band), derived products or statistical product summaries.\n",
    "\n",
    "#### The `dc.list_measurements()` function can be used to interrogate the measurements associated with a given product (specified by the **name** column from the table above). For example, `ga_ls5t_ard_3` refers to the Geoscience Australia Landsat 5 Analysis-ready data Collection 3 product.\n",
    "\n",
    "#### The table below includes a range of technical information about each band in the `ga_ls5t_ard_3` dataset, including any **aliases** which can be used to load the data, the data type or **dtype**, any **flags_definition** that are associated with the measurement (this information is used for tasks like cloud masking), and the measurement's **nodata** value."
   ]
  },
  {
   "cell_type": "code",
   "execution_count": null,
   "metadata": {},
   "outputs": [],
   "source": [
    "product = \"ga_ls5t_ard_3\"\n",
    "measurements = dc.list_measurements()\n",
    "measurements.loc[product]"
   ]
  },
  {
   "cell_type": "markdown",
   "metadata": {},
   "source": [
    "#### Exercise 1.1: Can you use the `list_measurements()` function above to show information relative to the `wofs_albers` product? \n",
    "\n",
    "#### If you remember from the bit flags tutorial, this product encodes classes encoded as bits into a 16-bit integer. Can you determine how WOfS encodes dry conditions? \n",
    "\n",
    "* **a)** Bit 0 is set to 0\n",
    "* **b)** Bit 0 is set to 1\n",
    "* **c)** All bits in positions [7, 6, 5, 4, 3, 1, 0] are set to 1\n",
    "* **d)** All bits in positions [7, 6, 5, 4, 3, 1, 0] are set to 0"
   ]
  },
  {
   "cell_type": "code",
   "execution_count": null,
   "metadata": {},
   "outputs": [],
   "source": [
    "# Substitute the ? symbols by either 'a', 'b', 'c' or 'd'\n",
    "answ = ?\n",
    "\n",
    "check_answer(\"DEA1.1\", answ)"
   ]
  },
  {
   "cell_type": "markdown",
   "metadata": {},
   "source": [
    "#### The interactive `DcViewer` utility provides a more visual way of exploring the data that is available within the Digital Earth Australia datacube. \n",
    "\n",
    "#### After running the cell below, select a product from the drop-down menu on the top-right of the map to show the areas where data are available in blue. Use the back and forward buttons above the map to toggle through time.\n",
    "\n",
    ">Note: The utility is only able to visualise a limited number of datasets at one time.\n",
    "If the available data footprints do not appear, either press the \"show\" button on the top right, or zoom in on the map."
   ]
  },
  {
   "cell_type": "code",
   "execution_count": null,
   "metadata": {},
   "outputs": [],
   "source": [
    "DcViewer(dc=dc, \n",
    "         time='2015', \n",
    "         width='800px',\n",
    "         center=(-27.48, 153.10),\n",
    "         zoom=7)"
   ]
  },
  {
   "cell_type": "markdown",
   "metadata": {},
   "source": [
    "#### Another way to view the available data within a datacube is to visit the DEA Datacube Explorer sites. These webpages visualise the data that is available for every product in DEA.\n",
    "\n",
    "#### There is a different Datacube Explorer page for both the NCI and DEA Sandbox environments to account for the different datasets that are available in each of these datacubes:\n",
    "\n",
    "* [NCI DEA Datacube Explorer](http://explorer.dea.ga.gov.au)\n",
    "* [DEA Sandbox Datacube Explorer](http://explorer.sandbox.dea.ga.gov.au)\n",
    "\n",
    "![DEA Explorer](data/DEAExplorer.JPG)"
   ]
  },
  {
   "cell_type": "markdown",
   "metadata": {},
   "source": [
    "#### Exercise 1.2: Using the previous link to the DEA Sandbox Datacube Explorer, can you locate the collection named `ls8_fc_albers` and find the names of the measurements it contains on bottom right side?"
   ]
  },
  {
   "cell_type": "markdown",
   "metadata": {},
   "source": [
    "#### Disclaimer: The original notebook for this tutorial has been taken from the Sandbox `Beginners_guide` folder. Refer to the conditions specified in the original notebook and for updated versions of the code."
   ]
  },
  {
   "cell_type": "code",
   "execution_count": null,
   "metadata": {},
   "outputs": [],
   "source": []
  }
 ],
 "metadata": {
  "kernelspec": {
   "display_name": "Python 3",
   "language": "python",
   "name": "python3"
  },
  "language_info": {
   "codemirror_mode": {
    "name": "ipython",
    "version": 3
   },
   "file_extension": ".py",
   "mimetype": "text/x-python",
   "name": "python",
   "nbconvert_exporter": "python",
   "pygments_lexer": "ipython3",
   "version": "3.6.9"
  },
  "widgets": {
   "application/vnd.jupyter.widget-state+json": {
    "state": {
     "129f7d948e884d83bbad9b9b73235a6b": {
      "model_module": "@jupyter-widgets/base",
      "model_module_version": "1.2.0",
      "model_name": "LayoutModel",
      "state": {}
     },
     "1f7d6a7ddc0244268ff5f30f0cea6379": {
      "model_module": "jupyter-leaflet",
      "model_module_version": "^0.11.1",
      "model_name": "LeafletFullScreenControlModel",
      "state": {
       "_model_module_version": "^0.11.1",
       "_view_count": null,
       "_view_module_version": "^0.11.1",
       "options": [
        "position"
       ]
      }
     },
     "1fc730defabf4b038904c520e0f05a6a": {
      "model_module": "@jupyter-widgets/controls",
      "model_module_version": "1.5.0",
      "model_name": "ButtonModel",
      "state": {
       "icon": "step-forward",
       "layout": "IPY_MODEL_c616f333b7fa46c0822021f355149ee9",
       "style": "IPY_MODEL_afef678e0ed24bc09c75827db668f07c"
      }
     },
     "2f0d8cf940fe41419baae132e95644d6": {
      "model_module": "@jupyter-widgets/base",
      "model_module_version": "1.2.0",
      "model_name": "LayoutModel",
      "state": {}
     },
     "398f5d300a1f4653ab52636a024c3306": {
      "model_module": "@jupyter-widgets/controls",
      "model_module_version": "1.5.0",
      "model_name": "VBoxModel",
      "state": {
       "children": [
        "IPY_MODEL_a7835eb8974047ed845d13432d379646",
        "IPY_MODEL_7a6095e0e8e443968d0efa04ef413bdf"
       ],
       "layout": "IPY_MODEL_d23213c744bf4fe5a70fcde0379800ee"
      }
     },
     "3b8e1b5fcf314969b9f5b2874e63653b": {
      "model_module": "@jupyter-widgets/controls",
      "model_module_version": "1.5.0",
      "model_name": "DescriptionStyleModel",
      "state": {
       "description_width": ""
      }
     },
     "40455dfb98454023aea488c6f8a9779f": {
      "model_module": "@jupyter-widgets/base",
      "model_module_version": "1.2.0",
      "model_name": "LayoutModel",
      "state": {
       "flex": "1 0 auto"
      }
     },
     "4230c445364b496fbfd02c619494615a": {
      "model_module": "@jupyter-widgets/controls",
      "model_module_version": "1.5.0",
      "model_name": "DescriptionStyleModel",
      "state": {
       "description_width": ""
      }
     },
     "4a2fee5893a44f00a7e92b05b0f6a12a": {
      "model_module": "@jupyter-widgets/controls",
      "model_module_version": "1.5.0",
      "model_name": "DescriptionStyleModel",
      "state": {
       "description_width": ""
      }
     },
     "4c62478f806a4ec2a2e77c3c7f910448": {
      "model_module": "@jupyter-widgets/base",
      "model_module_version": "1.2.0",
      "model_name": "LayoutModel",
      "state": {
       "flex": "0 1 auto",
       "width": "6em"
      }
     },
     "4d7cccbef17b4c6993dad190a688547a": {
      "model_module": "@jupyter-widgets/controls",
      "model_module_version": "1.5.0",
      "model_name": "ButtonModel",
      "state": {
       "icon": "step-backward",
       "layout": "IPY_MODEL_59be4c89c61f42fa85952a0c6e2062e7",
       "style": "IPY_MODEL_9efb3d86512c4ebfbbc62e73ccf9e38e"
      }
     },
     "59be4c89c61f42fa85952a0c6e2062e7": {
      "model_module": "@jupyter-widgets/base",
      "model_module_version": "1.2.0",
      "model_name": "LayoutModel",
      "state": {
       "flex": "0 1 auto",
       "width": "3em"
      }
     },
     "5ab94031460b49faad1813d446b8304d": {
      "model_module": "jupyter-leaflet",
      "model_module_version": "^0.11.1",
      "model_name": "LeafletZoomControlModel",
      "state": {
       "_model_module_version": "^0.11.1",
       "_view_count": null,
       "_view_module_version": "^0.11.1",
       "options": [
        "position",
        "zoom_in_text",
        "zoom_in_title",
        "zoom_out_text",
        "zoom_out_title"
       ]
      }
     },
     "6285c549c9f042e98789e444193169b8": {
      "model_module": "@jupyter-widgets/base",
      "model_module_version": "1.2.0",
      "model_name": "LayoutModel",
      "state": {
       "flex": "0 1 auto",
       "width": "10em"
      }
     },
     "65904795fe504269ad9342441e20ff46": {
      "model_module": "@jupyter-widgets/base",
      "model_module_version": "1.2.0",
      "model_name": "LayoutModel",
      "state": {}
     },
     "66b687fd5c6245f9897db297f235aac9": {
      "model_module": "jupyter-leaflet",
      "model_module_version": "^0.11.1",
      "model_name": "LeafletTileLayerModel",
      "state": {
       "_model_module_version": "^0.11.1",
       "_view_count": null,
       "_view_module_version": "^0.11.1",
       "base": true,
       "max_native_zoom": 18,
       "max_zoom": 19,
       "min_native_zoom": 0,
       "min_zoom": 1,
       "no_wrap": false,
       "options": [
        "attribution",
        "detect_retina",
        "max_native_zoom",
        "max_zoom",
        "min_native_zoom",
        "min_zoom",
        "no_wrap",
        "tile_size"
       ]
      }
     },
     "676a833c965749d5bf8cb079aa452167": {
      "model_module": "@jupyter-widgets/controls",
      "model_module_version": "1.5.0",
      "model_name": "TextModel",
      "state": {
       "layout": "IPY_MODEL_4c62478f806a4ec2a2e77c3c7f910448",
       "style": "IPY_MODEL_3b8e1b5fcf314969b9f5b2874e63653b",
       "value": "2015"
      }
     },
     "718d95e84ee44df1aa1d6c0e02f6cebd": {
      "model_module": "jupyter-leaflet",
      "model_module_version": "^0.11.1",
      "model_name": "LeafletMapStyleModel",
      "state": {
       "_model_module_version": "^0.11.1",
       "_view_count": null,
       "_view_module": "@jupyter-widgets/base",
       "_view_module_version": "1.2.0",
       "_view_name": "StyleView",
       "cursor": "grab"
      }
     },
     "736f61b2a5c64792b4c12b1367ade2ed": {
      "model_module": "@jupyter-widgets/controls",
      "model_module_version": "1.5.0",
      "model_name": "DescriptionStyleModel",
      "state": {
       "description_width": ""
      }
     },
     "74f91e1df3f14e86adb32f2a2134d2ef": {
      "model_module": "@jupyter-widgets/controls",
      "model_module_version": "1.5.0",
      "model_name": "ButtonModel",
      "state": {
       "description": "show",
       "layout": "IPY_MODEL_a506d301b2114ceeb7c1cbda0ca33bdc",
       "style": "IPY_MODEL_e7316db4082b47868e4db759ad31a7a6"
      }
     },
     "7a6095e0e8e443968d0efa04ef413bdf": {
      "model_module": "jupyter-leaflet",
      "model_module_version": "^0.11.1",
      "model_name": "LeafletMapModel",
      "state": {
       "_dom_classes": [],
       "_model_module_version": "^0.11.1",
       "_view_count": null,
       "_view_module_version": "^0.11.1",
       "basemap": {
        "attribution": "Map data (c) <a href=\"https://openstreetmap.org\">OpenStreetMap</a> contributors",
        "max_zoom": 19,
        "url": "https://{s}.tile.openstreetmap.org/{z}/{x}/{y}.png"
       },
       "center": [
        -27.48,
        153.1
       ],
       "controls": [
        "IPY_MODEL_5ab94031460b49faad1813d446b8304d",
        "IPY_MODEL_d80a54f763fc467daa2bbfc2485a21d4",
        "IPY_MODEL_1f7d6a7ddc0244268ff5f30f0cea6379"
       ],
       "default_style": "IPY_MODEL_a635750410474bc59bdf2422343d86fd",
       "dragging_style": "IPY_MODEL_9be3489eb5e348a3a700790274ce5e28",
       "east": 157.47802734375,
       "fullscreen": false,
       "interpolation": "bilinear",
       "layers": [
        "IPY_MODEL_66b687fd5c6245f9897db297f235aac9"
       ],
       "layout": "IPY_MODEL_65904795fe504269ad9342441e20ff46",
       "modisdate": "yesterday",
       "north": -25.512700007620513,
       "options": [
        "basemap",
        "bounce_at_zoom_limits",
        "box_zoom",
        "center",
        "close_popup_on_click",
        "double_click_zoom",
        "dragging",
        "fullscreen",
        "inertia",
        "inertia_deceleration",
        "inertia_max_speed",
        "interpolation",
        "keyboard",
        "keyboard_pan_offset",
        "keyboard_zoom_offset",
        "max_zoom",
        "min_zoom",
        "scroll_wheel_zoom",
        "tap",
        "tap_tolerance",
        "touch_zoom",
        "world_copy_jump",
        "zoom",
        "zoom_animation_threshold",
        "zoom_start"
       ],
       "scroll_wheel_zoom": true,
       "south": -29.410890376109013,
       "style": "IPY_MODEL_718d95e84ee44df1aa1d6c0e02f6cebd",
       "west": 148.73291015625003,
       "zoom": 7
      }
     },
     "89df2216fae941bc988b7f5e71886411": {
      "model_module": "@jupyter-widgets/controls",
      "model_module_version": "1.5.0",
      "model_name": "LabelModel",
      "state": {
       "layout": "IPY_MODEL_40455dfb98454023aea488c6f8a9779f",
       "style": "IPY_MODEL_736f61b2a5c64792b4c12b1367ade2ed",
       "value": "0 datasets in view"
      }
     },
     "92f4a7eb4181421da4aec923785fed39": {
      "model_module": "@jupyter-widgets/controls",
      "model_module_version": "1.5.0",
      "model_name": "LabelModel",
      "state": {
       "layout": "IPY_MODEL_129f7d948e884d83bbad9b9b73235a6b",
       "style": "IPY_MODEL_4230c445364b496fbfd02c619494615a",
       "value": "Time Period"
      }
     },
     "9be3489eb5e348a3a700790274ce5e28": {
      "model_module": "jupyter-leaflet",
      "model_module_version": "^0.11.1",
      "model_name": "LeafletMapStyleModel",
      "state": {
       "_model_module_version": "^0.11.1",
       "_view_count": null,
       "_view_module": "@jupyter-widgets/base",
       "_view_module_version": "1.2.0",
       "_view_name": "StyleView",
       "cursor": "move"
      }
     },
     "9efb3d86512c4ebfbbc62e73ccf9e38e": {
      "model_module": "@jupyter-widgets/controls",
      "model_module_version": "1.5.0",
      "model_name": "ButtonStyleModel",
      "state": {}
     },
     "a251d80f203e41cbbc7b25367dd43d39": {
      "model_module": "@jupyter-widgets/controls",
      "model_module_version": "1.5.0",
      "model_name": "DropdownModel",
      "state": {
       "_options_labels": [
        "camden_insar_alos_displacement",
        "fc_percentile_albers_annual",
        "fc_percentile_albers_seasonal",
        "ga_ls5t_ard_3",
        "ga_ls7e_ard_3",
        "ga_ls8c_ard_3",
        "ga_s2a_ard_nbar_granule",
        "ga_s2am_fractional_cover_2",
        "ga_s2b_ard_nbar_granule",
        "ga_s2bm_fractional_cover_2",
        "high_tide_comp_20p",
        "item_v2",
        "item_v2_conf",
        "landsat_barest_earth",
        "low_tide_comp_20p",
        "ls5_ard",
        "ls5_fc_albers",
        "ls5_level1_usgs",
        "ls5_nbart_geomedian_annual",
        "ls5_nbart_tmad_annual",
        "ls5_pq_albers",
        "ls5_usgs_l2c1",
        "ls7_ard",
        "ls7_fc_albers",
        "ls7_level1_usgs",
        "ls7_nbart_geomedian_annual",
        "ls7_nbart_tmad_annual",
        "ls7_pq_albers",
        "ls7_usgs_l2c1",
        "ls8_ard",
        "ls8_barest_earth_albers",
        "ls8_fc_albers",
        "ls8_level1_usgs",
        "ls8_nbart_geomedian_annual",
        "ls8_nbart_tmad_annual",
        "ls8_pq_albers",
        "ls8_usgs_l2c1",
        "mangrove_cover",
        "multi_scale_topographic_position",
        "nidem",
        "s1_gamma0_geotif_scene",
        "s2a_ard_granule",
        "s2a_l1c_aws_pds",
        "s2a_level1c_granule",
        "s2a_nrt_granule",
        "s2b_ard_granule",
        "s2b_l1c_aws_pds",
        "s2b_level1c_granule",
        "s2b_nrt_granule",
        "s2_tsmask",
        "sentinel2_wofs_nrt",
        "usgs_ls5t_level1_1",
        "usgs_ls7e_level1_1",
        "usgs_ls8c_level1_1",
        "weathering_intensity",
        "wofs_albers",
        "wofs_annual_summary",
        "wofs_apr_oct_summary",
        "wofs_filtered_summary",
        "wofs_nov_mar_summary",
        "wofs_summary"
       ],
       "index": 0,
       "layout": "IPY_MODEL_6285c549c9f042e98789e444193169b8",
       "style": "IPY_MODEL_4a2fee5893a44f00a7e92b05b0f6a12a"
      }
     },
     "a506d301b2114ceeb7c1cbda0ca33bdc": {
      "model_module": "@jupyter-widgets/base",
      "model_module_version": "1.2.0",
      "model_name": "LayoutModel",
      "state": {
       "flex": "0 1 auto",
       "width": "6em"
      }
     },
     "a635750410474bc59bdf2422343d86fd": {
      "model_module": "jupyter-leaflet",
      "model_module_version": "^0.11.1",
      "model_name": "LeafletMapStyleModel",
      "state": {
       "_model_module_version": "^0.11.1",
       "_view_count": null,
       "_view_module": "@jupyter-widgets/base",
       "_view_module_version": "1.2.0",
       "_view_name": "StyleView",
       "cursor": "grab"
      }
     },
     "a7835eb8974047ed845d13432d379646": {
      "model_module": "@jupyter-widgets/controls",
      "model_module_version": "1.5.0",
      "model_name": "HBoxModel",
      "state": {
       "children": [
        "IPY_MODEL_a251d80f203e41cbbc7b25367dd43d39",
        "IPY_MODEL_92f4a7eb4181421da4aec923785fed39",
        "IPY_MODEL_676a833c965749d5bf8cb079aa452167",
        "IPY_MODEL_4d7cccbef17b4c6993dad190a688547a",
        "IPY_MODEL_1fc730defabf4b038904c520e0f05a6a",
        "IPY_MODEL_89df2216fae941bc988b7f5e71886411",
        "IPY_MODEL_74f91e1df3f14e86adb32f2a2134d2ef"
       ],
       "layout": "IPY_MODEL_2f0d8cf940fe41419baae132e95644d6"
      }
     },
     "afef678e0ed24bc09c75827db668f07c": {
      "model_module": "@jupyter-widgets/controls",
      "model_module_version": "1.5.0",
      "model_name": "ButtonStyleModel",
      "state": {}
     },
     "c616f333b7fa46c0822021f355149ee9": {
      "model_module": "@jupyter-widgets/base",
      "model_module_version": "1.2.0",
      "model_name": "LayoutModel",
      "state": {
       "flex": "0 1 auto",
       "width": "3em"
      }
     },
     "d23213c744bf4fe5a70fcde0379800ee": {
      "model_module": "@jupyter-widgets/base",
      "model_module_version": "1.2.0",
      "model_name": "LayoutModel",
      "state": {
       "width": "800px"
      }
     },
     "d80a54f763fc467daa2bbfc2485a21d4": {
      "model_module": "jupyter-leaflet",
      "model_module_version": "^0.11.1",
      "model_name": "LeafletAttributionControlModel",
      "state": {
       "_model_module_version": "^0.11.1",
       "_view_count": null,
       "_view_module_version": "^0.11.1",
       "options": [
        "position",
        "prefix"
       ],
       "position": "bottomright",
       "prefix": "Leaflet"
      }
     },
     "e7316db4082b47868e4db759ad31a7a6": {
      "model_module": "@jupyter-widgets/controls",
      "model_module_version": "1.5.0",
      "model_name": "ButtonStyleModel",
      "state": {}
     }
    },
    "version_major": 2,
    "version_minor": 0
   }
  }
 },
 "nbformat": 4,
 "nbformat_minor": 4
}
