{
 "cells": [
  {
   "cell_type": "markdown",
   "metadata": {},
   "source": [
    "# Introduction to DEA Water Observations <img align=\"right\" src=\"../Supplementary_data/dea_logo.jpg\">\n",
    "\n",
    "## Background\n",
    "It is important to know where water is normally present in a landscape, where water is rarely observed, and where inundation has occasionally occurred.\n",
    "\n",
    "These observations tell us where flooding has occurred in the past, and allows us to understand wetlands, water connectivity and surface-groundwater relationships. This can lead to more effective emergency management and risk assessment.\n",
    "\n",
    "This is the principal [Digital Earth Australia (DEA) Water Observations product](https://cmi.ga.gov.au/data-products/dea/613/dea-water-observations-landsat) (previously known as Water Observations from Space), providing the individual water observations per satellite image that are subsequently used in the following DEA Water Observations suite and related water bodies products. \n",
    "\n",
    "This product shows where surface water was observed by the Landsat satellites on any particular day since mid 1986. These daily data layers are termed Water Observations (WOs).\n",
    "\n",
    "### What this product offers\n",
    "DEA Water Observations provides surface water observations derived from Landsat satellite imagery for all of Australia from 1986 to present.\n",
    "\n",
    "The WOs show the extent of water in a corresponding Landsat scene, along with the degree to which the scene was obscured by clouds, shadows or where sensor problems cause parts of a scene to not be observable. \n",
    "\n",
    "### Applications\n",
    "The DEA Water Observations (WOs) are used to determine the area of surface water present in the corresponding satellite scene, and can be used for several water monitoring applications. Uses of the individual WOs include:\n",
    "\n",
    "* flood extent\n",
    "* amount of water in water bodies, major rivers and the coastal zone.\n",
    "\n",
    "As the WOs are separated from the derived statistics of the associated DEA Water Observations statistical products, the WOs are most useful for performing analyses requiring the investigation of surface water extent for particular times rather than over long term time series.\n",
    "\n",
    "### Publications\n",
    "* Mueller, N., Lewis, A., Roberts, D., Ring, S., Melrose, R., Sixsmith, J., Lymburner, L., McIntyre, A., Tan, P., Curnow, S., & Ip, A. (2016). [Water observations from space: Mapping surface water from 25 years of Landsat imagery across Australia](https://doi.org/10.1016/j.rse.2015.11.003). Remote Sensing of Environment, 174, 341–352. \n",
    "\n",
    "> **Note:** For technical information about DEA Water Observations, visit the official [Geoscience Australia DEA Water Observations product description](https://cmi.ga.gov.au/data-products/dea/613/dea-water-observations-landsat)."
   ]
  },
  {
   "cell_type": "markdown",
   "metadata": {},
   "source": [
    "### Load packages"
   ]
  },
  {
   "cell_type": "code",
   "execution_count": null,
   "metadata": {},
   "outputs": [],
   "source": [
    "import sys\n",
    "import datacube\n",
    "from datacube.utils import masking\n",
    "import matplotlib.pyplot as plt\n",
    "\n",
    "sys.path.append('./Scripts')\n",
    "from dea_plotting import plot_wo\n",
    "from dea_datahandling import wofs_fuser"
   ]
  },
  {
   "cell_type": "markdown",
   "metadata": {},
   "source": [
    "## Available products and measurements\n",
    "\n",
    "### List products available in Digital Earth Australia"
   ]
  },
  {
   "cell_type": "code",
   "execution_count": null,
   "metadata": {},
   "outputs": [],
   "source": [
    "dc = datacube.Datacube(app='DEA_Water_Observations')\n",
    "\n",
    "# List DEA Water Observations products available in DEA\n",
    "dc_products = dc.list_products()\n",
    "display_columns = ['name', 'default_crs', 'default_resolution']\n",
    "\n",
    "display(dc_products[dc_products.name == 'ga_ls_wo_3']  [display_columns].set_index('name'))"
   ]
  },
  {
   "cell_type": "markdown",
   "metadata": {},
   "source": [
    "### List measurements"
   ]
  },
  {
   "cell_type": "code",
   "execution_count": null,
   "metadata": {},
   "outputs": [],
   "source": [
    "dc_measurements = dc.list_measurements()\n",
    "dc_measurements.loc['ga_ls_wo_3']"
   ]
  },
  {
   "cell_type": "markdown",
   "metadata": {},
   "source": [
    "## Loading data\n",
    "Now that we know what products and measurements are available for the products, we can load WOs data from Digital Earth Australia for an example location.\n",
    "\n",
    "As WOs are created scene-by-scene and some scenes overlap, it is important when loading data to `group_by` solar day, and ensure that the data between scenes is combined correctly by using the WOs `fuse_func`.\n",
    "This will merge observations taken on the same day, and ensure that important data isn not lost when overlapping datasets are combined."
   ]
  },
  {
   "cell_type": "code",
   "execution_count": null,
   "metadata": {},
   "outputs": [],
   "source": [
    "# Set up a region to load data\n",
    "query = {\n",
    "    'y': (-31.18, -31.12),\n",
    "    'x': (116.84, 116.90),\n",
    "    'time': ('1996-09-01', '1996-12-30'),\n",
    "}\n",
    "\n",
    "# Load DEA Water Observations data from the datacube\n",
    "wo = dc.load(product='ga_ls_wo_3',\n",
    "             output_crs='EPSG:3577',\n",
    "             resolution=(-30, 30),\n",
    "             group_by='solar_day',\n",
    "             fuse_func=wofs_fuser,\n",
    "             **query)"
   ]
  },
  {
   "cell_type": "markdown",
   "metadata": {},
   "source": [
    "We can now view the data that we loaded.\n",
    "The measurements listed under `Data variables` should match the measurements displayed in the previous [List measurements](#List-measurements) step."
   ]
  },
  {
   "cell_type": "code",
   "execution_count": null,
   "metadata": {},
   "outputs": [],
   "source": [
    "wo"
   ]
  },
  {
   "cell_type": "markdown",
   "metadata": {},
   "source": [
    "### Plotting data\n",
    "We can plot DEA Water Observations using the `plot_wo` function. We can see that our study area includes one large and several small waterbodies which are changing in size over time. We can also see that some observations (e.g. first and fourth panels) contain clouds and cloud shadow.\n"
   ]
  },
  {
   "cell_type": "code",
   "execution_count": null,
   "metadata": {},
   "outputs": [],
   "source": [
    "plot_wo(wo.water, col='time', size=4, col_wrap=4)"
   ]
  },
  {
   "cell_type": "markdown",
   "metadata": {},
   "source": [
    "## Understanding WOs bit flags\n",
    "WOs data are stored as a bit field. This is a binary number, where each digit of the number is independantly set based on the presence (1) or absence (0) of a particular attribute (water, cloud, cloud shadow etc). In this way, a single decimal value for each pixel can provide information about a variety of features of that pixel. \n",
    "\n",
    "Below is a breakdown of which bits represent which features, along with the decimal value associated with that bit being set to true.\n",
    "\n",
    "| Attribute | Bit / position   | Decimal value |\n",
    "|------|------|----|\n",
    "| No data | 0:   `0-------` or `1-------` | 1|\n",
    "| Non contiguous | 1:   `-0------` or `-1------` | 2 |\n",
    "| Sea | 2:   `--0-----` or `--1-----` | 4 |\n",
    "| Terrain or low solar angle | 3:   `---0----` or `---1----` | 8 |\n",
    "| High slope | 4:   `----0---` or `----1---` | 16 |\n",
    "| Cloud shadow | 5:   `-----0--` or `-----1--` | 32 |\n",
    "| Cloud | 6:   `------0-` or `------1-` | 64 |\n",
    "| Water | 7:   `-------0` or `-------1` | 128 |\n",
    "\n",
    "Any combinations of flags can be combined to create a unique decimal value. \n",
    "For example, a value of 136 indicates that water (128) AND terrain shadow / low solar angle (8) were observed for the pixel (i.e. 128 + 8 = 136).\n",
    "A value of 144 would indicate water (128) AND high slope (16) were observed (128 + 16 = 144).\n",
    "\n",
    "This flag information is available inside the loaded data and can be visualised as below:"
   ]
  },
  {
   "cell_type": "code",
   "execution_count": null,
   "metadata": {},
   "outputs": [],
   "source": [
    "# Display details of available flags\n",
    "flags = masking.describe_variable_flags(wo)\n",
    "flags['bits'] = flags['bits'].astype(str)\n",
    "flags.sort_values(by='bits')"
   ]
  },
  {
   "cell_type": "markdown",
   "metadata": {},
   "source": [
    "### Masking using WOs bit flags\n",
    "We can convert the WOs bit field into a binary array containing True and False values. \n",
    "This allows us to use the WOFL data as a mask that can be applied to other datasets.\n",
    "\n",
    "The `make_mask` function allows us to create a mask using the flag labels (e.g. \"wet\" or \"dry\") rather than the binary numbers we used above. For example, we can easily identify pixels that were wet in each image (i.e. yellow) by passing the flag `wet=True`:"
   ]
  },
  {
   "cell_type": "code",
   "execution_count": null,
   "metadata": {},
   "outputs": [],
   "source": [
    "# Keeping only dry, non-cloudy pixels\n",
    "wo_wet = masking.make_mask(wo, wet=True)\n",
    "\n",
    "# Plot output mask\n",
    "wo_wet.water.plot(col='time', size=4, col_wrap=4)"
   ]
  },
  {
   "cell_type": "markdown",
   "metadata": {},
   "source": [
    "#### Excercise W1.1: Can you compute another mask for pixels categorised as 'clouds' and plot the result of 'water' or 'cloud' pixels. Can you modify the last line so it plots the pixels that are categorised as 'water' and 'cloud'?"
   ]
  },
  {
   "cell_type": "code",
   "execution_count": null,
   "metadata": {},
   "outputs": [],
   "source": [
    "import xarray as xr\n",
    "\n",
    "# Keeping only dry, non-cloudy pixels\n",
    "wo_mask = masking.make_mask(wo, wet=True, ?)\n",
    "\n",
    "# Combine and plot\n",
    "wo_mask.water.plot(col='time', size=4, col_wrap=4)"
   ]
  },
  {
   "cell_type": "markdown",
   "metadata": {},
   "source": [
    "> **Note:** For more technical information about the DEA Water Observations's bit flags, refer to the Details tab of the official [Geoscience Australia DEA Water Observations product description](https://cmi.ga.gov.au/data-products/dea/613/dea-water-observations-landsat#details)."
   ]
  },
  {
   "cell_type": "markdown",
   "metadata": {},
   "source": [
    "## Example application: mapping inundation frequency and tracking changes in surface water over time\n",
    "The following section will demonstrate a simple analysis workflow based on DEA Water Observations. \n",
    "In this example, we will process our loaded WOs data so that we can map inundation frequency across our study area, and consistently track changes in surface water area over time.\n"
   ]
  },
  {
   "cell_type": "markdown",
   "metadata": {},
   "source": [
    "### Identifying clear pixels\n",
    "\n",
    "In the previous example, we used the `wet=True` bit flag to identify pixels that contained water. However, using wet pixels on their own can lead to misleading results. For example, the fourth image above gives the false impression that our waterbody reduced significantly in size, when in reality part of the waterbody was obscured by cloud and cloud shadow. \n",
    "\n",
    "To deal with this, we first need to remove cloud, cloud shadow and other sources of invalid data from our datset. We can do this by identifying \"clear\" pixels, i.e. those that were observed as either wet *or* dry by the DEA Water Observations algorithm. The resulting images will show clear pixels as yellow, and unclear pixels as purple:"
   ]
  },
  {
   "cell_type": "code",
   "execution_count": null,
   "metadata": {},
   "outputs": [],
   "source": [
    "# Identify clear pixels that were either dry or clear\n",
    "wo_dry = masking.make_mask(wo, dry=True)\n",
    "wo_clear = wo_wet + wo_dry\n",
    "\n",
    "# Plot clear pixels over time\n",
    "wo_clear.water.plot(col='time', size=4, col_wrap=4)"
   ]
  },
  {
   "cell_type": "markdown",
   "metadata": {},
   "source": [
    "We can also achieve a similar result by combining multiple bit flags.\n",
    "When chaining flags together, they will be combined in a logical AND fashion:"
   ]
  },
  {
   "cell_type": "code",
   "execution_count": null,
   "metadata": {},
   "outputs": [],
   "source": [
    "# Identify clear pixels that were not cloud, shadow or nodata\n",
    "wo_clear = masking.make_mask(wo, cloud_shadow=False, cloud=False, nodata=False)\n",
    "\n",
    "# Plot clear pixels over time\n",
    "wo_clear.water.plot(col='time', size=4, col_wrap=4)"
   ]
  },
  {
   "cell_type": "markdown",
   "metadata": {},
   "source": [
    "We can then use this as a mask to remove unclear pixels from our data. When we plot this, we can see that these pixels have now been set to `NaN` (i.e. white areas below):"
   ]
  },
  {
   "cell_type": "code",
   "execution_count": null,
   "metadata": {},
   "outputs": [],
   "source": [
    "# Apply clear data as a mask to remove unclear pixels\n",
    "wo_masked = wo_wet.where(wo_clear).water\n",
    "\n",
    "# Plot the masked data\n",
    "wo_masked.plot(col='time', size=5, col_wrap=4)"
   ]
  },
  {
   "cell_type": "markdown",
   "metadata": {},
   "source": [
    "### Inundation frequency\n",
    "Now that we have correctly masked clouds, shadow and other invalid data, we can calculate the frequency that each pixel in our study area was observed as wet.\n",
    "We can do this by taking the mean wetness of each pixel through time. \n",
    "\n",
    "Dark colours indicate pixels that were wet almost 100% of our time period, while light blue pixels only occasionally contained water."
   ]
  },
  {
   "cell_type": "code",
   "execution_count": null,
   "metadata": {},
   "outputs": [],
   "source": [
    "# Calculate mean wetness through time\n",
    "wo_freq = wo_masked.mean(dim=['time'])\n",
    "\n",
    "# Plot with dark blue = high frequency\n",
    "wo_freq.plot(size=5, cmap='Blues')\n",
    "plt.title('Inundation frequency (% wet observations)')"
   ]
  },
  {
   "cell_type": "markdown",
   "metadata": {},
   "source": [
    "#### Excercise W1.2: The previous plot shows the percentage of observations that are wet for each pixel. The pixels are boolean values represented by the numbers `1` for `True` and `0` for `False`. Can you find an alternative way of plotting the total number of wet observations for every pixel instead?"
   ]
  },
  {
   "cell_type": "code",
   "execution_count": null,
   "metadata": {},
   "outputs": [],
   "source": []
  },
  {
   "cell_type": "markdown",
   "metadata": {},
   "source": [
    "### Surface water over time\n",
    "Similarly, we can track the percentage of our study area that contained water over time to inspect trends and changes in surface water.\n",
    "\n",
    "To do this, we can take the mean surface water percent across each observation in our dataset:"
   ]
  },
  {
   "cell_type": "code",
   "execution_count": null,
   "metadata": {},
   "outputs": [],
   "source": [
    "# Calculate percent surface water over time\n",
    "wo_time = wo_masked.mean(dim=['x', 'y'])\n",
    "\n",
    "# Plot as a line graph\n",
    "wo_time.plot(size=5)\n",
    "plt.title('Surface water over time (%)')"
   ]
  },
  {
   "cell_type": "markdown",
   "metadata": {},
   "source": [
    "### Dropping poorly observed scenes\n",
    "In the line chart above, we can see that surface water has smoothly reduced over time, except for a small deviation at our fourth observation. This occured because cloud and show obscured part of that image, slightly distorting our calculation of how full the waterbody was at that moment in time.\n",
    "\n",
    "To compare surface water consistently, we can restrict our analysis to observations where less than (for example) 20% of pixels contained cloud, shadow or other invalid pixels. This allows us to obtain a more reliable view of how surface water has changed at our location:"
   ]
  },
  {
   "cell_type": "code",
   "execution_count": null,
   "metadata": {},
   "outputs": [],
   "source": [
    "# Calculate the percent of nodata pixels in each observation\n",
    "percent_nodata = wo_masked.isnull().mean(dim=['x', 'y'])\n",
    "\n",
    "# Use this to filter to observations with less than 20% nodata\n",
    "wo_masked = wo_masked.sel(time=percent_nodata < 0.2)\n",
    "\n",
    "# The data now contains only three observations\n",
    "wo_masked.mean(dim=['x', 'y']).plot(size=5)"
   ]
  },
  {
   "cell_type": "markdown",
   "metadata": {},
   "source": [
    "#### Disclaimer: The original notebook for this tutorial has been taken from the Sandbox Beginners_guide folder. Refer to the conditions specified in the original notebook and for updated versions of the code."
   ]
  },
  {
   "cell_type": "code",
   "execution_count": null,
   "metadata": {},
   "outputs": [],
   "source": []
  }
 ],
 "metadata": {
  "kernelspec": {
   "display_name": "Python 3",
   "language": "python",
   "name": "python3"
  },
  "language_info": {
   "codemirror_mode": {
    "name": "ipython",
    "version": 3
   },
   "file_extension": ".py",
   "mimetype": "text/x-python",
   "name": "python",
   "nbconvert_exporter": "python",
   "pygments_lexer": "ipython3",
   "version": "3.6.9"
  },
  "widgets": {
   "application/vnd.jupyter.widget-state+json": {
    "state": {},
    "version_major": 2,
    "version_minor": 0
   }
  }
 },
 "nbformat": 4,
 "nbformat_minor": 4
}
