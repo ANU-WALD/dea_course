{
 "cells": [
  {
   "cell_type": "markdown",
   "metadata": {},
   "source": [
    "# Introduction to DEA Landsat surface reflectance\n",
    "\n",
    "**Background:** Surface reflectance products from three Landsat satellites (**Landsat 5, 7 and 8**) are available for access through Geoscience Australia's Digital Earth Australia (DEA). This document includes a short introduction to the Landsat program, and describes the surface reflectance product suite (**NBAR and NBAR-T**) available through DEA. The code snippets in this doc will retrieve, modify and plot the data for `ls*_ard` , where `*` is 5, 7 or 8 denote the satellite.\n",
    "\n",
    "**What does this document do?**\n",
    "\n",
    "- Show how to use datacube to retrieve Landsat data for various temporal and spatial extents\n",
    "- Plot individual Landsat bands\n",
    "- Plot multiple Landsat bands as a true colour image\n",
    "- Plot multiple Landsat bands as a false colour image\n",
    "- Demonstrate how to compute and plot simple remote sensing band indices\n",
    "\n",
    "Adapted to the Sandbox environment from the original DEA notebook by: Robbi Bishop-Taylor, Arapaut Sivaprasad, Claire Krause, Bex Dunn"
   ]
  },
  {
   "cell_type": "markdown",
   "metadata": {},
   "source": [
    "## About Landsat \n",
    "\n",
    "\"Landsat represents the world's longest continuously acquired collection of space-based moderate-resolution land remote sensing data. Four decades of imagery provides a unique resource for those who work in agriculture, geology, forestry, regional planning, education, mapping, and global change research. Landsat images are also invaluable for emergency response and disaster relief.\" [[1](#References)] \n",
    "\n",
    "\"In the mid-1960s an ambitious effort to develop and launch the first civilian Earth observation satellite was started. The goal was achieved on July 23, 1972, with the launch of the Earth Resources Technology Satellite (ERTS-1), which was later renamed Landsat 1. The launches of Landsat 2, Landsat 3, and Landsat 4 followed in 1975, 1978, and 1982, respectively. When Landsat 5 was launched in 1984, no one could have predicted that the satellite would continue to deliver high quality, global data of Earth's land surfaces for 28 years and 10 months until its retirement in June, 2013. Landsat 6, however, failed to achieve orbit in 1993. Landsat 7 was successfully launched in 1999 and, along with Landsat 8 launched in 2013, continues to provide daily global data. Landsat 9 is planned to be launched in late 2020.\" [[2](#References)]\n",
    "\n",
    "![Fig 1. Time-line of the working lives of Landsats since 1972](data/TimelineOnlyForWebRGB.jpg)\n"
   ]
  },
  {
   "cell_type": "markdown",
   "metadata": {},
   "source": [
    "### Basic details about Landsat 5 to 9 [[3](#References)][[4](#References)][[5](#References)][[6](#References)][[7](#References)]\n",
    "\n",
    "![Fig 2. Basic details about the Landsats](data/landsats.jpg)\n"
   ]
  },
  {
   "cell_type": "markdown",
   "metadata": {},
   "source": [
    "## Digital Earth Australia's Landsat archive\n",
    "\n",
    "GA has acquired Landsat imagery over Australia since 1979, including TM, ETM+ and OLI imagery. While this data has been used extensively for numerous land and coastal mapping studies, its utility for accurate monitoring of environmental resources has been limited by the processing methods that have been traditionally used to correct for inherent geometric and radiometric distortions in EO imagery. To improve access to Australia's archive of Landsat TM/ETM+/OLI data, GA has collaboratively developed an integrated approach to image data correction that incorporates normalising models to account for atmospheric effects, BRDF and topographic shading.\n",
    "\n",
    "The approach has been applied to Landsat TM/ETM+ and OLI imagery to create two surface reflectance products: **NBAR** and **NBAR-T**. [[9](#References)]"
   ]
  },
  {
   "cell_type": "markdown",
   "metadata": {},
   "source": [
    "## Landsat surface reflectance products \n",
    "\n",
    "The NBAR and NBAR-T surface reflectance product suite provides standardised optical surface reflectance datasets using robust physical models to correct for variations in image radiance values due to atmospheric properties, and sun and sensor geometry. The resulting stack of surface reflectance grids are consistent over space and time which is instrumental in identifying and quantifying environmental change. Surface reflectance is based on radiance data from the Landsat-5 TM, Landsat-7 ETM+ and Landsat-8 OLI/TIRS sensors. [[9](#References)]\n",
    "\n",
    "**NBAR** \n",
    "\n",
    "NBAR stands for Nadir-corrected BRDF Adjusted Reflectance, where BRDF stands for Bidirectional Reflectance Distribution Function. The approach involves atmospheric correction to compute surface-leaving radiance, and bi-directional reflectance modelling to remove the effects of topography and angular variation in reflectance.\n",
    "\n",
    "* The standardised NBAR product delivers calibrated optical surface reflectance data across land and coastal fringes. NBAR is a medium resolution (~25 m) grid based on the Landsat TM/ETM+/OLI archive and presents surface reflectance data in **25 square metre grid cells** in the **Australian Albers Equal Area (EPSG:3577)** projection system.\n",
    "* Radiance measurements from Earth Observation (EO) sensors do not directly quantify the surface reflectance of the Earth. Such measurements are modified by variations in atmospheric properties, sun position, sensor view angle, surface slope and surface aspect. To obtain consistent and comparable measures of Earth surface reflectance from EO, these variations need to be reduced or removed from the radiance measurements. This is especially important when comparing imagery acquired in different seasons and geographic regions.\n",
    "* NBAR surface reflectance is created using a physics-based, coupled BRDF and atmospheric correction model that can be applied to both flat and inclined surfaces. The resulting surface reflectance values are comparable both within individual images and between images acquired at different times and/or with different sensors. [[9](#References)]\n",
    "\n",
    "**NBAR-T**\n",
    "\n",
    "Surface reflectance NBAR-T includes a terrain illumination reflectance correction and has the same features of NBAR, along with some additional features.\n",
    "\n",
    "* The surface reflectance product is created using a physics-based coupled BRDF and atmospheric correction model that can be applied to both flat and inclined surfaces. The resulting surface reflectance values are comparable both within individual images and between images acquired at different times and/or with different sensors.\n",
    "* Terrain affects optical satellite images through both irradiance and bidirectional reflectance distribution function (BRDF) effects.\n",
    "Slopes facing the sun receive enhanced solar irradiance and appear brighter compared to those facing away from the sun.\n",
    "* For anisotropic surfaces, the radiance received at the satellite sensor from a sloping surface is also affected by surface BRDF which varies with combinations of surface landcover types, sun, and satellite geometry (sun and sensor view, and their relative azimuth angle) as well as topographic geometry (primarily slope and aspect angles). Consequently, to obtain comparable surface reflectance from satellite images covering mountainous areas, it is necessary to process the images to reduce or remove the topographic effect so that the images can be used for different purposes on the same spectral base.\n",
    "* A Digital Surface Model (DSM) resolution appropriate to the scale of the resolution of satellite image is needed for the best results. 1 second SRTM DSM is used for NBAR-T processing. [[9](#References)]\n",
    "\n",
    "\n",
    "### Nodata value \n",
    "\n",
    "Both NBAR and NBAR-T data contains **nodata pixels**, represented as `-999` values. For NBAR these values can represent pixels outside the observed area (e.g. along the edges of Landsat satellite paths), while in NBAR-T `-999` values can also indicate areas of deep terrain shadow. These values should be converted to a `NaN` value before using this data to avoid treating it as a valid value. [[9](#References)]"
   ]
  },
  {
   "cell_type": "markdown",
   "metadata": {},
   "source": [
    "### Available bands\n",
    "The sensors on the Landsats are different and collect reflected radiance in various spectral wavelengths. These are called bands. Details about the bands for satellites 5, 7 and 8 can be found at [[3](#References)], [[5](#References)] and [[6](#References)], respectively. The following bands are included in the DEA archive: band names to be used in code, when retrieving the data, are given in brackets.\n",
    "\n",
    "- **Landsat 5 and 7:**\n",
    "    - Excludes Landsat 5 Thematic Mapper (TM) thermal band and Multispectral Scanner (MSS) bands, and Landsat 7 Enhanced Thematic Mapper Plus (ETM+) thermal band and panchromatic band    \n",
    "    - Includes the following Landsat 5 TM and Landsat 7 ETM+ bands:  \n",
    "        - Band 1: blue (`blue`)\n",
    "        - Band 2: green (`green`)\n",
    "        - Band 3: red (`red`)\n",
    "        - Band 4: near-infrared (`nir`)\n",
    "        - Band 5: shortwave infrared 1 (`swir1`)\n",
    "        - Band 7: shortwave infrared 2 (`swir2`)\n",
    "- **Landsat 8:**\n",
    "    - Excludes the Operational Land Imager (OLI) panchromatic or cirrus bands, and Thermal Infrared Sensor (TIRS) bands\n",
    "    - Includes the following Operational Land Imager (OLI) bands:\n",
    "        - Band 1: coastal aerosol (`coastal_aerosol`)         \n",
    "        - Band 2: blue (`blue`)\n",
    "        - Band 3: green (`green`)\n",
    "        - Band 4: red (`red`)\n",
    "        - Band 5: near-infrared (`nir`)\n",
    "        - Band 6: shortwave infrared 1 (`swir1`)\n",
    "        - Band 7: shortwave infrared 2 (`swir2`)\n",
    "\n",
    "\n"
   ]
  },
  {
   "cell_type": "markdown",
   "metadata": {},
   "source": [
    "### Landsat 7 Scan Line Corrector failure\n",
    "\n",
    "\"The Scan Line Corrector (SLC) is an electro-optical mechanism composed of two parallel mirrors set at an angle on a shaft. The SLC is positioned behind the primary optics and compensates for the along-track motion of the spacecraft occurring during an active SMA cross-track scan. As a result, a rectilinear scan pattern is produced using the SLC instead of the zigzag pattern that would be produced without it. The SLC failed for Landsat 7 on May 31, 2003. Without an operating SLC, the ETM+ line of sight now traces a zig-zag pattern along the satellite ground track (see the figure above) resulting in wedge shaped scan-to-scan gaps (and alternating overlap areas) which increase in magnitude away from nadir. Despite the SLC failure, Landsat 7 ETM+ is still capable of acquiring useful image data with the SLC turned off (SLC-off), particularly within the central portion of any given scene.\" [[8](#References)]\n",
    "\n",
    "The top panel in the figure below shows how Landat 7 imagery appears prior to the May 31 2003 SLC failure (i.e. Landsat 7 SLC-on). The bottom panel shows the same area after the SLC failed (i.e. Landsat 7 SLC-off), with obvious diagonal striping that covers approximately 22% of the scene. This striping will be present in all post-May 31 2003 `ls7_nbar_albers` and `ls7_nbart_albers` data in the DEA archive. For certain applications, it may be best to completely exclude post post-May 31 2003 imagery from analyses.\n",
    "\n",
    "![Figure 3. Scan line corrected image.](data/SLC_comparison.jpg)"
   ]
  },
  {
   "cell_type": "markdown",
   "metadata": {},
   "source": [
    "## Retrieving Landsat data\n",
    "The following code demonstrates how to import Landsat data using DEA, plot the data, and perform simple analyses (i.e. generating remote sensing band indices)."
   ]
  },
  {
   "cell_type": "markdown",
   "metadata": {},
   "source": [
    "### Import modules"
   ]
  },
  {
   "cell_type": "code",
   "execution_count": null,
   "metadata": {},
   "outputs": [],
   "source": [
    "# %matplotlib inline\n",
    "import sys\n",
    "import warnings\n",
    "import datacube\n",
    "import matplotlib.pyplot as plt\n",
    "from datacube.storage import masking\n"
   ]
  },
  {
   "cell_type": "markdown",
   "metadata": {},
   "source": [
    "### Available Landsat products\n",
    "The `list_products` method in the Datacube class displays the names and details of all available products. For example, `ls7_nbar_albers` provides NBAR surface reflectance data generated using Landsat 7 imagery:"
   ]
  },
  {
   "cell_type": "code",
   "execution_count": null,
   "metadata": {
    "scrolled": true
   },
   "outputs": [],
   "source": [
    "# Connect to a datacube\n",
    "dc = datacube.Datacube(app='Intro to Landsat')\n",
    "\n",
    "# List metadata for all Landsat NBAR and NBART products available in DEA Sandbox\n",
    "dc_products = dc.list_products()\n",
    "display_columns = ['name', 'description', 'product_type', 'crs', 'resolution', 'spatial_dimensions']\n",
    "dc_products[dc_products['name'].str.contains(\"ls\")][display_columns].set_index('name')"
   ]
  },
  {
   "cell_type": "markdown",
   "metadata": {},
   "source": [
    "### Specify a *query* with coordinates and date range\n",
    "\n",
    "- **lat/lon:** Latitude and longitude of the area. e.g. Canberra = `'lat': (-35.25, -35.35), 'lon': (149.05, 149.17)`\n",
    "- **time:** Date range to fetch the scenes. The approximate time between two scenes is 16 days. If there is a location near a swath boundary, it may be captured in two passes and so there could be two images within the 16 day period.\n",
    "    - You must know [the date(s) for which data is available](https://data.dea.gadevs.ga/ls7_nbar_scene) for each satellite/product, so that the query can be specified correctly. "
   ]
  },
  {
   "cell_type": "code",
   "execution_count": null,
   "metadata": {},
   "outputs": [],
   "source": [
    "# Define temporal and spatial extents to pass to `dc.load` for the data extraction:\n",
    "query = {'lat': (-35.25, -35.35),\n",
    "         'lon': (149.05, 149.17),\n",
    "         'output_crs': 'EPSG:3577',\n",
    "         'resolution': (-25, 25),\n",
    "         'measurements': ['nbart_red', 'nbart_green', 'nbart_blue', \n",
    "                          'nbart_nir', 'nbart_swir_1', 'nbart_swir_2'],\n",
    "         'time':('2017-01-01', '2017-01-15')}"
   ]
  },
  {
   "cell_type": "markdown",
   "metadata": {},
   "source": [
    "### Load Landsat data\n",
    "In this example we will load NBAR-T data from the Landsat 8 satellite. Sometimes multiple scenes are acquired by the satellite on the same day. We want to group these together, and will use `group_by='solar_day'` to do this. To load in the data, we use our query above to provide a spatial and temporal extraction range.\n",
    "\n",
    "`dc.load` returns an **xarray** object, which has two core data structures:\n",
    "\n",
    "- `DataArray` is a labeled, N-dimensional array. \n",
    "- `Dataset` is a multi-dimensional, in-memory array database. It is a dict-like container of DataArray objects aligned along any number of shared dimensions.\n",
    "\n",
    "The available Landsat bands are listed under `Data variables`. Surface reflectance values for each of the Landsat bands are expressed as **16-bit integers scaled between 0 and 10000.**"
   ]
  },
  {
   "cell_type": "code",
   "execution_count": null,
   "metadata": {},
   "outputs": [],
   "source": [
    "# Load data for the specified query extent using `dc.load`:\n",
    "ds = dc.load(product='ls8_ard', group_by='solar_day', **query)\n",
    "ds"
   ]
  },
  {
   "cell_type": "markdown",
   "metadata": {},
   "source": [
    "### Remove nodata values\n",
    "It is essential to remove `-999` nodata values prior to analysing or plotting Landsat imagery. You can do with by setting all nodata values to `NaN` using the `mask_invalid_data` function:"
   ]
  },
  {
   "cell_type": "code",
   "execution_count": null,
   "metadata": {},
   "outputs": [],
   "source": [
    "# Set all nodata pixels to `NaN`:\n",
    "ds = masking.mask_invalid_data(ds)"
   ]
  },
  {
   "cell_type": "markdown",
   "metadata": {},
   "source": [
    "## Plotting Landsat data\n",
    "\n",
    "### Plot single Landsat bands \n",
    "Xarray objects contain built-in methods for plotting single bands. For example, we can plot the Landsat 8 `nir` (near-infrared) band for each timestep:"
   ]
  },
  {
   "cell_type": "code",
   "execution_count": null,
   "metadata": {},
   "outputs": [],
   "source": [
    "# Make a plot with one column for each time-step:\n",
    "ds.nbart_nir.plot(col='time', figsize=(10, 5), cmap = 'Reds');  # This also works: ds['nir'].plot(col='time')"
   ]
  },
  {
   "cell_type": "markdown",
   "metadata": {},
   "source": [
    "### Creating a 'true colour' image using three bands\n",
    "We can also plot combinations of multiple bands as a colour RGB image by converting the xarray dataset to a three band data array, using `.isel(time=1)` to pull out a single time-step to plot, then using the `.plot.imshow` method to plot.\n",
    "\n",
    "By specifying the `red`, `green` and `blue` bands, we can produce a ['true colour' plot](https://crisp.nus.edu.sg/~research/tutorial/opt_int.htm) that approximates how the landscape would appear to the human eye. Note however that below we use the `robust=True` argument to remove extreme values and result in a colour-enhanced image:"
   ]
  },
  {
   "cell_type": "code",
   "execution_count": null,
   "metadata": {},
   "outputs": [],
   "source": [
    "ds[['nbart_red', 'nbart_green', 'nbart_blue']].isel(time=1).to_array().plot.imshow(robust=True, figsize=(8, 8))"
   ]
  },
  {
   "cell_type": "markdown",
   "metadata": {},
   "source": [
    "### Creating a 'false colour' image using three bands\n",
    "This plot uses the SWIR and NIR bands to accentuate the presence of water or vegetation in the landscape:"
   ]
  },
  {
   "cell_type": "code",
   "execution_count": null,
   "metadata": {},
   "outputs": [],
   "source": [
    "ds[['nbart_swir_1', 'nbart_nir', 'nbart_green']].isel(time=1).to_array().plot.imshow(robust=True, figsize=(8, 8))"
   ]
  },
  {
   "cell_type": "markdown",
   "metadata": {},
   "source": [
    "## Computing band indices\n",
    "\n",
    "Bands from Landsat surface reflectance products can be combined to compute simple remote sensing indices that provide insights into different aspects of the observed landscape. For example, we can calculate the Normalized Difference Water Index (NDWI), which has high values where a pixel is likely to be open water (e.g. NDWI > 0, or red colours below):"
   ]
  },
  {
   "cell_type": "code",
   "execution_count": null,
   "metadata": {},
   "outputs": [],
   "source": [
    "# Compute NDWI using the formula (green - nir) / (green + nir). This will calculate \n",
    "# NDWI for every time-step in the dataset:\n",
    "ds_ndwi = (ds.nbart_green - ds.nbart_nir) / (ds.nbart_green + ds.nbart_nir)\n",
    "ds_ndwi "
   ]
  },
  {
   "cell_type": "code",
   "execution_count": null,
   "metadata": {},
   "outputs": [],
   "source": [
    "# We can now add this back into our dataset as a new data variable:\n",
    "ds[\"NDWI\"] = ds_ndwi\n",
    "ds"
   ]
  },
  {
   "cell_type": "markdown",
   "metadata": {},
   "source": [
    "### Plotting a single data variable or band\n",
    "Newly created data variables (like `NDWI` above) can be plotted in exactly the same way as individual Landsat bands:"
   ]
  },
  {
   "cell_type": "code",
   "execution_count": null,
   "metadata": {},
   "outputs": [],
   "source": [
    "# First, we select the variable we want ('NDWI'), and then make a \n",
    "# plot with one column for each time-step:\n",
    "ds.NDWI.plot(col='time', figsize=(10, 5)); "
   ]
  },
  {
   "cell_type": "markdown",
   "metadata": {},
   "source": [
    "There are thousands of different band indices available; for example, the Normalized Difference Vegetation Index (NDVI) which has high values for pixels containing vegetation:"
   ]
  },
  {
   "cell_type": "code",
   "execution_count": null,
   "metadata": {},
   "outputs": [],
   "source": [
    "# Compute NDVI using the formula (nir - red) / (nir + red)\n",
    "ds_ndvi = (ds.nbart_nir - ds.nbart_red) / (ds.nbart_nir + ds.nbart_red)\n",
    "\n",
    "# Add this back into our dataset as a new data variable:\n",
    "ds[\"NDVI\"] = ds_ndvi\n",
    "\n",
    "# Plot:\n",
    "ds.NDVI.plot(col='time', figsize=(10, 5));"
   ]
  },
  {
   "cell_type": "markdown",
   "metadata": {},
   "source": [
    "## Cloud masking with Landsat pixel quality (PQ25)\n",
    "You will observe above that the first timestep is affected by thick cloud that covers the majority of the image. Understanding where unclear pixels like these are in an image and then removing or dealing with them is a vital part of using any earth observation dataset like NBAR or NBAR-T surface reflectance. \n",
    "\n",
    "Please refer to the [Introduction_to_LandsatPQ](https://github.com/GeoscienceAustralia/dea-notebooks/blob/master/02_DEA_datasets/Introduction_to_LandsatPQ.ipynb) for information on how to clean and analyse Landsat data by accounting for pixel quality."
   ]
  },
  {
   "cell_type": "markdown",
   "metadata": {},
   "source": [
    "### References\n",
    "\n",
    "1. USGS, 2018a. *Landsat Project Description | Landsat Missions*, Page Last Modified: 04/25/18 01:57 pm. <https://landsat.usgs.gov/landsat-project-description>\n",
    "2. USGS, 2018b. *Landsat Missions Timeline | Landsat Missions*, Page Last Modified: 04/25/18 01:57 pm <https://landsat.usgs.gov/landsat-missions-timeline>\n",
    "3. USGS, 2018c. *Landsat 5 History | Landsat Missions*, Page Last Modified: 04/25/18 01:57 pm <https://landsat.usgs.gov/landsat-5-history>\n",
    "4. USGS, 2018d. *Landsat 6 History | Landsat Missions*, Page Last Modified: 04/25/18 01:57 pm <https://landsat.usgs.gov/landsat-6-history>\n",
    "5. USGS, 2018e. *Landsat 7 | Landsat Missions*, Page Last Modified: 04/25/18 01:57 pm <https://landsat.usgs.gov/landsat-7-history>\n",
    "6. USGS, 2018f. *Landsat 8 | Landsat Missions*, Page Last Modified: 04/25/18 01:57 pm <https://landsat.usgs.gov/landsat-8-mission>\n",
    "7. USGS, 2018g. *Landsat 9 | Landsat Missions*, Page Last Modified: 04/25/18 01:57 pm <https://landsat.usgs.gov/landsat-9-mission>\n",
    "8. USGS, 2018h. *Landsat 7 Data Users Handbook - Section 2 | Landsat Missions*, Page Last Modified: 04/25/18 01:57 pm <https://landsat.usgs.gov/landsat-7-data-users-handbook-section-2>\n",
    "9. GA, 2017. *Surface Reflectance &mdash; Digital Earth Australia 1.0.0 documentation* <http://geoscienceaustralia.github.io/digitalearthau/data/data.html>\n",
    "\n"
   ]
  }
 ],
 "metadata": {
  "celltoolbar": "Raw Cell Format",
  "kernelspec": {
   "display_name": "Python 3",
   "language": "python",
   "name": "python3"
  },
  "language_info": {
   "codemirror_mode": {
    "name": "ipython",
    "version": 3
   },
   "file_extension": ".py",
   "mimetype": "text/x-python",
   "name": "python",
   "nbconvert_exporter": "python",
   "pygments_lexer": "ipython3",
   "version": "3.6.8"
  }
 },
 "nbformat": 4,
 "nbformat_minor": 4
}
