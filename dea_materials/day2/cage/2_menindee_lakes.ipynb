{
 "cells": [
  {
   "cell_type": "markdown",
   "metadata": {},
   "source": [
    "## Curlew Sandpipers at the Menindee lakes\n",
    "\n",
    "The Menindee Lakes is a chain of shallow ephemeral freshwater lakes connected to the Darling River to form a storage system. The lakes lie in the far west region of New South Wales, Australia, near the town of Menindee."
   ]
  },
  {
   "cell_type": "markdown",
   "metadata": {},
   "source": [
    "<img src=\"data/Menindee_Satellite.png\" alt=\"drawing\" width=\"400\" align=\"left\"/>"
   ]
  },
  {
   "cell_type": "markdown",
   "metadata": {},
   "source": [
    "In the past few years, the Darling River System along with the Menindee Lakes have been severely impacted by extreme drought conditions. This has resulted in particularly low and prolonged storage inflows, lower storage releases, and high evaporation rates. [Source: MDBA](https://www.mdba.gov.au/river-murray-system/running-river-murray/menindee-lakes-facts)\n",
    "\n",
    "The Menindee Lakes are an integral breeding ground for the hundreds bird, fish and reptile species in the Murray-Darling Basin, one of the richest ecologies in the country."
   ]
  },
  {
   "cell_type": "markdown",
   "metadata": {},
   "source": [
    "Lake Menindee has completely dried up several times in the past few years. (Source: ABC News)\n",
    "\n",
    "<img src=\"data/menindee_drought.jpg\" alt=\"drawing\" width=\"400\" align=\"left\"/>"
   ]
  },
  {
   "cell_type": "markdown",
   "metadata": {},
   "source": [
    "### Your task:\n",
    "\n",
    "You are an ecologist working for Wildaroo, a non-for-profit organisation that protects endangered species across Australia. You have been tasked to come up with an action plan to protect the Curlew Sandpipers, a species of bird commonly found in the Menindee lakes. The number of spotted birds has been declining in recent years due to the lack of water, and Wildaroo wants to start an intervention to increase the numbers of Sandpipers in the area.\n",
    "\n",
    "Your mission is to identify the areas are most affected by drought and decide the best locations where your organisation should deploy birdfeeders to support the existing population. The ideal place should be close to wet areas, which is the natural habitat of Curlew Sandpipers."
   ]
  },
  {
   "cell_type": "markdown",
   "metadata": {},
   "source": [
    "### Load packages\n",
    "\n",
    "You start by loading the usual Python libraries to start working on this project."
   ]
  },
  {
   "cell_type": "code",
   "execution_count": null,
   "metadata": {},
   "outputs": [],
   "source": [
    "%matplotlib inline\n",
    "\n",
    "import datacube\n",
    "\n",
    "import matplotlib.pyplot as plt\n",
    "import numpy as np\n",
    "import xarray as xr"
   ]
  },
  {
   "cell_type": "markdown",
   "metadata": {},
   "source": [
    "### Load data\n",
    "\n",
    "You request Water Observations from Space (WOfS) data for the first 6 months of the year."
   ]
  },
  {
   "cell_type": "code",
   "execution_count": null,
   "metadata": {},
   "outputs": [],
   "source": [
    "dc_menindee = datacube.Datacube(app=\"Menindee_Lakes\")\n",
    "\n",
    "query = {'lat': (-32.55, -32.25),\n",
    "         'lon': (142.15, 142.45),\n",
    "         'time':('2019-01-01', '2019-06-01')}\n",
    "\n",
    "\n",
    "menindee_19 = dc_menindee.load(product='wofs_albers', **query)\n",
    "\n",
    "menindee_19"
   ]
  },
  {
   "cell_type": "markdown",
   "metadata": {},
   "source": [
    "### Interpreting WOfS\n",
    "\n",
    "You want to understand what values are contained in this dataset and use `unique`, a numpy function that returns the unique values contained in an array:"
   ]
  },
  {
   "cell_type": "code",
   "execution_count": null,
   "metadata": {},
   "outputs": [],
   "source": [
    "np.unique(menindee_19.water.data)"
   ]
  },
  {
   "cell_type": "markdown",
   "metadata": {},
   "source": [
    "There is a special function in DEA that displays the interpretation of mask bitflags in collection. So, you import the required library from the Datacube."
   ]
  },
  {
   "cell_type": "code",
   "execution_count": null,
   "metadata": {},
   "outputs": [],
   "source": [
    "from datacube.storage import masking\n",
    "\n",
    "masking.describe_variable_flags(menindee_19, with_pandas=True)"
   ]
  },
  {
   "cell_type": "markdown",
   "metadata": {},
   "source": [
    "### Creating the mask and computing the median water content\n",
    "\n",
    "Wet areas are represented using the value `128`, as oposed to dry areas which are represented with the `0` value. You represent the median water content over the first 6 months."
   ]
  },
  {
   "cell_type": "code",
   "execution_count": null,
   "metadata": {},
   "outputs": [],
   "source": [
    "m2019 = menindee_19.water.where(menindee_19.water == 128).median(dim='time')\n",
    "m2019.plot()"
   ]
  },
  {
   "cell_type": "markdown",
   "metadata": {},
   "source": [
    "### Replicate for 2001"
   ]
  },
  {
   "cell_type": "code",
   "execution_count": null,
   "metadata": {},
   "outputs": [],
   "source": [
    "query = {'lat': (-32.55, -32.25),\n",
    "         'lon': (142.15, 142.45),\n",
    "         'time':('2001-01-01', '2001-06-01')}\n",
    "\n",
    "\n",
    "menindee_01 = dc_menindee.load(product='wofs_albers', **query)\n",
    "\n",
    "menindee_01"
   ]
  },
  {
   "cell_type": "code",
   "execution_count": null,
   "metadata": {},
   "outputs": [],
   "source": [
    "m2001 = menindee_01.water.where(menindee_01.water == 128).median(dim='time')\n",
    "m2001.plot()"
   ]
  },
  {
   "cell_type": "markdown",
   "metadata": {},
   "source": [
    "### Representing changes in water using a Semaphore plot\n",
    "\n",
    "You want to create a plot to represent changes in the water between the years 2001 and 2019. The plot maps the intersection of water areas of both years with the following mapping:\n",
    "\n",
    "* If a pixel  contains water in both years -> Blue\n",
    "* If a pixel had water before but doesn't have now -> Red (water lost)\n",
    "* If a pixel didn't have water but has water now -> Green (new water)\n",
    "* If a pixel never had water -> Transparent (RGB supports a 4th channel called Alpha for transparency)\n",
    "\n",
    "_Hint: This is an example of what a semaphore plot looks like for the years 2016-2019 at this location:_\n",
    "<img src=\"data/semaphore.png\" alt=\"drawing\" width=\"400\"/>\n",
    "\n",
    "### Coding the semaphore plot\n",
    "\n",
    "For creating this plot you'll need to:\n",
    "\n",
    "1. Transform `m2001` and `m2019` to boolean types (water/dry) using a threshold.\n",
    "2. Use numpy logical functions to compute the boolean values of the different components Red, Green Blue, Alpha. _int: use `np.logical_not()` and `np.logical_and()` to compute the components.\n",
    "3. Stack the components along a 3rd dimension making use of `np.dstack`\n",
    "4. Convert the resulting array into `float64` type\n",
    "5. Plot using matplotlib"
   ]
  },
  {
   "cell_type": "code",
   "execution_count": null,
   "metadata": {},
   "outputs": [],
   "source": [
    "### Your code goes here"
   ]
  },
  {
   "cell_type": "markdown",
   "metadata": {},
   "source": [
    "### Interpreting the result\n",
    "\n",
    "This figure is quite striking and gives you an idea about why the Curlew Sandpipers population has such low numbers in recent years. However, you would like to do some more comparisons with more recent years at different seasons to understand the variability and representativeness of the current situation. "
   ]
  },
  {
   "cell_type": "code",
   "execution_count": null,
   "metadata": {},
   "outputs": [],
   "source": []
  },
  {
   "cell_type": "code",
   "execution_count": null,
   "metadata": {},
   "outputs": [],
   "source": []
  }
 ],
 "metadata": {
  "kernelspec": {
   "display_name": "Python 3",
   "language": "python",
   "name": "python3"
  },
  "language_info": {
   "codemirror_mode": {
    "name": "ipython",
    "version": 3
   },
   "file_extension": ".py",
   "mimetype": "text/x-python",
   "name": "python",
   "nbconvert_exporter": "python",
   "pygments_lexer": "ipython3",
   "version": "3.6.8"
  }
 },
 "nbformat": 4,
 "nbformat_minor": 4
}
