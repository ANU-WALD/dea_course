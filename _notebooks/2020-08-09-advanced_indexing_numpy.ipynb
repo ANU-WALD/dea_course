{
 "cells": [
  {
   "cell_type": "markdown",
   "metadata": {},
   "source": [
    "# Advanced Numpy concepts\n",
    "> This tutorial explores further concepts in Numpy such as, categorical data, advanced indexing and dealing with Not-a-Number (NaN) data.\n",
    "\n",
    "- toc: false \n",
    "- badges: true\n",
    "- comments: true\n",
    "- categories: [numpy]"
   ]
  },
  {
   "cell_type": "markdown",
   "metadata": {},
   "source": [
    "### Before we start, let's quickly see a Python data structure called dictionary, which will help understand some of the materials and is also useful to understand how XArray works later on.\n",
    "\n",
    "#### A dictionary represents a map between values that can be of different types. Using curly braces we specify the key followed by a semicolon and the value for each element in the dictionary. For example:"
   ]
  },
  {
   "cell_type": "code",
   "execution_count": null,
   "metadata": {},
   "outputs": [],
   "source": [
    "d = {1: 'one', 2: 'two', 3: 'tree'}\n",
    "\n",
    "print(d[1], \" + \", d[2], \" = \", d[3])"
   ]
  },
  {
   "cell_type": "markdown",
   "metadata": {},
   "source": [
    "#### Elements in a dictionary can be modified or new elements added by doing:"
   ]
  },
  {
   "cell_type": "code",
   "execution_count": null,
   "metadata": {},
   "outputs": [],
   "source": [
    "d[3] = 'three'\n",
    "d[4] = 'four'\n",
    "\n",
    "d"
   ]
  },
  {
   "cell_type": "markdown",
   "metadata": {},
   "source": [
    "### Categorical data\n",
    "\n",
    "#### First let's import some libraries:"
   ]
  },
  {
   "cell_type": "code",
   "execution_count": null,
   "metadata": {},
   "outputs": [],
   "source": [
    "%matplotlib inline\n",
    "\n",
    "import numpy as np\n",
    "from matplotlib import pyplot as plt\n",
    "from matplotlib import colors"
   ]
  },
  {
   "cell_type": "markdown",
   "metadata": {},
   "source": [
    "#### Sometimes remote sensing data contains categorical data as a way of representing classes of individual pixels. \n",
    "\n",
    "#### As an example, the following cell simulates a very simple satellite image with three different land cover types. Value `1` represents area covered with grass, `2` croplands and `3` city."
   ]
  },
  {
   "cell_type": "code",
   "execution_count": null,
   "metadata": {},
   "outputs": [],
   "source": [
    "# grass = 1\n",
    "area = np.ones((100,100))\n",
    "\n",
    "# crops = 2\n",
    "area[10:60,20:50] = 2\n",
    "\n",
    "# city = 3\n",
    "area[70:90,60:80] = 3\n",
    "\n",
    "# We map the values to colours\n",
    "index = {1: 'green', 2: 'yellow', 3: 'grey'}\n",
    "\n",
    "# Create a discrete colour map\n",
    "cmap = colors.ListedColormap(index.values())\n",
    "\n",
    "# Plot\n",
    "plt.imshow(area, cmap=cmap)"
   ]
  },
  {
   "cell_type": "markdown",
   "metadata": {},
   "source": [
    "#### The harvesting season has arrived and our cropping lands have changed colour to brown.\n",
    "\n",
    "#### Can you add a new entry to the `index` dictionary mapping number `4` to the value `brown` and regenerate the colourmap? Then using your new indexing skills can you modify the yellow area to contain the new value `4`. Finally plot again using the same function to show the change in the season."
   ]
  },
  {
   "cell_type": "code",
   "execution_count": null,
   "metadata": {},
   "outputs": [],
   "source": [
    "### Your code goes here\n",
    "\n"
   ]
  },
  {
   "cell_type": "markdown",
   "metadata": {},
   "source": [
    "#### Boolean indexing of numpy arrays:"
   ]
  },
  {
   "cell_type": "code",
   "execution_count": null,
   "metadata": {},
   "outputs": [],
   "source": [
    "arr = np.arange(10)\n",
    "print(\"Before:\", arr)\n",
    "\n",
    "indexes = [True,False,True,False,True,False,True,False,True,False]\n",
    "\n",
    "arr[indexes]"
   ]
  },
  {
   "cell_type": "markdown",
   "metadata": {},
   "source": [
    "#### Boolean arrays also allow to assign new values to an array for the `True` indexes leaving the `False` indexes intact:"
   ]
  },
  {
   "cell_type": "code",
   "execution_count": null,
   "metadata": {},
   "outputs": [],
   "source": [
    "arr[indexes] = -1\n",
    "\n",
    "arr"
   ]
  },
  {
   "cell_type": "markdown",
   "metadata": {},
   "source": [
    "#### Can you use the previous examples to update the following array so that all the values greater or equal to `10` are made equal to `10`. _This operation is called `clipping` in Numpy and there is a specific function to do it called `np.clip`_."
   ]
  },
  {
   "cell_type": "code",
   "execution_count": null,
   "metadata": {},
   "outputs": [],
   "source": [
    "arr = np.random.randint(20, size=10)\n",
    "print(\"Before:\", arr)\n",
    "\n",
    "### Your code goes here\n",
    "\n",
    "print(\"After clipping:\", arr)"
   ]
  },
  {
   "cell_type": "markdown",
   "metadata": {},
   "source": [
    "#### Masking out regions is a very common practice in remote sensing analysis. For example the following image reprensents a satellite image of a region in which there are clouds, shadows and some water."
   ]
  },
  {
   "cell_type": "markdown",
   "metadata": {},
   "source": [
    "<img src=\"data/land_mask.png\" alt=\"drawing\" width=\"220\" align=\"left\"/>"
   ]
  },
  {
   "cell_type": "markdown",
   "metadata": {},
   "source": [
    "#### We have three files, containing numpy arrays `.npy` which represent the mask for each category:\n",
    "\n",
    "#### These masks are stored as `dtype=uint8` using `1` to indicate presence and `0` for absence of each feature."
   ]
  },
  {
   "cell_type": "code",
   "execution_count": null,
   "metadata": {},
   "outputs": [],
   "source": [
    "import matplotlib.gridspec as gridspec\n",
    "\n",
    "plt.figure(figsize=(12,8))\n",
    "gs = gridspec.GridSpec(1,3) # set up a 1 x 3 grid of images\n",
    "\n",
    "ax1=plt.subplot(gs[0,0])\n",
    "water_mask = np.load(\"data/water_mask.npy\")\n",
    "plt.imshow(water_mask)\n",
    "ax1.set_title('Water Mask')\n",
    "\n",
    "ax2=plt.subplot(gs[0,1])\n",
    "cloud_mask = np.load(\"data/cloud_mask.npy\")\n",
    "\n",
    "plt.imshow(cloud_mask)\n",
    "ax2.set_title('Cloud Mask')\n",
    "\n",
    "ax3=plt.subplot(gs[0,2])\n",
    "shadow_mask = np.load(\"data/shadow_mask.npy\")\n",
    "plt.imshow(shadow_mask)\n",
    "ax3.set_title('Shadow Mask')\n",
    "\n",
    "plt.show()"
   ]
  },
  {
   "cell_type": "markdown",
   "metadata": {},
   "source": [
    "#### Let's load the RGB image, which is a 3-dimensional array of type `uint8` with the 3rd dimension corresponding to the colour bands.\n",
    "\n",
    "#### Can you use the previous masks to filter clouds, shadows and water out of the image? _Hint: Use your new boolean indexing skills and assign pixels in these regions the value 0_"
   ]
  },
  {
   "cell_type": "code",
   "execution_count": null,
   "metadata": {},
   "outputs": [],
   "source": [
    "import imageio\n",
    "\n",
    "im = imageio.imread('data/land_mask.png')\n",
    "\n",
    "## Your code here\n",
    "\n",
    "\n",
    "plt.imshow(im)"
   ]
  },
  {
   "cell_type": "markdown",
   "metadata": {},
   "source": [
    "## Bit Flags\n",
    "\n",
    "#### Some remote sensing products contain ancillary data describing the quality of each pixel. This quality information is normally encoded using bit flags, in which each bit in a number acts as an 'on/off' switch for a particular feature.\n",
    "\n",
    "#### For example, a uint8 number is represented in binary format using 8 bits, so it can be used to encode up to 8 different features.\n",
    "\n",
    "* Bit 0: Cloud  \n",
    "`00000001` -> 1\n",
    "* Bit 1: Terrain oclussion  \n",
    "`00000010` -> 2\n",
    "* Bit 3: Saturation  \n",
    "`00001000` -> 8\n",
    "\n",
    "#### So, if one pixel is both classified as cloud and is saturated, the pixel quality mask would be:\n",
    "`00001001` -> 9\n"
   ]
  },
  {
   "cell_type": "markdown",
   "metadata": {},
   "source": [
    "#### This is the description of the pixel quality mask of Landsat 8\n",
    "\n",
    "<img src=\"data/ls8_pq.png\" alt=\"drawing\" width=\"220\" align=\"left\"/>"
   ]
  },
  {
   "cell_type": "markdown",
   "metadata": {},
   "source": [
    "#### And this is a real example of a pixel quality Landsat 8 image over Margaret River encoded using the previous bit flags."
   ]
  },
  {
   "cell_type": "code",
   "execution_count": null,
   "metadata": {},
   "outputs": [],
   "source": [
    "import rasterio\n",
    "\n",
    "pq = rasterio.open('data/LC08_L1TP_112084_20190820_20190902_01_T1_BQA.tiff').read()[0,:,:]\n",
    "\n",
    "print(pq.shape, pq.dtype)\n",
    "plt.imshow(pq)\n",
    "\n",
    "# This function displays unique values in the PQ mask\n",
    "np.unique(pq)"
   ]
  },
  {
   "cell_type": "markdown",
   "metadata": {},
   "source": [
    "#### For the value `2720` we can see the binary representation doing:"
   ]
  },
  {
   "cell_type": "code",
   "execution_count": null,
   "metadata": {},
   "outputs": [],
   "source": [
    "\"{:016b}\".format(2720)"
   ]
  },
  {
   "cell_type": "markdown",
   "metadata": {},
   "source": [
    "#### Can you work out what is the interpretation of the `2800` value in the PQ mask?"
   ]
  },
  {
   "cell_type": "code",
   "execution_count": null,
   "metadata": {},
   "outputs": [],
   "source": []
  },
  {
   "cell_type": "markdown",
   "metadata": {},
   "source": [
    "## Analysing data with NaNs. \n",
    "\n",
    "#### NaN is a special value of `float32` and `float64` arrays used to designate Not-a-Number values."
   ]
  },
  {
   "cell_type": "code",
   "execution_count": null,
   "metadata": {},
   "outputs": [],
   "source": [
    "arr = np.array([1,2,3,4,5,np.nan,7,8,9], dtype=np.float32)\n",
    "\n",
    "arr"
   ]
  },
  {
   "cell_type": "markdown",
   "metadata": {},
   "source": [
    "#### To compute statistics on arrays containing NaN values, Numpy has special versions of common functions such as `mean` or `std` that ignore the NaN values:"
   ]
  },
  {
   "cell_type": "code",
   "execution_count": null,
   "metadata": {},
   "outputs": [],
   "source": [
    "print(np.mean(arr))\n",
    "\n",
    "print(np.nanmean(arr))"
   ]
  },
  {
   "cell_type": "markdown",
   "metadata": {},
   "source": [
    "#### Consider the following uint16 array in which the value `0` designates no data. If we want to compute the mean of all the valid values, we can do converting the array to float type and then assigning the value `0` to NaN."
   ]
  },
  {
   "cell_type": "code",
   "execution_count": null,
   "metadata": {},
   "outputs": [],
   "source": [
    "arr = np.array([234,243,0,231,219,0,228,220,237], dtype=np.uint16)\n",
    "arr = arr.astype(np.float32)\n",
    "arr[arr==0]=np.nan\n",
    "\n",
    "np.nanmean(arr)"
   ]
  },
  {
   "cell_type": "markdown",
   "metadata": {},
   "source": [
    "#### **Exercise**: Can you calculate the mean value of each of the RGB channels for just the area covered with grass in the following image?"
   ]
  },
  {
   "cell_type": "markdown",
   "metadata": {},
   "source": [
    "<img src=\"data/land_mask.png\" alt=\"drawing\" width=\"220\" align=\"left\"/>"
   ]
  },
  {
   "cell_type": "code",
   "execution_count": null,
   "metadata": {},
   "outputs": [],
   "source": [
    "import imageio\n",
    "\n",
    "im = imageio.imread('data/land_mask.png')[:,:,:3]\n",
    "\n",
    "print(im.shape)\n",
    "\n",
    "### Red is im[:,:,0], Green is im[:,:,1], Blue is im[:,:,2]\n",
    "### You code here"
   ]
  },
  {
   "cell_type": "code",
   "execution_count": null,
   "metadata": {},
   "outputs": [],
   "source": []
  }
 ],
 "metadata": {
  "kernelspec": {
   "display_name": "Python 3",
   "language": "python",
   "name": "python3"
  },
  "language_info": {
   "codemirror_mode": {
    "name": "ipython",
    "version": 3
   },
   "file_extension": ".py",
   "mimetype": "text/x-python",
   "name": "python",
   "nbconvert_exporter": "python",
   "pygments_lexer": "ipython3",
   "version": "3.7.6"
  }
 },
 "nbformat": 4,
 "nbformat_minor": 4
}
