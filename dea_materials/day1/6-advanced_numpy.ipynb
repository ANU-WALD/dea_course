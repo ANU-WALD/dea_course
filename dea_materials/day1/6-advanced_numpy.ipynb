{
 "cells": [
  {
   "cell_type": "markdown",
   "metadata": {},
   "source": [
    "# Categorical and missing data\n",
    "> This tutorial explores further concepts in Numpy such as, categorical data, advanced indexing and dealing with Not-a-Number (NaN) data.\n",
    "\n",
    "- toc: false \n",
    "- badges: true\n",
    "- comments: true\n",
    "- categories: [numpy]"
   ]
  },
  {
   "cell_type": "markdown",
   "metadata": {},
   "source": [
    "#### Before we start with this tutorial, let's have a quick look at a data structure in Python called dictionary. This will help us understand some of the materials in the tutorial and also will help to introduce XArray later on.\n",
    "\n",
    "#### A dictionary represents a mapping between keys and values. The keys and values are Python objects of any type. We declare a dictionary using curly braces. Inside we can specify the keys and values using `:` as a separator and and commas to separate elements in the dictionary. For example:"
   ]
  },
  {
   "cell_type": "code",
   "execution_count": null,
   "metadata": {},
   "outputs": [],
   "source": [
    "d = {1: 'one', \n",
    "     2: 'two', \n",
    "     3: 'tree'}"
   ]
  },
  {
   "cell_type": "markdown",
   "metadata": {},
   "source": [
    "#### Then we can address or lookup elements in a dictionary using the `[ key_name ]` to address the value stored under a key. For example:"
   ]
  },
  {
   "cell_type": "code",
   "execution_count": null,
   "metadata": {},
   "outputs": [],
   "source": [
    "print(d[1], \" + \", d[2], \" = \", d[3])"
   ]
  },
  {
   "cell_type": "markdown",
   "metadata": {},
   "source": [
    "#### Elements in a dictionary can be modified or new elements added by doing:"
   ]
  },
  {
   "cell_type": "code",
   "execution_count": null,
   "metadata": {},
   "outputs": [],
   "source": [
    "d[3] = 'three'\n",
    "d[4] = 'four'\n",
    "\n",
    "print(d[1], \" + \", d[2], \" = \", d[3])"
   ]
  },
  {
   "cell_type": "markdown",
   "metadata": {},
   "source": [
    "#### We start now this tutorial by importing some libraries:"
   ]
  },
  {
   "cell_type": "code",
   "execution_count": null,
   "metadata": {},
   "outputs": [],
   "source": [
    "%matplotlib inline\n",
    "\n",
    "import numpy as np\n",
    "import imageio\n",
    "from matplotlib import pyplot as plt\n",
    "from matplotlib import colors\n",
    "from check_answer import check_answer"
   ]
  },
  {
   "cell_type": "markdown",
   "metadata": {},
   "source": [
    "#### Categorical data: sometimes remote sensing is used to create classification products. These products do not contain continuous values. They use discrete values to represent the different classes individual pixels can belong to. \n",
    "\n",
    "#### As an example, the following cell simulates a very simple image containing three different land cover types. Value `1` represents area covered with grass, `2` croplands and `3` city."
   ]
  },
  {
   "cell_type": "code",
   "execution_count": null,
   "metadata": {},
   "outputs": [],
   "source": [
    "# grass = 1\n",
    "area = np.ones((100,100))\n",
    "\n",
    "# crops = 2\n",
    "area[10:60,20:50] = 2\n",
    "\n",
    "# city = 3\n",
    "area[70:90,60:80] = 3\n",
    "\n",
    "area.shape, area.dtype, np.unique(area)"
   ]
  },
  {
   "cell_type": "markdown",
   "metadata": {},
   "source": [
    "#### To visualise the previous array as an image, we are going to define our own colour map using a dictionary in which we can map values to colours:"
   ]
  },
  {
   "cell_type": "code",
   "execution_count": null,
   "metadata": {},
   "outputs": [],
   "source": [
    "# We map the values to colours\n",
    "index = {1: 'green', 2: 'yellow', 3: 'grey'}\n",
    "\n",
    "# Create a discrete colour map\n",
    "cmap = colors.ListedColormap(index.values())\n",
    "\n",
    "# Plot\n",
    "plt.imshow(area, cmap=cmap)"
   ]
  },
  {
   "cell_type": "markdown",
   "metadata": {},
   "source": [
    "#### Exercise 6.1: The harvesting season has arrived and our cropping lands have changed colour to brown. Can you:\n",
    "\n",
    "1. Modify the yellow area to contain the new value `4`?\n",
    "2. Add a new entry to the `index` dictionary mapping number `4` to the value `brown`"
   ]
  },
  {
   "cell_type": "code",
   "execution_count": null,
   "metadata": {},
   "outputs": [],
   "source": [
    "area?\n",
    "\n",
    "index? = ?\n",
    "\n",
    "# Regenerate discrete colour map\n",
    "cmap = colors.ListedColormap(index.values())\n",
    "\n",
    "# Plot\n",
    "plt.imshow(area, cmap=cmap)\n",
    "\n",
    "check_answer(\"6.1.1\", area[20,30]), check_answer(\"6.1.2\", index[4])"
   ]
  },
  {
   "cell_type": "markdown",
   "metadata": {},
   "source": [
    "#### Masking out regions is a very common practice in remote sensing analysis. For example, the following image reprensents a fake remote sensing image containing a few typical features."
   ]
  },
  {
   "cell_type": "markdown",
   "metadata": {},
   "source": [
    "<img src=\"data/land_mask.png\" alt=\"drawing\" width=\"220\" align=\"left\"/>"
   ]
  },
  {
   "cell_type": "markdown",
   "metadata": {},
   "source": [
    "#### We start by loading the previous image into a numpy array:"
   ]
  },
  {
   "cell_type": "code",
   "execution_count": null,
   "metadata": {},
   "outputs": [],
   "source": [
    "im = imageio.imread('data/land_mask.png')\n",
    "\n",
    "plt.imshow(im)"
   ]
  },
  {
   "cell_type": "markdown",
   "metadata": {},
   "source": [
    "#### In remote sensing analysis it's common to be interested in analysing certain features from the Earth surface such as vegetation. Clouds, cloud shadows and even water bodies need to be normally removed or 'masked' in order to process the data.\n",
    "\n",
    "#### For this example, we have three files containing numpy arrays `.npy` which represent the masks to filter clouds, shadows and water from our image."
   ]
  },
  {
   "cell_type": "code",
   "execution_count": null,
   "metadata": {},
   "outputs": [],
   "source": [
    "import matplotlib.gridspec as gridspec\n",
    "\n",
    "plt.figure(figsize=(12,8))\n",
    "gs = gridspec.GridSpec(1,3) # set up a 1 x 3 grid of images\n",
    "\n",
    "ax1=plt.subplot(gs[0,0])\n",
    "water_mask = np.load(\"data/water_mask.npy\")\n",
    "plt.imshow(water_mask)\n",
    "ax1.set_title('Water Mask')\n",
    "\n",
    "ax2=plt.subplot(gs[0,1])\n",
    "cloud_mask = np.load(\"data/cloud_mask.npy\")\n",
    "\n",
    "plt.imshow(cloud_mask)\n",
    "ax2.set_title('Cloud Mask')\n",
    "\n",
    "ax3=plt.subplot(gs[0,2])\n",
    "shadow_mask = np.load(\"data/shadow_mask.npy\")\n",
    "plt.imshow(shadow_mask)\n",
    "ax3.set_title('Shadow Mask')\n",
    "\n",
    "plt.show()"
   ]
  },
  {
   "cell_type": "markdown",
   "metadata": {},
   "source": [
    "#### These masks are stored as `dtype=uint8` using `1` to indicate presence and `0` for absence of each feature.\n",
    "\n",
    "#### Exercise 6.2: Can you use the water mask to set all the pixels in the image array representing water to 0?\n",
    "\n",
    "> Tip: Remember that boolean arrays can be used to index and select regions of another array. To complete this exercise you will need to convert the previous water mask array into boolean types before you can use it."
   ]
  },
  {
   "cell_type": "code",
   "execution_count": null,
   "metadata": {},
   "outputs": [],
   "source": [
    "# 1.- Load the image\n",
    "answ = imageio.imread('data/land_mask.png')\n",
    "\n",
    "# 2.- Create a boolean version of the water_mask array\n",
    "bool_water_mask = ?\n",
    "\n",
    "# 3.- Use the previous boolean array to set all pixels in the answ array to 0\n",
    "answ[?] = ?\n",
    "\n",
    "# You should see the region with water white\n",
    "plt.imshow(answ)\n",
    "\n",
    "check_answer(\"6.2\", answ[200,200])"
   ]
  },
  {
   "cell_type": "markdown",
   "metadata": {},
   "source": [
    "#### Exercise 6.3: Can you do the same as in the previous exercise but now setting to zero the areas covered by clouds, shadows and water?"
   ]
  },
  {
   "cell_type": "code",
   "execution_count": null,
   "metadata": {},
   "outputs": [],
   "source": [
    "# 1.- Load the image\n",
    "answ = imageio.imread('data/land_mask.png')\n",
    "\n",
    "# 2.- Create boolean versions of the masks\n",
    "bool_water_mask = ?\n",
    "bool_cloud_mask = ?\n",
    "bool_shadow_mask = ?\n",
    "\n",
    "# 3.- Use the previous boolean arrays to set all pixels in the answ array to 0 (You might need more than one line)\n",
    "answ[?] = ?\n",
    "\n",
    "# You should see just green and all the other regions white\n",
    "plt.imshow(answ)\n",
    "\n",
    "check_answer(\"6.3\", answ[200,200]+answ[100,100]+answ[100,180]+answ[0,0])"
   ]
  },
  {
   "cell_type": "markdown",
   "metadata": {},
   "source": [
    "#### The previous example demonstrates how categorical data can be used to describe and filter remote sensing images.\n",
    "\n",
    "#### In practice, we could have used one array to store our three classes. For example, we could have used the value `1` to designate areas with water, `2` for clouds and `3` for cloud shadows:"
   ]
  },
  {
   "cell_type": "code",
   "execution_count": null,
   "metadata": {},
   "outputs": [],
   "source": [
    "mask = water_mask*1 + cloud_mask*2 + shadow_mask*3\n",
    "\n",
    "plt.imshow(mask)"
   ]
  },
  {
   "cell_type": "markdown",
   "metadata": {},
   "source": [
    "#### But this way of representing categories is not very convenient for the case when we can have pixels that can belong to two or more categories at the same time. For example, if we have a pixel that is classified as a cloud shadow and water at the same time, we would need to come up with a new category to represent this case.\n",
    "\n",
    "#### Instead, it's a common practice to use bit flags to create these masking or pixel quality products. Bit flags use the binary representation of a number (using 0s and 1s) to encode the different categories. For example a uint8 number can store values in the range [0-255] and is internally represented with 8 bits which can be either 0 or 1.\n",
    "\n",
    "#### In our previous case we could have used the following encoding:\n",
    "\n",
    "* Bit 0: Water\n",
    "`00000001` -> 1\n",
    "* Bit 1: Cloud\n",
    "`00000010` -> 2\n",
    "* Bit 2: Shadow\n",
    "`00000100`-> 4\n",
    "\n",
    "#### So, if one pixel is both classified as shadow and water, this pixel would be encoded by the value `5`:\n",
    "* `00000101` -> 5\n",
    "\n",
    "#### Exercise 6.4: How would you represent a pixel that is a cloud and a shadow at the same time?"
   ]
  },
  {
   "cell_type": "code",
   "execution_count": null,
   "metadata": {},
   "outputs": [],
   "source": [
    "answ = ?\n",
    "\n",
    "# Print binary format of answ\n",
    "print(f\"{answ:08b}\")\n",
    "\n",
    "check_answer(\"6.4\", answ)"
   ]
  },
  {
   "cell_type": "markdown",
   "metadata": {},
   "source": [
    "#### Some remote sensing collections contain ancillary data describing the quality of each pixel.  Below, you can see the table representing how to interpret the bit flags for the Landsat 8 pixel quality product. This product gives information about the quality of each pixel in the reflectance product.\n",
    "\n",
    "<img src=\"data/ls8_pq.png\" alt=\"drawing\" width=\"220\" align=\"left\"/>"
   ]
  },
  {
   "cell_type": "markdown",
   "metadata": {},
   "source": [
    "#### And this is a real example of a pixel quality Landsat 8 image over Margaret River encoded using the previous bit flags."
   ]
  },
  {
   "cell_type": "code",
   "execution_count": null,
   "metadata": {},
   "outputs": [],
   "source": [
    "pq = imageio.imread('data/LC08_L1TP_112084_20190820_20190902_01_T1_BQA.tiff')\n",
    "\n",
    "plt.imshow(pq)\n",
    "\n",
    "pq.shape, pq.dtype, np.unique(pq)"
   ]
  },
  {
   "cell_type": "markdown",
   "metadata": {},
   "source": [
    "#### For the value `2720` we can see the binary representation doing:"
   ]
  },
  {
   "cell_type": "code",
   "execution_count": null,
   "metadata": {},
   "outputs": [],
   "source": [
    "\"{:016b}\".format(2720)"
   ]
  },
  {
   "cell_type": "markdown",
   "metadata": {},
   "source": [
    "#### Starting from the right, we find: \n",
    "* bit 5 = 1 -> Cloud\n",
    "* bits 6,7 = 10 -> Medium confidence\n",
    "* bits 8,9 = 10 -> Cirrus medium confidence\n",
    "* bit 11 = 1 -> We don't know, not included in the table\n",
    "\n",
    "#### Exercise 6.5: Can you work out what is the Cirrus confidence interpretation for the `2976` value in the PQ mask?"
   ]
  },
  {
   "cell_type": "code",
   "execution_count": null,
   "metadata": {},
   "outputs": [],
   "source": [
    "print(\"{:016b}\".format(2976))"
   ]
  },
  {
   "cell_type": "code",
   "execution_count": null,
   "metadata": {},
   "outputs": [],
   "source": [
    "answ = ?# Choose one of \"None\", \"Low\", \"Medium\", \"High\"\n",
    "\n",
    "check_answer(\"6.5\", answ)"
   ]
  },
  {
   "cell_type": "markdown",
   "metadata": {},
   "source": [
    "#### This is a good illustration of the use of bitmaks in the WOfS product:\n",
    "\n",
    "| Attribute | Bit / position   | Decimal value |\n",
    "|------|------|----|\n",
    "| No data | 0:   `0-------` or `1-------` | 1|\n",
    "| Non contiguous | 1:   `-0------` or `-1------` | 2 |\n",
    "| Sea | 2:   `--0-----` or `--1-----` | 4 |\n",
    "| Terrain or low solar angle | 3:   `---0----` or `---1----` | 8 |\n",
    "| High slope | 4:   `----0---` or `----1---` | 16 |\n",
    "| Cloud shadow | 5:   `-----0--` or `-----1--` | 32 |\n",
    "| Cloud | 6:   `------0-` or `------1-` | 64 |\n",
    "| Water | 7:   `-------0` or `-------1` | 128 |"
   ]
  },
  {
   "cell_type": "markdown",
   "metadata": {},
   "source": [
    "#### Analysing data with NaNs. NaN is a special value of `float32` and `float64` arrays used to designate Not-a-Number values. For example:"
   ]
  },
  {
   "cell_type": "code",
   "execution_count": null,
   "metadata": {},
   "outputs": [],
   "source": [
    "arr = np.array([1,2,3,4,5,np.nan,7,8,9], dtype=np.float32)\n",
    "\n",
    "arr"
   ]
  },
  {
   "cell_type": "markdown",
   "metadata": {},
   "source": [
    "#### To compute statistics on arrays containing NaN values, Numpy has special versions of common functions such as `mean`, `std` or `sum` that ignore the NaN values:"
   ]
  },
  {
   "cell_type": "code",
   "execution_count": null,
   "metadata": {},
   "outputs": [],
   "source": [
    "print(np.mean(arr))\n",
    "\n",
    "print(np.nanmean(arr))"
   ]
  },
  {
   "cell_type": "markdown",
   "metadata": {},
   "source": [
    "#### We have been previously filtering out water and cloud effects from images by setting the pixels to `0`. However, if we are interested in performing statistics to summarise the information in the image, this could be problematic. For example, consider the following uint16 array in which the value `0` designates no data. If we want to compute the mean of all the valid values, we can do converting the array to float type and then assigning the value `0` to NaN."
   ]
  },
  {
   "cell_type": "code",
   "execution_count": null,
   "metadata": {},
   "outputs": [],
   "source": [
    "arr = np.array([234,243,0,231,219,0,228,220,237], dtype=np.uint16)\n",
    "\n",
    "print(\"0s mean:\", np.mean(arr))\n",
    "\n",
    "arr = arr.astype(np.float32)\n",
    "arr[arr==0]=np.nan\n",
    "\n",
    "print(\"NaNs mean:\", np.nanmean(arr))"
   ]
  },
  {
   "cell_type": "markdown",
   "metadata": {},
   "source": [
    "#### Exercise 6.6: Can you calculate the mean value of the green channel for just the area covered with grass in the following image?"
   ]
  },
  {
   "cell_type": "markdown",
   "metadata": {},
   "source": [
    "<img src=\"data/land_mask.png\" alt=\"drawing\" width=\"220\" align=\"left\"/>"
   ]
  },
  {
   "cell_type": "code",
   "execution_count": null,
   "metadata": {},
   "outputs": [],
   "source": [
    "# 1.- Load the image\n",
    "im = imageio.imread('data/land_mask.png')\n",
    "\n",
    "# 2.- Select green channel\n",
    "im = ?\n",
    "\n",
    "# 3.- Change the type of im to float32\n",
    "im = ?\n",
    "\n",
    "# 4.- Use the previous boolean array to set all pixels other than grass to NaN\n",
    "im?\n",
    "\n",
    "# You should see the all NaN regions white\n",
    "plt.imshow(im)\n",
    "\n",
    "# 5.- Calculate the mean value\n",
    "answ = ?\n",
    "\n",
    "check_answer(\"6.6\", int(answ))"
   ]
  },
  {
   "cell_type": "code",
   "execution_count": null,
   "metadata": {},
   "outputs": [],
   "source": []
  }
 ],
 "metadata": {
  "kernelspec": {
   "display_name": "Python 3",
   "language": "python",
   "name": "python3"
  },
  "language_info": {
   "codemirror_mode": {
    "name": "ipython",
    "version": 3
   },
   "file_extension": ".py",
   "mimetype": "text/x-python",
   "name": "python",
   "nbconvert_exporter": "python",
   "pygments_lexer": "ipython3",
   "version": "3.6.9"
  }
 },
 "nbformat": 4,
 "nbformat_minor": 4
}
