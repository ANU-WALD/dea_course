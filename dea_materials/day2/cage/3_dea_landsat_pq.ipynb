{
 "cells": [
  {
   "cell_type": "markdown",
   "metadata": {},
   "source": [
    "# Introduction to Landsat pixel quality (PQ25)"
   ]
  },
  {
   "cell_type": "markdown",
   "metadata": {},
   "source": [
    "**Background:** Data from three Landsat satellites (Landsat 5, 7 and 8) are available to access within DEA. The data can be plotted or analysed after applying selective masks based on pixel quality (PQ25). The code snippets in this doc will let you retrieve the data, mask by using PQ and then plot for `ls*_nbar_albers` and `ls*_nbart_albers`, where `*` is 5, 7 or 8 denote the satellite.\n",
    "\n",
    "**What does this document do?**\n",
    "\n",
    "- Show how to open a datacube to retrieve the data for various time points and geo-coordinates\n",
    "- Extract the PQ data to be used as mask\n",
    "- Show the description of flags in a table\n",
    "- Build up a mask step-by-step from PQ data\n",
    "- Apply the mask and plot\n",
    "\n",
    "Adapted to the Sandbox environment from the original DEA notebook by: Bex Dunn, Robbi Bishop-Taylor, Mike Barnes, Claire Krause, Damien Ayers, Arapaut Sivaprasad"
   ]
  },
  {
   "cell_type": "markdown",
   "metadata": {},
   "source": [
    "## Importance of pixel quality\n",
    "\n",
    "As Landsat Imagery becomes more readily available, there has been a rapid increase in the amount of analyses undertaken by researchers around the globe. In the past, researchers would reject partly cloud-affected scenes in favour of cloud-free scenes. However, Landsat time series analysis using all cloud-free pixels has become a valuable technique and has increased the demand for automation of cloud, cloud shadow and saturation detection. Emergency response applications such as flood mapping typically have to contend with individual cloud affected scenes and therefore rely on effective cloud and cloud shadow removal techniques. The capacity to automatically exclude such pixels is essential for emerging multi-temporal analysis techniques that make use of every quality assured pixel within a time series of observations. [[1](#References)]"
   ]
  },
  {
   "cell_type": "markdown",
   "metadata": {
    "ExecuteTime": {
     "end_time": "2018-02-19T03:59:02.784709Z",
     "start_time": "2018-02-19T03:59:02.780446Z"
    },
    "extensions": {
     "jupyter_dashboards": {
      "version": 1,
      "views": {
       "grid_default": {
        "col": 0,
        "height": 10,
        "hidden": false,
        "row": 0,
        "width": 12
       },
       "report_default": {}
      }
     }
    }
   },
   "source": [
    "## What is PQ25? \n",
    "\n",
    "PQ25 is an assessment of each image pixel to determine if it is an unobscured, unsaturated observation of the Earth surface and also whether the pixel is represented in each spectral band. The PQ product allows users to produce masks which can be used to exclude pixels which do not meet their quality criteria from analysis. PQ25 provides an assessment of the quality of observations at a pixel level, and contains information about whether a pixel is affected by the following.\n",
    "\n",
    "- Spectral Contiguity (lack of signal in any band)\n",
    "- Saturation in any band\n",
    "- Presence of cloud\n",
    "- Presence of cloud shadow\n",
    "- Being offshore (sea) \n",
    "\n",
    "The PQ25 product combines established algorithms that detect clouds including the Automated Cloud Cover Assessment (ACCA) and Function of mask (Fmask). ACCA is already widely used within the remote sensing community; it is fast and relatively accurate. Fmask on the other hand is newer, but is rapidly becoming more established, and can provide a more accurate cloud mask than ACCA in certain cloud environments.\n",
    "\n",
    "The different sensor designs of Landsat 5 TM, Landsat 7 ETM+, and Landsat 8 OLI all have different sensor saturation characteristics. The PQ25 layer enables users to exclude observations from a given band where the pixels are saturated (exceed the dynamic range of the sensor). The per-band saturation information in PQ allows users to exclude pixels where their specific band of interest is saturated. [[1](#References)]\n",
    "\n",
    "PQ data exactly matches the resolution and projection system of Landsat 5, 7 and 8 data, with **25 square metre grid cells** in the **Australian Albers Equal Area (EPSG:3577)** projection system.\n",
    "\n",
    "\n"
   ]
  },
  {
   "cell_type": "markdown",
   "metadata": {},
   "source": [
    "## Masking Landsat with PQ\n",
    "\n",
    "### Import modules and libraries\n",
    "All the modules and libraries below are standard ones available to all users. "
   ]
  },
  {
   "cell_type": "code",
   "execution_count": null,
   "metadata": {
    "ExecuteTime": {
     "end_time": "2018-03-09T04:22:04.928506Z",
     "start_time": "2018-03-09T04:21:53.580088Z"
    },
    "extensions": {
     "jupyter_dashboards": {
      "version": 1,
      "views": {
       "grid_default": {
        "col": 0,
        "height": 36,
        "hidden": false,
        "row": 44,
        "width": 4
       },
       "report_default": {}
      }
     }
    },
    "scrolled": true
   },
   "outputs": [],
   "source": [
    "# Load modules\n",
    "import sys\n",
    "import warnings\n",
    "import datacube\n",
    "from datacube.storage import masking\n",
    "from datacube.helpers import ga_pq_fuser\n",
    "import matplotlib.pyplot as plt\n",
    "\n",
    "# Set up datacube to load from\n",
    "dc = datacube.Datacube(app='Landsat PQ')"
   ]
  },
  {
   "cell_type": "markdown",
   "metadata": {},
   "source": [
    "## Available Landsat PQ25 products\n",
    "The `list_products` method in the Datacube class displays the names and details of all available products. For example, `ls7_pq_albers` provides pixel quality data that matches each pixel in the corresponding Landsat 7 imagery:"
   ]
  },
  {
   "cell_type": "code",
   "execution_count": null,
   "metadata": {},
   "outputs": [],
   "source": [
    "# Connect to a datacube\n",
    "dc = datacube.Datacube(app='Intro to Landsat PQ25')\n",
    "\n",
    "# List metadata for all Landsat NBAR and NBART products available in DEA\n",
    "dc_products = dc.list_products()\n",
    "display_columns = ['name', 'description', 'product_type', 'crs', 'resolution', 'spatial_dimensions']\n",
    "dc_products[dc_products['name'].str.contains(\"pq_albers\")][display_columns].set_index('name')"
   ]
  },
  {
   "cell_type": "markdown",
   "metadata": {},
   "source": [
    "## Load matching Landsat and PQ25 data"
   ]
  },
  {
   "cell_type": "markdown",
   "metadata": {
    "extensions": {
     "jupyter_dashboards": {
      "version": 1,
      "views": {
       "grid_default": {
        "col": 4,
        "height": 4,
        "hidden": false,
        "row": 44,
        "width": 7
       },
       "report_default": {}
      }
     }
    }
   },
   "source": [
    "### Specify a *query* with coordinates and date range"
   ]
  },
  {
   "cell_type": "code",
   "execution_count": null,
   "metadata": {
    "ExecuteTime": {
     "end_time": "2018-03-09T04:22:05.005935Z",
     "start_time": "2018-03-09T04:22:04.974060Z"
    },
    "extensions": {
     "jupyter_dashboards": {
      "version": 1,
      "views": {
       "grid_default": {
        "hidden": true
       },
       "report_default": {}
      }
     }
    }
   },
   "outputs": [],
   "source": [
    "# Define temporal and spatial extents to pass to `dc.load` for the data extraction:\n",
    "query = {'lat': (-35.25, -35.35),\n",
    "         'lon': (149.05, 149.17),\n",
    "         'output_crs': 'EPSG:3577',\n",
    "         'resolution': (-25, 25),\n",
    "         'measurements': ['nbart_red', 'nbart_green', 'nbart_blue', \n",
    "                          'nbart_nir', 'nbart_swir_1', 'nbart_swir_2'],\n",
    "         'time':('2015-07-19', '2015-07-21')}"
   ]
  },
  {
   "cell_type": "markdown",
   "metadata": {
    "ExecuteTime": {
     "end_time": "2018-02-19T04:07:36.712207Z",
     "start_time": "2018-02-19T04:07:36.709253Z"
    },
    "extensions": {
     "jupyter_dashboards": {
      "version": 1,
      "views": {
       "grid_default": {
        "col": 0,
        "height": 8,
        "hidden": false,
        "row": 201,
        "width": 12
       },
       "report_default": {}
      }
     }
    }
   },
   "source": [
    "### Load Landsat data\n",
    "In this example we will first load NBAR-T data from the Landsat 8 satellite. Multiple scenes are acquired by the satellite on the same day. We want to group these together, and will use `group_by='solar_day'` to do this. To load in the data, we use our query above to provide a spatial and temporal extraction range, and remove nodata values:"
   ]
  },
  {
   "cell_type": "code",
   "execution_count": null,
   "metadata": {},
   "outputs": [],
   "source": [
    "# Load data\n",
    "ds = dc.load(product='ls8_ard', group_by='solar_day', **query)\n",
    "\n",
    "# Set all nodata pixels to `NaN`:\n",
    "ds = masking.mask_invalid_data(ds)\n",
    "ds"
   ]
  },
  {
   "cell_type": "code",
   "execution_count": null,
   "metadata": {},
   "outputs": [],
   "source": [
    "ds[['nbart_red', 'nbart_green', 'nbart_blue']].to_array().plot.imshow(robust=True,col='time',figsize=(8,8))"
   ]
  },
  {
   "cell_type": "markdown",
   "metadata": {},
   "source": [
    "Plot a true colour image using the dataset. Note that a large portion of the image is obscured by cloud:"
   ]
  },
  {
   "cell_type": "markdown",
   "metadata": {},
   "source": [
    "## Load matching PQ25 data \n",
    "We can now use the same query to extract PQ data that matches every Landsat 8 pixel. For Landsat surface reflectance data, `group_by='solar_day'` combines multiple scenes by simply copying data over the top of each other in a relatively undefined manner. Because of the way PQ data is stored, combining multiple scenes needs to be completed more carefully using a custom `fuse_func` that ensures data integrity. Here we use the `ga_pq_fuser` to perform this step:"
   ]
  },
  {
   "cell_type": "code",
   "execution_count": null,
   "metadata": {},
   "outputs": [],
   "source": [
    "pquery = {'lat': (-35.25, -35.35),\n",
    "          'lon': (149.05, 149.17),\n",
    "          'output_crs': 'EPSG:3577',\n",
    "          'resolution': (-25, 25),\n",
    "          'time':('2015-07-19', '2015-07-21')}\n",
    "\n",
    "sensor_pq = dc.load(product='ls8_pq_albers', group_by='solar_day', **pquery)\n",
    "\n",
    "sensor_pq"
   ]
  },
  {
   "cell_type": "markdown",
   "metadata": {},
   "source": [
    "The `sensor_pq` dataset above contains a `pixelquality` variable with integer values that flag various potential issues with the dataset. These numbers effectively represent a series of ones-and-zeroes flags which are then converted from binary to an integer. In this way, a single value can be used to contain information about many different potential pixel quality issues:"
   ]
  },
  {
   "cell_type": "code",
   "execution_count": null,
   "metadata": {},
   "outputs": [],
   "source": [
    "sensor_pq.pixelquality.values"
   ]
  },
  {
   "cell_type": "markdown",
   "metadata": {},
   "source": [
    "A description of the available pixel quality flags and their corresponding bits are listed below; typically, however, you will not need to know what bits are used for what flag."
   ]
  },
  {
   "cell_type": "code",
   "execution_count": null,
   "metadata": {
    "scrolled": true
   },
   "outputs": [],
   "source": [
    "dvf = masking.describe_variable_flags(sensor_pq)\n",
    "dvf"
   ]
  },
  {
   "cell_type": "markdown",
   "metadata": {},
   "source": [
    "### Create a PQ mask\n",
    "To turn all the `pixelquality` values into a single mask that can be used to actually filter our Landsat observations, we use the `make_mask` function. This lets you specify how you want to treat each flag. The final mask is created by taking all listed flags, and returns a `True` value only when **all listed flags have** `True` **values** (i.e. the flags are combined using an `AND` rule).\n",
    "\n",
    "* For `cloud_acca`, and `cloud_fmask`, specifying `cloud_acca='no_cloud'` or `cloud_fmask='no_cloud'` means that the pixels obscured by cloud are assigned a `False` value, but all non-cloudy values are assigned to `True`. These flags let you exclude pixels that may be affected by cloud using either the ACCA (Automated Cloud Cover Assessment) or Fmask (Function of mask) algorithms.\n",
    "* For `cloud_shadow_acca`, and `cloud_shadow_fmask`, specifying `cloud_shadow_acca='no_cloud_shadow'` or `cloud_shadow_fmask='no_cloud_shadow'` means that all shadowey pixels are assigned a `False` value, but all non-shadowed pixels are assigned to `True`. These flags let you exclude pixels where reflectance values may have been affected by cloud shadows.\n",
    "* For `land_sea`, specifying `land_sea='land'` will set any land pixel to `True`, and all ocean pixels to `False`. Conversely, setting `land_sea='sea'` will set all ocean pixels to `True`, and land pixels to `False`. This flag lets you exclude or include areas over ocean.\n",
    "* For all `*_saturated` flags, specifying `False` will set any saturated pixel to `False`, and all other pixels to `True` (and vice-versa). The purpose of this mask is to find areas where reflectance values have exceeded the dynamic range of the sensors. e.g. a bright light from reflections on water surface may saturate the pixels.\n",
    "* For `contiguous`, specifying `True` will set all pixels with data in every band to `True`, and all other pixels to `False` (and vice-versa). This restricts your analysis to pixels with valid data.\n",
    "\n",
    "In the following examples, we will show how `make_mask` works by building up a mask step-by-step. In this first example, we create a mask that contains `True` values only where there is no clouds flagged by the `ACCA` cloud masking algorithm. Here, yellow `True` pixels represent \"good\" data, while purple `False` pixels represent \"bad\" data:"
   ]
  },
  {
   "cell_type": "code",
   "execution_count": null,
   "metadata": {},
   "outputs": [],
   "source": [
    "good_quality = masking.make_mask(sensor_pq.pixelquality,\n",
    "                                 cloud_acca='no_cloud')\n",
    "good_quality.plot()"
   ]
  },
  {
   "cell_type": "markdown",
   "metadata": {},
   "source": [
    "In the next example, we create a mask with \"good\" `True` values only where there are no Fmask clouds **AND** no ACCA clouds in a pixel:"
   ]
  },
  {
   "cell_type": "code",
   "execution_count": null,
   "metadata": {},
   "outputs": [],
   "source": [
    "good_quality = masking.make_mask(sensor_pq.pixelquality,\n",
    "                                 cloud_acca='no_cloud',\n",
    "                                 cloud_fmask='no_cloud')\n",
    "good_quality.plot();"
   ]
  },
  {
   "cell_type": "markdown",
   "metadata": {},
   "source": [
    "In the next example, we create a mask with \"good\" `True` values only where there are no Fmask clouds **AND** no ACCA clouds **AND** no Fmask cloud shadows **AND** no ACCA cloud shadows in a pixel:"
   ]
  },
  {
   "cell_type": "code",
   "execution_count": null,
   "metadata": {},
   "outputs": [],
   "source": [
    "good_quality = masking.make_mask(sensor_pq.pixelquality,\n",
    "                                 cloud_acca='no_cloud',\n",
    "                                 cloud_fmask='no_cloud',\n",
    "                                 cloud_shadow_acca='no_cloud_shadow',\n",
    "                                 cloud_shadow_fmask='no_cloud_shadow')\n",
    "good_quality.plot();"
   ]
  },
  {
   "cell_type": "markdown",
   "metadata": {},
   "source": [
    "In the next example, we create a mask with \"good\" `True` values only where there are no Fmask clouds **AND** no ACCA clouds **AND** no Fmask cloud shadows **AND** no ACCA cloud shadows **AND** no saturated values for any band:"
   ]
  },
  {
   "cell_type": "code",
   "execution_count": null,
   "metadata": {},
   "outputs": [],
   "source": [
    "good_quality = masking.make_mask(sensor_pq.pixelquality,\n",
    "                                 cloud_acca='no_cloud',\n",
    "                                 cloud_fmask='no_cloud',\n",
    "                                 cloud_shadow_acca='no_cloud_shadow',\n",
    "                                 cloud_shadow_fmask='no_cloud_shadow',\n",
    "                                 blue_saturated=False,\n",
    "                                 green_saturated=False,\n",
    "                                 red_saturated=False,\n",
    "                                 nir_saturated=False,\n",
    "                                 swir1_saturated=False,\n",
    "                                 swir2_saturated=False)\n",
    "good_quality.plot();"
   ]
  },
  {
   "cell_type": "markdown",
   "metadata": {},
   "source": [
    "Putting all the pieces together, we can create a mask with \"good\" `True` values only where there are no Fmask clouds **AND** no ACCA clouds **AND** no Fmask cloud shadows **AND** no ACCA cloud shadows **AND** no saturated values for any band **AND** where pixels have values for every band (i.e. 'contiguous' values). \n",
    "\n",
    "This final combined mask is a good starting point when working with Landsat data:"
   ]
  },
  {
   "cell_type": "code",
   "execution_count": null,
   "metadata": {},
   "outputs": [],
   "source": [
    "good_quality = masking.make_mask(sensor_pq.pixelquality,\n",
    "                                 cloud_acca='no_cloud',\n",
    "                                 cloud_fmask='no_cloud',\n",
    "                                 cloud_shadow_acca='no_cloud_shadow',\n",
    "                                 cloud_shadow_fmask='no_cloud_shadow',\n",
    "                                 blue_saturated=False,\n",
    "                                 green_saturated=False,\n",
    "                                 red_saturated=False,\n",
    "                                 nir_saturated=False,\n",
    "                                 swir1_saturated=False,\n",
    "                                 swir2_saturated=False,\n",
    "                                 contiguous=True)\n",
    "print(good_quality)\n",
    "good_quality.plot();"
   ]
  },
  {
   "cell_type": "markdown",
   "metadata": {},
   "source": [
    "## Apply the PQ mask\n",
    "The code below will mask the specified pixels by setting their data points to NaN where the mask is `False`. In this example, this will mask out all pixels that are affected by cloud, cloud shadow, saturation, or any pixels that do not have data for every band:"
   ]
  },
  {
   "cell_type": "code",
   "execution_count": null,
   "metadata": {},
   "outputs": [],
   "source": [
    "# This is to match temporal dimensions on both datasets\n",
    "# For some reason Sandbox PQ data does not contain millisecond information\n",
    "ds[\"time\"] = good_quality.time\n",
    "\n",
    "# Apply the mask to preserve only the good data\n",
    "ds_masked = ds.where(good_quality)\n",
    "ds_masked"
   ]
  },
  {
   "cell_type": "markdown",
   "metadata": {},
   "source": [
    "### Plot the PQ-masked Landsat data\n",
    "Plot the data, and observe how all low-quality pixels (e.g. cloud) have been removed/masked out from the image:"
   ]
  },
  {
   "cell_type": "code",
   "execution_count": null,
   "metadata": {},
   "outputs": [],
   "source": [
    "ds_masked[['nbart_red', 'nbart_green', 'nbart_blue']].isel(time=0).to_array().plot.imshow(robust=True, figsize=(8, 8))"
   ]
  },
  {
   "cell_type": "markdown",
   "metadata": {},
   "source": [
    "## References\n",
    "1. GA, 2015. *Pixel Quality (PQ25) Product Description* https://d28rz98at9flks.cloudfront.net/81942/Pixel_Quality_PQ25.PDF"
   ]
  }
 ],
 "metadata": {
  "anaconda-cloud": {},
  "celltoolbar": "Raw Cell Format",
  "extensions": {
   "jupyter_dashboards": {
    "activeView": "grid_default",
    "version": 1,
    "views": {
     "grid_default": {
      "cellMargin": 10,
      "defaultCellHeight": 20,
      "maxColumns": 12,
      "name": "grid",
      "type": "grid"
     },
     "report_default": {
      "name": "report",
      "type": "report"
     }
    }
   }
  },
  "kernelspec": {
   "display_name": "Python 3",
   "language": "python",
   "name": "python3"
  },
  "language_info": {
   "codemirror_mode": {
    "name": "ipython",
    "version": 3
   },
   "file_extension": ".py",
   "mimetype": "text/x-python",
   "name": "python",
   "nbconvert_exporter": "python",
   "pygments_lexer": "ipython3",
   "version": "3.6.8"
  },
  "latex_envs": {
   "LaTeX_envs_menu_present": true,
   "autocomplete": true,
   "bibliofile": "biblio.bib",
   "cite_by": "apalike",
   "current_citInitial": 1,
   "eqLabelWithNumbers": true,
   "eqNumInitial": 1,
   "hotkeys": {
    "equation": "Ctrl-E",
    "itemize": "Ctrl-I"
   },
   "labels_anchors": false,
   "latex_user_defs": false,
   "report_style_numbering": false,
   "user_envs_cfg": false
  },
  "toc": {
   "nav_menu": {},
   "number_sections": true,
   "sideBar": true,
   "skip_h1_title": false,
   "toc_cell": false,
   "toc_position": {
    "height": "541px",
    "left": "0px",
    "right": "1164px",
    "top": "111px",
    "width": "104px"
   },
   "toc_section_display": "none",
   "toc_window_display": true
  },
  "widgets": {
   "state": {
    "6dc82a33fe67407293537fd5b961062a": {
     "views": [
      {
       "cell_index": 25
      }
     ]
    }
   },
   "version": "1.2.0"
  }
 },
 "nbformat": 4,
 "nbformat_minor": 4
}
