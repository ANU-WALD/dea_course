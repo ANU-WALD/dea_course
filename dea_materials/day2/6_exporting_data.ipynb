{
 "cells": [
  {
   "cell_type": "markdown",
   "metadata": {},
   "source": [
    "## Exporting images out of DEA\n",
    "\n",
    "#### Data in the DataCube is represented as XArray Dataset objects. Xarray follows a data model for representing data which is very similar to the one defined in the NetCDF4 file format. NetCDF4 is a file format designed to store scientific numerical data. Multidimensional arrays can be naturally stored in this format together with dimensions information as well as metadata.\n",
    "\n",
    "#### XArray has a method called `.to_netcdf()` that can be called to save `Datasets` into disk using the NetCDF file format. Unfortunately, DEA `Datasets` store metadata using a format that is not fully compatible with this function and an alternative function is offered under the DEA library.\n",
    "\n",
    "#### GeoTIFF is probably the most popular file format for storing georeferenced raster data. DEA also offers a function to save the contents of XArray Datasets in this format.\n",
    "\n",
    "#### Let's start by loading the Python libraries for this tutorial."
   ]
  },
  {
   "cell_type": "code",
   "execution_count": null,
   "metadata": {},
   "outputs": [],
   "source": [
    "%matplotlib inline\n",
    "\n",
    "import sys\n",
    "sys.path.append(\"./Scripts\")\n",
    "import datacube\n",
    "import xarray as xr\n",
    "from dea_plotting import rgb\n",
    "\n",
    "# This function allows saving DEA Datasets into NetCDF4 file format\n",
    "from datacube.drivers.netcdf import write_dataset_to_netcdf\n",
    "\n",
    "# This function allows saving DEA Datasets into GeoTIFF file format\n",
    "from datacube.helpers import write_geotiff\n",
    "# New version\n",
    "#from datacube.utils.cog import write_cog\n",
    "import warnings\n",
    "warnings.filterwarnings(\"ignore\", category=DeprecationWarning) \n",
    "\n",
    "\n",
    "dc = datacube.Datacube(app='exporting_data')"
   ]
  },
  {
   "cell_type": "markdown",
   "metadata": {},
   "source": [
    "#### We now load some DEA data from Sentinel-2 for Adelaide to experiment with this function."
   ]
  },
  {
   "cell_type": "code",
   "execution_count": null,
   "metadata": {},
   "outputs": [],
   "source": [
    "bands = [\"nbart_red\",\"nbart_green\",\"nbart_blue\"]\n",
    "\n",
    "query = {'lat': (-34.90, -34.96),\n",
    "         'lon': (138.57, 138.63),\n",
    "         'output_crs': 'EPSG:3577',\n",
    "         'resolution': (-20, 20),\n",
    "         'measurements': bands,\n",
    "         'time': ('2019-01-01', '2019-03-01')}\n",
    "\n",
    "adelaide = dc.load(product='s2a_ard_granule', group_by='solar_day', **query)\n",
    "\n",
    "rgb(adelaide, col=\"time\", bands=bands, col_wrap=6)"
   ]
  },
  {
   "cell_type": "markdown",
   "metadata": {},
   "source": [
    "#### To save a copy of this dataset using the NetCDF format, we just need to call the `write_dataset_to_netcdf()` function using the XArray Dataset as the first argument and the name of the file as the second argument."
   ]
  },
  {
   "cell_type": "code",
   "execution_count": null,
   "metadata": {},
   "outputs": [],
   "source": [
    "write_dataset_to_netcdf(adelaide, 'adelaide2019.nc')"
   ]
  },
  {
   "cell_type": "markdown",
   "metadata": {},
   "source": [
    "#### You will notice a new file has come up on the left panel with name `adelaide.nc`. This file can be downloaded into your computer by right-clicking on it and selecting the `Download` option from the menu.\n",
    "\n",
    "#### Exercise 6.1: Download the previous file into your local computer. Then, change the name of this file to `adelaide.nc` and using the up arrow icon on the top menu upload (&#8683;) this file again into the DEA Sandbox environment. \n",
    "\n",
    "> Note: You should have two netcdf files showing in the file browser with names `adelaide.nc` and `adelaide2019.nc`\n",
    "\n",
    "#### Now, we are going to load the contents of new file you have uploaded using XArray functionality."
   ]
  },
  {
   "cell_type": "code",
   "execution_count": null,
   "metadata": {},
   "outputs": [],
   "source": [
    "ds = xr.open_dataset('adelaide.nc')\n",
    "\n",
    "ds"
   ]
  },
  {
   "cell_type": "markdown",
   "metadata": {},
   "source": [
    "#### This file can be opened with the generic XArray library or any other program capable of reading NetCDFs and has no dependencies on DEA or Python.\n",
    "\n",
    "#### NetCDF is not the best file format in terms of compatibility though. GeoTIFF is normally a better option when it comes to sharing our data with others and for working with other geospatial platforms and programs.\n",
    "\n",
    "#### GeoTiFF offers different configurations for storing multiband data in a single file. Also, NetCDF cannot store multiple times in one file so we need to select single times before we can save the data -- Although this can be hacked by storing time as if they were multiple bands. Let's start by using the previous data to create a file storing a single band.\n",
    "\n",
    ">Tip: An important caveat to using the `write_geotiff()` function is that it requires an `xarray.Dataset` to be passed to the function. Supplying an `xarray.DataArray` (single variable) will return an error."
   ]
  },
  {
   "cell_type": "code",
   "execution_count": null,
   "metadata": {},
   "outputs": [],
   "source": [
    "ds = xr.open_dataset('adelaide2019.nc')\n",
    "\n",
    "write_geotiff('red_band.tif', ds[['nbart_red']].isel(time=3))"
   ]
  },
  {
   "cell_type": "markdown",
   "metadata": {},
   "source": [
    "#### Exercise 6.2: Can you create a new GeoTiFF file storing the blue band for the last temporal entry in the previous Dataset?"
   ]
  },
  {
   "cell_type": "code",
   "execution_count": null,
   "metadata": {},
   "outputs": [],
   "source": [
    "write_geotiff('blue_band.tif', ?)"
   ]
  },
  {
   "cell_type": "markdown",
   "metadata": {},
   "source": [
    "#### As we said, GeoTiFFs can store multiple spectral bands in one file. To do this, we can pass the XArray Dataset object without selecting any particular band, but we still need to select one time."
   ]
  },
  {
   "cell_type": "code",
   "execution_count": null,
   "metadata": {},
   "outputs": [],
   "source": [
    "# Write multi-band GeoTIFF\n",
    "write_geotiff('rgb.tif', ds.isel(time=3))"
   ]
  },
  {
   "cell_type": "markdown",
   "metadata": {},
   "source": [
    "#### Storing all the times in a Dataset in different GeoTiFFs is also possible looping through the time dimension:"
   ]
  },
  {
   "cell_type": "code",
   "execution_count": null,
   "metadata": {},
   "outputs": [],
   "source": [
    "for i in range(len(ds.time)):\n",
    "    write_geotiff(f'{str(ds.time.values[i])[-30:-19]}.tif', ds.isel(time=i))"
   ]
  },
  {
   "cell_type": "markdown",
   "metadata": {},
   "source": [
    "#### GeoTiffs and NetCDF are scientific file formats to store the data together with all the metadata to correctly interpret the contents. There are cases when we want to share the output of our DEA analysis with the public using image formats such as PNG or animated GIFFs. \n",
    "\n",
    "#### There are many ways of creating PNGs in Python, but one the easiest one is using the `imageio` library to save numpy arrays as images. Let's see how we can do this through an exercise:\n",
    "\n",
    "#### Exercise 6.3: The following cells describe a few steps that we need to perform to select and transform one image and save it using `imageio`. Follow these steps so the last function can save a PNG with a RGB image of Adelaide."
   ]
  },
  {
   "cell_type": "code",
   "execution_count": null,
   "metadata": {},
   "outputs": [],
   "source": [
    "import imageio\n",
    "\n",
    "ds = xr.open_dataset('adelaide2019.nc')\n",
    "\n",
    "# 1.- Select the last temporal index from the Dataset object\n",
    "ds = ds.?\n",
    "\n",
    "# 2.- Access the underlying numpy arrays for the red, green and blue bands \n",
    "red = ds.?\n",
    "green = ds.?\n",
    "blue = ds.?\n",
    "\n",
    "# 3.- Stack these three arrays into a 3-dimensional array\n",
    "rgb = ?\n",
    "\n",
    "# 4.- Change the data type into np.float32\n",
    "rgb = ?\n",
    "\n",
    "# 5.- Re-scale the values to the [0-1] range\n",
    "rgb = ?\n",
    "\n",
    "imageio.imwrite(\"adelaide.png\", rgb)"
   ]
  },
  {
   "cell_type": "markdown",
   "metadata": {},
   "source": [
    "#### Animated Giffs are a popular tool to share small videos. This is also very useful to create simple visualisations to represent temporal changes in the Earth surface.\n",
    "\n",
    "#### Let's see how we can create an animation showing the changes in the water level of \n",
    "\n",
    "#### We can use the `load_ard` function to load data from multiple satellites (i.e. Sentinel-2A and -2B), and return a single `xarray.Dataset` containing only observations with a minimum percentage of good quality pixels. This will allow us to create a visually appealing time series animation of observations that are not affected by cloud.\n",
    "\n",
    "> Note: In the example below, we request only observations which are 95% free of clouds and other poor quality pixels by specifying `min_gooddata=0.95` in the `load_ard()` function."
   ]
  },
  {
   "cell_type": "code",
   "execution_count": null,
   "metadata": {},
   "outputs": [],
   "source": [
    "from dea_datahandling import load_ard\n",
    "\n",
    "query = {'x': (142.41, 142.57),  \n",
    "         'y': (-32.225, -32.325),\n",
    "         'time': ('2018-09-01', '2019-09-01'),\n",
    "         'measurements': ['nbart_red', \n",
    "                          'nbart_green', \n",
    "                          'nbart_blue',\n",
    "                          'nbart_nir_1',\n",
    "                          'nbart_swir_2'],\n",
    "         'output_crs': 'EPSG:3577',\n",
    "         'resolution': (-30, 30)}\n",
    "\n",
    "# Load available data from both Sentinel 2 satellites\n",
    "ds = load_ard(dc=dc, \n",
    "              products=['s2a_ard_granule', 's2b_ard_granule'], \n",
    "              min_gooddata=0.95,\n",
    "              mask_pixel_quality=False,\n",
    "              group_by='solar_day',\n",
    "              **query)"
   ]
  },
  {
   "cell_type": "markdown",
   "metadata": {},
   "source": [
    "#### Let's plot a selection of observations from the dataset in true colour using the `rgb` function:"
   ]
  },
  {
   "cell_type": "code",
   "execution_count": null,
   "metadata": {},
   "outputs": [],
   "source": [
    "# Plot four images from the dataset\n",
    "rgb(ds, index=[0, 6, 12, 18])"
   ]
  },
  {
   "cell_type": "markdown",
   "metadata": {},
   "source": [
    "#### The `xr_animation` function is based on functionality within `matplotlib.animation`. It takes an `xarray.Dataset` and exports a one band or three band (e.g. true or false colour) GIF or MP4 animation showing changes in the landscape across time. \n",
    "\n",
    "#### Here, we plot the dataset we loaded above as an animated GIF, using the `['nbart_red', 'nbart_green', 'nbart_blue']` satellite bands to generate a true colour RGB animation. The interval between the animation frames is set to to 100 milliseconds using `interval`, and the width of the animation to 300 pixels using `width_pixels`:"
   ]
  },
  {
   "cell_type": "code",
   "execution_count": null,
   "metadata": {},
   "outputs": [],
   "source": [
    "from dea_plotting import xr_animation\n",
    "from matplotlib import pyplot as plt\n",
    "from IPython.display import Image\n",
    "\n",
    "# Produce time series animation of red, green and blue bands\n",
    "xr_animation(ds=ds, \n",
    "             bands=['nbart_red', 'nbart_green', 'nbart_blue'],\n",
    "             output_path='animated_timeseries.gif',                                \n",
    "             interval=100, \n",
    "             width_pixels=300)\n",
    "\n",
    "# Plot animated gif\n",
    "plt.close()\n",
    "Image(filename='animated_timeseries.gif')"
   ]
  },
  {
   "cell_type": "markdown",
   "metadata": {},
   "source": [
    "#### Exercise 6.4: Can you create a similar animated Giff for the same area using a false colour composite with these bands: `['nbart_swir_2', 'nbart_nir_1', 'nbart_green']`"
   ]
  },
  {
   "cell_type": "code",
   "execution_count": null,
   "metadata": {},
   "outputs": [],
   "source": []
  },
  {
   "cell_type": "markdown",
   "metadata": {},
   "source": [
    "#### To finish this tutorial, we are going to see how polygon data can be used in DEA to specify an area of interest. Vector files can be used directly into DEA query objects instead of latitude/longitude thresholds. For example, the following file, stored locally, contains a shapefile defining an area."
   ]
  },
  {
   "cell_type": "code",
   "execution_count": null,
   "metadata": {
    "ExecuteTime": {
     "end_time": "2019-02-21T00:00:28.639366Z",
     "start_time": "2019-02-21T00:00:28.634908Z"
    }
   },
   "outputs": [],
   "source": [
    "poly_path = 'data/reeves_lake_for_demo.shp'"
   ]
  },
  {
   "cell_type": "markdown",
   "metadata": {},
   "source": [
    "#### `Geopandas` is a Python library for working with geospatial data. It can read a large number of formats and offers convenient functionality to analyse and represent geospatial data."
   ]
  },
  {
   "cell_type": "code",
   "execution_count": null,
   "metadata": {
    "ExecuteTime": {
     "start_time": "2019-02-21T00:00:12.216Z"
    }
   },
   "outputs": [],
   "source": [
    "import geopandas as gpd\n",
    "\n",
    "plt.clf()\n",
    "shape_plot = gpd.read_file(poly_path)\n",
    "shape_plot.plot()\n",
    "plt.show()"
   ]
  },
  {
   "cell_type": "markdown",
   "metadata": {},
   "source": [
    "Using the `open_polygon_from_shapefile` function from the DEA toolbox, we can extract the geometry information and pass it directly into the DEA query instead of specifying `lat` and `lon` values."
   ]
  },
  {
   "cell_type": "code",
   "execution_count": null,
   "metadata": {
    "ExecuteTime": {
     "start_time": "2019-02-21T00:00:12.229Z"
    }
   },
   "outputs": [],
   "source": [
    "import DEADataHandling\n",
    "import DEAPlotting\n",
    "\n",
    "GEOM, SHAPE_NAME = DEADataHandling.open_polygon_from_shapefile(poly_path)\n",
    "\n",
    "query = {\n",
    "    'time': ('2016-05-01', '2016-05-30'), \n",
    "    'geopolygon': GEOM,\n",
    "    'output_crs': 'EPSG:3577',\n",
    "    'resolution': (-10, 10)\n",
    "}\n",
    "\n",
    "reeves = DEADataHandling.load_clearsentinel2(dc=dc, query=query, sensors=['s2a', 's2b'],\n",
    "                                             bands_of_interest=['fmask','nbart_green','nbart_nir_1','nbart_swir_2'], \n",
    "                                             masked_prop=0, satellite_metadata=True)"
   ]
  },
  {
   "cell_type": "markdown",
   "metadata": {},
   "source": [
    "> Note: Load cloud free Sentinel data for all sensors (S2A, S2B) for the above query. Setting \n",
    "`satellite_metadata=True` will return the data with a variable that gives the abbreviation\n",
    "of the satellite that made the observation. Masked_prop allows removing timesteps with missing data greater than masked proportion, useful when animating/communicating results.\n",
    "\n",
    "#### Let's plot one of the images in the dataset:"
   ]
  },
  {
   "cell_type": "code",
   "execution_count": null,
   "metadata": {},
   "outputs": [],
   "source": [
    "rgb(reeves, bands=['nbart_green','nbart_nir_1','nbart_swir_2'], index=[2])"
   ]
  },
  {
   "cell_type": "markdown",
   "metadata": {},
   "source": [
    "#### Exercise 6.5: Can you create a true colour Giff animation of this lake?"
   ]
  },
  {
   "cell_type": "code",
   "execution_count": null,
   "metadata": {},
   "outputs": [],
   "source": []
  }
 ],
 "metadata": {
  "celltoolbar": "Raw Cell Format",
  "kernelspec": {
   "display_name": "Python 3",
   "language": "python",
   "name": "python3"
  },
  "language_info": {
   "codemirror_mode": {
    "name": "ipython",
    "version": 3
   },
   "file_extension": ".py",
   "mimetype": "text/x-python",
   "name": "python",
   "nbconvert_exporter": "python",
   "pygments_lexer": "ipython3",
   "version": "3.6.9"
  },
  "toc": {
   "base_numbering": 1,
   "nav_menu": {},
   "number_sections": true,
   "sideBar": true,
   "skip_h1_title": false,
   "title_cell": "Table of Contents",
   "title_sidebar": "Contents",
   "toc_cell": false,
   "toc_position": {},
   "toc_section_display": "block",
   "toc_window_display": false
  }
 },
 "nbformat": 4,
 "nbformat_minor": 4
}
