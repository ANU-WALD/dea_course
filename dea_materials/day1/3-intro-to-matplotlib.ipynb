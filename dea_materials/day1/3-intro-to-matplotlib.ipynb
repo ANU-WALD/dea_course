{
 "cells": [
  {
   "cell_type": "markdown",
   "metadata": {},
   "source": [
    "# Introduction to Matplotlib for image data\n",
    "> This second part introduces matplotlib, a Python library for plotting numpy arrays as images.\n",
    "\n",
    "- toc: false \n",
    "- badges: true\n",
    "- comments: true\n",
    "- categories: [matplotlib]"
   ]
  },
  {
   "cell_type": "markdown",
   "metadata": {},
   "source": [
    "#### For the purposes of this tutorial we are going to use a part of matplotlib called pyplot. We import it by doing:"
   ]
  },
  {
   "cell_type": "code",
   "execution_count": null,
   "metadata": {},
   "outputs": [],
   "source": [
    "%matplotlib inline\n",
    "\n",
    "import numpy as np\n",
    "from matplotlib import pyplot as plt"
   ]
  },
  {
   "cell_type": "markdown",
   "metadata": {},
   "source": [
    "#### Images are 2-dimensional arrays containing pixels. We can use 2-dimensional arrays to represent image data and visualise with matplotlib:"
   ]
  },
  {
   "cell_type": "code",
   "execution_count": null,
   "metadata": {},
   "outputs": [],
   "source": [
    "arr = np.arange(100).reshape(10,10)\n",
    "\n",
    "print(arr)\n",
    "\n",
    "plt.imshow(arr)"
   ]
  },
  {
   "cell_type": "markdown",
   "metadata": {},
   "source": [
    "#### Exercise 3.1: Can you create a similar image but with shape (50,50)?"
   ]
  },
  {
   "cell_type": "code",
   "execution_count": null,
   "metadata": {},
   "outputs": [],
   "source": [
    "from check_answer import check_answer\n",
    "\n",
    "answ = np.arange(?).reshape(?)\n",
    "\n",
    "plt.imshow(answ)\n",
    "\n",
    "check_answer(\"3.1\", answ.sum())"
   ]
  },
  {
   "cell_type": "markdown",
   "metadata": {},
   "source": [
    "#### If you remember from the last tutorial we were able to address regions of a numpy array using the [ ] index notation. For multidimensional arrays we can user `,` to designate the different axis. For example we can update the values on the left part of this array to be equal to `1`."
   ]
  },
  {
   "cell_type": "code",
   "execution_count": null,
   "metadata": {},
   "outputs": [],
   "source": [
    "arr = np.arange(100).reshape(10,10)\n",
    "arr[:, :5] = 1\n",
    "\n",
    "plt.imshow(arr)"
   ]
  },
  {
   "cell_type": "markdown",
   "metadata": {},
   "source": [
    "> Note: We have selected all the values `:` in the first axis (vertical) and the first 5 values `:5` on the second axis (horizontal)"
   ]
  },
  {
   "cell_type": "markdown",
   "metadata": {},
   "source": [
    "#### Exercise 3.2: Can you do something similar updating all the values in the top-left half corner to `1`"
   ]
  },
  {
   "cell_type": "code",
   "execution_count": null,
   "metadata": {},
   "outputs": [],
   "source": [
    "answ = np.arange(100).reshape(10,10)\n",
    "answ[?] = 1\n",
    "\n",
    "plt.imshow(answ)\n",
    "\n",
    "check_answer(\"3.2\", answ.sum())"
   ]
  },
  {
   "cell_type": "markdown",
   "metadata": {},
   "source": [
    "#### Exercise 3.3: Remember how we used boolean arrays in the previous tutorial to select parts of an array? How would you create a boolean array indicating the values that are greater than `49`? \n",
    "\n",
    "> Tip: Your new array should be a boolean array with the same shape as the initial array."
   ]
  },
  {
   "cell_type": "code",
   "execution_count": null,
   "metadata": {},
   "outputs": [],
   "source": [
    "answ = np.arange(100).reshape(10,10)\n",
    "answ = ?\n",
    "\n",
    "plt.imshow(answ)\n",
    "\n",
    "check_answer(\"3.3\", answ.sum())"
   ]
  },
  {
   "cell_type": "markdown",
   "metadata": {},
   "source": [
    "#### We can use the Pyplot library to load an image using the matplotlib function `imread`. The image that we get is a 3-dimensional numpy array. By convention the first dimension corresponds to the vertical axis, the second to the horizontal axis and the third are the Red, Green and Blue channels of the image. "
   ]
  },
  {
   "cell_type": "code",
   "execution_count": null,
   "metadata": {},
   "outputs": [],
   "source": [
    "im = np.copy(plt.imread('data/black_mountain_fire.jpg'))\n",
    "\n",
    "im.shape"
   ]
  },
  {
   "cell_type": "markdown",
   "metadata": {},
   "source": [
    "#### Exercise 3.4: Can you find the data type of the previous `im` array? Remeber the suffix we used in the previous tutorial to find out the type of an array"
   ]
  },
  {
   "cell_type": "code",
   "execution_count": null,
   "metadata": {},
   "outputs": [],
   "source": [
    "answ = im.?\n",
    "\n",
    "check_answer(\"3.4\", answ)"
   ]
  },
  {
   "cell_type": "markdown",
   "metadata": {},
   "source": [
    "#### Let's display this image using the `imshow` function."
   ]
  },
  {
   "cell_type": "code",
   "execution_count": null,
   "metadata": {},
   "outputs": [],
   "source": [
    "plt.imshow(im)"
   ]
  },
  {
   "cell_type": "markdown",
   "metadata": {},
   "source": [
    "#### This is a photo of Black Mountain (ACT) taken during some prescribed burns in 2014. A colour image is normally composed of three layers containing the values of the red, green and blue pixels. When we display an image we see all three colours combined."
   ]
  },
  {
   "cell_type": "markdown",
   "metadata": {},
   "source": [
    "#### Exersise 3.5: Let's use the indexing functionality of numpy to select a portion of this image. Would you be able to select the top-right corner of this image with shape (800,800)? Remember there are three axes in this image.\n"
   ]
  },
  {
   "cell_type": "code",
   "execution_count": null,
   "metadata": {},
   "outputs": [],
   "source": [
    "answ = im[?]\n",
    "\n",
    "plt.imshow(answ)\n",
    "\n",
    "check_answer(\"3.5\", answ.mean())"
   ]
  },
  {
   "cell_type": "markdown",
   "metadata": {},
   "source": [
    "#### Exercise 3.6: Let's get some more practice to improve your indexing skills! Can you create a cropped image around Black Mountain's tower? Remember: first dimension is the vertical coordinates, second dimension is the horizontal coordinates and the third are the RGB channels of the image."
   ]
  },
  {
   "cell_type": "code",
   "execution_count": null,
   "metadata": {},
   "outputs": [],
   "source": [
    "answ = im[?]\n",
    "\n",
    "plt.imshow(answ)"
   ]
  },
  {
   "cell_type": "markdown",
   "metadata": {},
   "source": [
    "#### Let's have a look at one of the pixels in this image. We choose the top-left corner with position (0,0) and show the values of its RGB channels."
   ]
  },
  {
   "cell_type": "code",
   "execution_count": null,
   "metadata": {},
   "outputs": [],
   "source": [
    "im[0,0]"
   ]
  },
  {
   "cell_type": "markdown",
   "metadata": {},
   "source": [
    "#### The first value corresponds to the red component, the second to the green and the third to the blue. `uint8` can contain values in the range `[0-255]` so the pixel is mostly blue, which makes sense for a pixel representing the sky.\n",
    "\n",
    "#### Now let's modify the image. What happens if we set all the values representing the green channel to the maximum value?"
   ]
  },
  {
   "cell_type": "code",
   "execution_count": null,
   "metadata": {},
   "outputs": [],
   "source": [
    "# We first make a copy to avoid modifying the original image.\n",
    "im2 = np.copy(im)\n",
    "\n",
    "im2[:,:,1] = 255\n",
    "\n",
    "plt.imshow(im2)"
   ]
  },
  {
   "cell_type": "markdown",
   "metadata": {},
   "source": [
    "#### Exercise 3.7: Could you create an artistic representation of the previous image saturating different parts of the image with different colours? We want the top-left quadrant with the red channel saturated, the top-right with the green channel satured, the bottom-left with the blue channel saturated and the bottom-right as it is."
   ]
  },
  {
   "cell_type": "code",
   "execution_count": null,
   "metadata": {},
   "outputs": [],
   "source": [
    "im2 = np.copy(im)\n",
    "\n",
    "im2[?] = 255\n",
    "im2[?] = 255\n",
    "im2[?] = 255\n",
    "\n",
    "plt.imshow(im2)"
   ]
  },
  {
   "cell_type": "code",
   "execution_count": null,
   "metadata": {},
   "outputs": [],
   "source": []
  }
 ],
 "metadata": {
  "kernelspec": {
   "display_name": "Python 3",
   "language": "python",
   "name": "python3"
  },
  "language_info": {
   "codemirror_mode": {
    "name": "ipython",
    "version": 3
   },
   "file_extension": ".py",
   "mimetype": "text/x-python",
   "name": "python",
   "nbconvert_exporter": "python",
   "pygments_lexer": "ipython3",
   "version": "3.6.9"
  }
 },
 "nbformat": 4,
 "nbformat_minor": 4
}
