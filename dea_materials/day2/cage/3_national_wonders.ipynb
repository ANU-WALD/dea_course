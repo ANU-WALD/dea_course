{
 "cells": [
  {
   "cell_type": "markdown",
   "metadata": {},
   "source": [
    "# Going live with DEA satellite images"
   ]
  },
  {
   "cell_type": "markdown",
   "metadata": {},
   "source": [
    "## Collective exercise\n",
    "\n",
    "This exercise is designed for working in groups. Each group is given a colour: <span style=\"color:red\">*Red*</span>, <span style=\"color:green\">*Green*</span>,<span style=\"color:blue\">*Blue*</span> and <span style=\"color:orange\">*Orange*</span>. And each colour corresponds to an area or tile in Australia:\n",
    "\n",
    "* <span style=\"color:red\">*Red*</span>: [Kakadu](https://gist.github.com/prl900/665a4d6a89bdb4ba41325fc31fbc2a71)\n",
    "* <span style=\"color:green\">*Green*</span>: [Daintree](https://gist.github.com/prl900/8caa72e248df31efe0efaecdcdef6d36)\n",
    "* <span style=\"color:blue\">*Blue*</span>: [Kata Tjuta](https://gist.github.com/prl900/3d0819d000f94b96b28b9ef197f730f2)\n",
    "* <span style=\"color:orange\">*Orange*</span>: [Gawler Ranges](https://gist.github.com/prl900/efeeec928b4aa8882e5ca5fbd41aabef)\n",
    "\n",
    "Follow the link to the different locations and see the polygon represented in a map. If you click on the `Raw` button you'll see the geojson version of the polygon which you can display interactively on [geojson.io](http://geojson.io/)\n",
    "\n",
    "## Objective\n",
    "\n",
    "* Each team will have to generate 4 images using DEA datasets for their corresponding location\n",
    "* Once generated, the images will have to be uploaded to the [Australian National Parks from Space](https://www.waldapps.com/dea-workshop/app.html) website\n",
    "\n",
    "## Images\n",
    "\n",
    "Using the extents defined in the GeoJSON files describing the polygon, you'll have to use your DEA skills to generate the most recently updated versions of the following images (exported in PNG format):\n",
    "\n",
    "* [colour]_team_1.png: Enhanced Vegetation Index (EVI) using the Sentinel 2 `s2a_ard_granule` product\n",
    "* [colour]_team_2.png: False Colour RGB [NIR,Red,Green] using Landsat 8 NBART `ls8_nbar_albers` product\n",
    "* [colour]_team_3.png and [colour]_team_4.png: Be creative and put together two more images using of any of the DEA (or a combination of) products. You can apply matplotlib colourmaps to single band images or create RGB composites as a way of combining different bands\n",
    "\n"
   ]
  },
  {
   "cell_type": "markdown",
   "metadata": {},
   "source": [
    "## Sentinel2 Enhanced Vegetation Index\n",
    "\n",
    "The enhanced vegetation index (EVI) is an 'optimized' vegetation index designed to enhance the vegetation signal with improved sensitivity in high biomass regions and improved vegetation monitoring through a de-coupling of the canopy background signal and a reduction in atmosphere influences. EVI is computed using three bands: Red, Blue and Near-Infrared but in this example we are going to use a simplified version which uses only 2 bands. The 2-Bands EVI or 2EVI, can be computed using the following formula:\n",
    "\n",
    "```EVI2=2.5*((NIR-Red)/(NIR+2.4*Red+1))```\n",
    "\n",
    "From the following cell, follow the steps to generate the EVI image for your location. _[Add as many cells as you need using the `+` buttom on the top panel.]_\n",
    "\n",
    "The following code will be useful to apply a matplotlib colormap to a 'grey' one-channel image. For a full list of available maps see [here](https://matplotlib.org/3.1.1/gallery/color/colormap_reference.html)."
   ]
  },
  {
   "cell_type": "code",
   "execution_count": null,
   "metadata": {},
   "outputs": [],
   "source": [
    "color_arr = plt.cm.jet(gray_arr)\n",
    "\n",
    "# jet is the name of the colormap. "
   ]
  },
  {
   "cell_type": "code",
   "execution_count": null,
   "metadata": {},
   "outputs": [],
   "source": []
  },
  {
   "cell_type": "markdown",
   "metadata": {},
   "source": [
    "## Landsat 8 false colour RGB [NIR,Red,Green]\n",
    "\n",
    "One of our most frequently used combinations of false colour images uses near infrared as red, red as green and green as blue. In this case, plants reflect near infrared and green light, while absorbing red. Since they reflect more near infrared than green, plant-covered land appears deep red. The signal from plants is so strong that red dominates the false-color view of plant dense areas. This band combination is often used to assess plant health.\n",
    "\n",
    "From the following cell, follow the steps to generate a false colour RGB [NIR,Red,Green] image for your location. _[Add as many cells as you need using the `+` buttom on the top panel.]. If you don't have access to the VDI use one of the Landsat yearly composites available on the Sandbox environment._"
   ]
  },
  {
   "cell_type": "code",
   "execution_count": null,
   "metadata": {},
   "outputs": [],
   "source": []
  },
  {
   "cell_type": "code",
   "execution_count": null,
   "metadata": {},
   "outputs": [],
   "source": []
  },
  {
   "cell_type": "markdown",
   "metadata": {},
   "source": [
    "## Be creative with the other two images and experiment combining bands"
   ]
  },
  {
   "cell_type": "code",
   "execution_count": null,
   "metadata": {},
   "outputs": [],
   "source": []
  },
  {
   "cell_type": "code",
   "execution_count": null,
   "metadata": {},
   "outputs": [],
   "source": []
  }
 ],
 "metadata": {
  "celltoolbar": "Raw Cell Format",
  "kernelspec": {
   "display_name": "Python 3",
   "language": "python",
   "name": "python3"
  },
  "language_info": {
   "codemirror_mode": {
    "name": "ipython",
    "version": 3
   },
   "file_extension": ".py",
   "mimetype": "text/x-python",
   "name": "python",
   "nbconvert_exporter": "python",
   "pygments_lexer": "ipython3",
   "version": "3.6.8"
  },
  "toc": {
   "base_numbering": 1,
   "nav_menu": {},
   "number_sections": true,
   "sideBar": true,
   "skip_h1_title": false,
   "title_cell": "Table of Contents",
   "title_sidebar": "Contents",
   "toc_cell": false,
   "toc_position": {},
   "toc_section_display": "block",
   "toc_window_display": false
  }
 },
 "nbformat": 4,
 "nbformat_minor": 4
}
