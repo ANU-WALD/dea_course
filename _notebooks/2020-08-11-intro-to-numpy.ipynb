{
 "cells": [
  {
   "cell_type": "markdown",
   "metadata": {},
   "source": [
    "# Introduction to Numpy\n",
    "> This tutorial introduces numpy, a Python library for performing numerical computations in Python.\n",
    "\n",
    "- toc: false \n",
    "- badges: true\n",
    "- comments: true\n",
    "- categories: [numpy]"
   ]
  },
  {
   "cell_type": "markdown",
   "metadata": {},
   "source": [
    "#### In order to be able to use numpy we need to import the library using the special word `import`. Also, to avoid typing `numpy` every time we want to use one if its functions we can provide an alias using the special word `as`:"
   ]
  },
  {
   "cell_type": "code",
   "execution_count": null,
   "metadata": {},
   "outputs": [],
   "source": [
    "import numpy as np"
   ]
  },
  {
   "cell_type": "markdown",
   "metadata": {},
   "source": [
    "#### Now, we have access to all the functions available in `numpy` by typing `np.name_of_function`. For example, the equivalent of `1 + 1` in Python can be done in `numpy`:"
   ]
  },
  {
   "cell_type": "code",
   "execution_count": null,
   "metadata": {},
   "outputs": [],
   "source": [
    "np.add(1,1)"
   ]
  },
  {
   "cell_type": "markdown",
   "metadata": {},
   "source": [
    "#### Although this might not seem very useful, however, even simple operations like this one, can be much quicker in `numpy` than in standard Python when using lots of numbers."
   ]
  },
  {
   "cell_type": "markdown",
   "metadata": {},
   "source": [
    "#### To access the documentation explaining how a function is used, its input parameters and output format we can press `Shift+Tab` after the function name\""
   ]
  },
  {
   "cell_type": "code",
   "execution_count": null,
   "metadata": {},
   "outputs": [],
   "source": [
    "np.add"
   ]
  },
  {
   "cell_type": "markdown",
   "metadata": {},
   "source": [
    "#### By default the result of a function or operation is shown underneath the cell containing the code. If we want to reuse this result for a later operation we can assign it to a variable:"
   ]
  },
  {
   "cell_type": "code",
   "execution_count": null,
   "metadata": {},
   "outputs": [],
   "source": [
    "a = np.add(2,3)"
   ]
  },
  {
   "cell_type": "markdown",
   "metadata": {},
   "source": [
    "#### The contents of this variable can be displayed at any moment by typing the variable name in a new cell:"
   ]
  },
  {
   "cell_type": "code",
   "execution_count": null,
   "metadata": {},
   "outputs": [],
   "source": [
    "a"
   ]
  },
  {
   "cell_type": "markdown",
   "metadata": {},
   "source": [
    "#### The core concept in numpy is the `array` which is equivalent to lists of numbers but can be multidimensional. To declare a numpy array we do:"
   ]
  },
  {
   "cell_type": "code",
   "execution_count": null,
   "metadata": {},
   "outputs": [],
   "source": [
    "np.array([1,2,3,4,5,6,7,8,9])"
   ]
  },
  {
   "cell_type": "markdown",
   "metadata": {},
   "source": [
    "#### Most of the functions and operations defined in numpy can be applied to arrays. For example, with the previous operation:"
   ]
  },
  {
   "cell_type": "code",
   "execution_count": null,
   "metadata": {},
   "outputs": [],
   "source": [
    "arr1 = np.array([1,2,3,4])\n",
    "arr2 = np.array([3,4,5,6])\n",
    "\n",
    "np.add(arr1, arr2)"
   ]
  },
  {
   "cell_type": "markdown",
   "metadata": {},
   "source": [
    "#### But a more simple and convenient notation can also be used:"
   ]
  },
  {
   "cell_type": "code",
   "execution_count": null,
   "metadata": {},
   "outputs": [],
   "source": [
    "arr1 + arr2"
   ]
  },
  {
   "cell_type": "markdown",
   "metadata": {},
   "source": [
    "#### Arrays can be sliced and diced. We can get subsets of the arrays using the indexing notation which is `[start:end:stride]`. Let's see what this means:"
   ]
  },
  {
   "cell_type": "code",
   "execution_count": null,
   "metadata": {},
   "outputs": [],
   "source": [
    "arr = np.array([0,1,2,3,4,5,6,7,8,9,10,11,12,13,14,15])\n",
    "\n",
    "print(arr[5])\n",
    "print(arr[5:])\n",
    "print(arr[:5])\n",
    "print(arr[::2])"
   ]
  },
  {
   "cell_type": "markdown",
   "metadata": {},
   "source": [
    "#### Experiment playing with the indexes to understand the meaning of start, end and stride. What happend if you don't specify a start? What value numpy uses instead? Note that numpy indexes start on `0`, the same convention used in Python lists."
   ]
  },
  {
   "cell_type": "markdown",
   "metadata": {},
   "source": [
    "#### Indexes can also be negative, meaning that you start counting by the end. For example, to select the last 2 elements in an array we can do:"
   ]
  },
  {
   "cell_type": "code",
   "execution_count": null,
   "metadata": {},
   "outputs": [],
   "source": [
    "arr[-2:]"
   ]
  },
  {
   "cell_type": "markdown",
   "metadata": {},
   "source": [
    "#### Can you figure out how to select all the elements in the previous array excluding the last one, [15]?"
   ]
  },
  {
   "cell_type": "code",
   "execution_count": null,
   "metadata": {},
   "outputs": [],
   "source": []
  },
  {
   "cell_type": "markdown",
   "metadata": {},
   "source": [
    "#### What about doing the same but now every 3rd element? \n",
    "Hint: Result should be ?`[0,3,6,9,12]`"
   ]
  },
  {
   "cell_type": "code",
   "execution_count": null,
   "metadata": {},
   "outputs": [],
   "source": []
  },
  {
   "cell_type": "markdown",
   "metadata": {},
   "source": [
    "#### Numpy arrays can have multiple dimensions. For example, we define a 2-dimensional `(1,9)` array using nested square bracket: \n",
    "\n",
    "<img src=\"data/numpy_array_t.png\" alt=\"drawing\" width=\"600\" align=\"left\"/>"
   ]
  },
  {
   "cell_type": "code",
   "execution_count": null,
   "metadata": {},
   "outputs": [],
   "source": [
    "np.array([[1,2,3,4,5,6,7,8,9]])"
   ]
  },
  {
   "cell_type": "markdown",
   "metadata": {},
   "source": [
    "#### To visualise the shape or dimensions of a numpy array we can add the suffix `.shape`"
   ]
  },
  {
   "cell_type": "code",
   "execution_count": null,
   "metadata": {},
   "outputs": [],
   "source": [
    "print(np.array([1,2,3,4,5,6,7,8,9]).shape)\n",
    "print(np.array([[1,2,3,4,5,6,7,8,9]]).shape)\n",
    "print(np.array([[1],[2],[3],[4],[5],[6],[7],[8],[9]]).shape)"
   ]
  },
  {
   "cell_type": "markdown",
   "metadata": {},
   "source": [
    "#### Any array can be reshaped into different shapes using the function `reshape`:"
   ]
  },
  {
   "cell_type": "code",
   "execution_count": null,
   "metadata": {},
   "outputs": [],
   "source": [
    "np.array([1,2,3,4,5,6,7,8]).reshape((2,4))"
   ]
  },
  {
   "cell_type": "markdown",
   "metadata": {},
   "source": [
    "#### If you are concerned about having to type so many squared brackets, there are more simple and convenient ways of doing the same:"
   ]
  },
  {
   "cell_type": "code",
   "execution_count": null,
   "metadata": {},
   "outputs": [],
   "source": [
    "print(np.array([1,2,3,4,5,6,7,8,9]).reshape(1,9).shape)\n",
    "print(np.array([1,2,3,4,5,6,7,8,9]).reshape(9,1).shape)\n",
    "print(np.array([1,2,3,4,5,6,7,8,9]).reshape(3,3).shape)"
   ]
  },
  {
   "cell_type": "markdown",
   "metadata": {},
   "source": [
    "#### Also there are shortcuts for declaring common arrays without having to type all their elements:"
   ]
  },
  {
   "cell_type": "code",
   "execution_count": null,
   "metadata": {},
   "outputs": [],
   "source": [
    "print(np.arange(9))\n",
    "print(np.ones((3,3)))\n",
    "print(np.zeros((2,2,2)))"
   ]
  },
  {
   "cell_type": "markdown",
   "metadata": {},
   "source": [
    "#### Can you try to declare a 3-dimensional array of shape (5,3,3)? Assign it to a variable"
   ]
  },
  {
   "cell_type": "code",
   "execution_count": null,
   "metadata": {},
   "outputs": [],
   "source": []
  },
  {
   "cell_type": "markdown",
   "metadata": {},
   "source": [
    "#### Create another one with the same shape and use the numpy function to add both arrays:"
   ]
  },
  {
   "cell_type": "code",
   "execution_count": null,
   "metadata": {},
   "outputs": [],
   "source": []
  },
  {
   "cell_type": "markdown",
   "metadata": {},
   "source": [
    "#### Some useful functions in Numpy for calculating the mean, standard deviation and sum of the elements of an array. These operation can be performed only in certain axis."
   ]
  },
  {
   "cell_type": "code",
   "execution_count": null,
   "metadata": {},
   "outputs": [],
   "source": [
    "arr = np.arange(9).reshape((3,3))\n",
    "\n",
    "print(arr)\n",
    "\n",
    "print(np.mean(arr))\n",
    "print(np.std(arr))\n",
    "\n",
    "print(np.mean(arr, axis=0))\n",
    "print(np.mean(arr, axis=1))\n",
    "\n",
    "print(np.sum(arr))"
   ]
  },
  {
   "cell_type": "markdown",
   "metadata": {},
   "source": [
    "### Numpy data types\n",
    "\n",
    "#### Numpy arrays can contain numerical values of different types. These types can be divided in these groups:\n",
    "\n",
    " * Integers\n",
    "    * Unsigned\n",
    "        * 8 bits: `uint8`\n",
    "        * 16 bits: `uint16`\n",
    "        * 32 bits: `uint32`\n",
    "        * 64 bits: `uint64`\n",
    "    * Signed\n",
    "        * 8 bits: `int8`\n",
    "        * 16 bits: `int16`\n",
    "        * 32 bits: `int32`\n",
    "        * 64 bits: `int64`\n",
    "\n",
    "* Floats\n",
    "    * 32 bits: `float32`\n",
    "    * 64 bits: `float64`\n",
    "    \n",
    "#### We can specify the type of an array when we declare it or change the type of an existing one with the following expressions:"
   ]
  },
  {
   "cell_type": "code",
   "execution_count": null,
   "metadata": {},
   "outputs": [],
   "source": [
    "arr = np.ones((10,10,10), dtype=np.uint8)\n",
    "\n",
    "arr[4,4,4] = -1\n",
    "print(arr[4,4,4])\n",
    "\n",
    "arr = arr.astype(np.int8)\n",
    "print(arr[4,4,4])\n",
    "\n",
    "arr = arr.astype(np.float32)\n",
    "print(arr[4,4,4])"
   ]
  },
  {
   "cell_type": "markdown",
   "metadata": {},
   "source": [
    "### Broadcasting\n",
    "\n",
    "#### Numpy is set up internally in a way that arrays involved in operations are replicated or promoted to match shapes"
   ]
  },
  {
   "cell_type": "code",
   "execution_count": null,
   "metadata": {},
   "outputs": [],
   "source": [
    "a = np.zeros((10,10))\n",
    "\n",
    "a += 1\n",
    "\n",
    "a"
   ]
  },
  {
   "cell_type": "code",
   "execution_count": null,
   "metadata": {},
   "outputs": [],
   "source": [
    "a = np.arange(9).reshape((3,3))\n",
    "\n",
    "b = np.arange(3)\n",
    "\n",
    "a + b"
   ]
  },
  {
   "cell_type": "markdown",
   "metadata": {},
   "source": [
    "### Booleans\n",
    "\n",
    "#### There is a binary type in numpy called boolean which encodes `True` and `False` values. For example:"
   ]
  },
  {
   "cell_type": "code",
   "execution_count": null,
   "metadata": {},
   "outputs": [],
   "source": [
    "arr = (arr > 0)\n",
    "\n",
    "print(arr[:,:,4])\n",
    "\n",
    "arr.dtype"
   ]
  },
  {
   "cell_type": "markdown",
   "metadata": {},
   "source": [
    "#### Boolean types are quite handy for indexing and selecting parts of images as we will see later. Many numpy functions also work with Boolean types."
   ]
  },
  {
   "cell_type": "code",
   "execution_count": null,
   "metadata": {},
   "outputs": [],
   "source": [
    "print(np.count_nonzero(arr[:,:,4]))\n",
    "\n",
    "a = np.array([1,1,0,0], dtype=np.bool)\n",
    "b = np.array([1,0,0,1], dtype=np.bool)\n",
    "np.logical_and(a, b)"
   ]
  },
  {
   "cell_type": "markdown",
   "metadata": {},
   "source": [
    "#### Depending of the language that you have used before this behaviour in Python might strike you:"
   ]
  },
  {
   "cell_type": "code",
   "execution_count": null,
   "metadata": {},
   "outputs": [],
   "source": [
    "a = np.array([0,0,0])\n",
    "\n",
    "# We make a copy of array a with name b\n",
    "b = a\n",
    "\n",
    "# We modify the first element of b\n",
    "b[0] = 1\n",
    "\n",
    "print(a)\n",
    "print(b)"
   ]
  },
  {
   "cell_type": "markdown",
   "metadata": {},
   "source": [
    "#### Both arrays have been modified. This is in fact because a and b are references to the same array. If you want to have variables with independent arrays you'll have to use the `b = np.copy(a)` function."
   ]
  },
  {
   "cell_type": "code",
   "execution_count": null,
   "metadata": {},
   "outputs": [],
   "source": []
  }
 ],
 "metadata": {
  "kernelspec": {
   "display_name": "Python 3",
   "language": "python",
   "name": "python3"
  },
  "language_info": {
   "codemirror_mode": {
    "name": "ipython",
    "version": 3
   },
   "file_extension": ".py",
   "mimetype": "text/x-python",
   "name": "python",
   "nbconvert_exporter": "python",
   "pygments_lexer": "ipython3",
   "version": "3.7.6"
  }
 },
 "nbformat": 4,
 "nbformat_minor": 4
}
