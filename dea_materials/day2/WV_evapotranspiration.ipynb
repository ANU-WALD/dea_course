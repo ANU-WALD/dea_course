{
 "cells": [
  {
   "cell_type": "markdown",
   "metadata": {},
   "source": [
    "# Deriving water balance on irrigated farms using remote sensing images\n",
    "\n",
    "## This notebook demonstrates how to estimate Actual Evapo-Transpiration (AET) using the [CMRSET methodology](https://www.wateraccounting.org/files/guerschman_j%20_of_hydr.pdf)\n",
    "\n",
    "#### [Example](https://www.waterconnect.sa.gov.au/Content/Publications/DEW/DEWNR-TN-2016-10.pdf) of application of this methodology:\n",
    "\n",
    "\n",
    "### 1.- Load datacube environment"
   ]
  },
  {
   "cell_type": "code",
   "execution_count": null,
   "metadata": {},
   "outputs": [],
   "source": [
    "import xarray as xr\n",
    "import numpy as np\n",
    "from datetime import date, timedelta\n",
    "\n",
    "import datacube\n",
    "\n",
    "dc = datacube.Datacube(app=\"watersense_irrigated\")"
   ]
  },
  {
   "cell_type": "markdown",
   "metadata": {},
   "source": [
    "### 2.- Define location and query parameters"
   ]
  },
  {
   "cell_type": "code",
   "execution_count": null,
   "metadata": {},
   "outputs": [],
   "source": [
    "locs = {\"Norwood\": {\"coords\": [149.7543738, -29.3741845]},\n",
    "        \"Redbank\": {\"coords\": [150.0313090, -29.4199982]}}\n",
    "\n",
    "coords = locs[\"Norwood\"][\"coords\"]\n",
    "\n",
    "query = {'lat': (coords[1]+0.05, coords[1]-0.05),\n",
    "         'lon': (coords[0]-0.05, coords[0]+0.05),\n",
    "         'output_crs': 'EPSG:3577',\n",
    "         'resolution': (-25, 25),\n",
    "         'measurements': ['nbart_red', 'nbart_green', 'nbart_blue', \n",
    "                          'nbart_nir', 'nbart_swir_1', 'nbart_swir_2'],\n",
    "         'time':(\"2020-09-01\", \"2021-01-01\")}\n",
    "\n",
    "# Scale values between 0-1\n",
    "ds = dc.load(product='ga_ls8c_ard_3', group_by='solar_day', **query)/10000\n",
    "\n",
    "ds"
   ]
  },
  {
   "cell_type": "markdown",
   "metadata": {},
   "source": [
    "### 3.- Plot the RGB query results"
   ]
  },
  {
   "cell_type": "code",
   "execution_count": null,
   "metadata": {},
   "outputs": [],
   "source": [
    "ds[['nbart_red','nbart_green','nbart_blue']].clip(0,0.15).to_array().plot.imshow(col='time', col_wrap=4)"
   ]
  },
  {
   "cell_type": "markdown",
   "metadata": {},
   "source": [
    "### 4.- Select cloud free samples, one per month, and show results"
   ]
  },
  {
   "cell_type": "code",
   "execution_count": null,
   "metadata": {},
   "outputs": [],
   "source": [
    "ds = ds.isel(time=[0,2,4,5])\n",
    "\n",
    "ds[['nbart_red','nbart_green','nbart_blue']].clip(0,0.15).to_array().plot.imshow(col='time', col_wrap=4)"
   ]
  },
  {
   "cell_type": "markdown",
   "metadata": {},
   "source": [
    "### 5.- Defining our custom functions using DEA data. NDVI Example\n",
    "\n",
    "##### NDVI = (NIR - RED) / (NIR + RED)"
   ]
  },
  {
   "cell_type": "code",
   "execution_count": null,
   "metadata": {},
   "outputs": [],
   "source": [
    "def ndvi(dataset):\n",
    "    return (dataset.nbart_nir - dataset.nbart_red) / (dataset.nbart_nir + dataset.nbart_red)\n",
    "\n",
    "ndvi(ds).plot(col='time', col_wrap=4, cmap=\"summer_r\", vmin=0, vmax=1)"
   ]
  },
  {
   "cell_type": "markdown",
   "metadata": {},
   "source": [
    "#### Do you know what are the bright yellow patches?\n",
    "\n",
    "### 6.- WOfS dataset"
   ]
  },
  {
   "cell_type": "code",
   "execution_count": null,
   "metadata": {},
   "outputs": [],
   "source": [
    "query = {'lat': (coords[1]+0.05, coords[1]-0.05),\n",
    "         'lon': (coords[0]-0.05, coords[0]+0.05),\n",
    "         'output_crs': 'EPSG:3577',\n",
    "         'resolution': (-25, 25),\n",
    "         #'time':(\"2018-04-01\", \"2018-04-10\")}\n",
    "         'time':(\"2020-10-01\", \"2020-10-10\")}\n",
    "\n",
    "ds_wofs = dc.load(product='wofs_albers', **query)\n",
    "\n",
    "ds_wofs.water.plot(cmap=\"Blues\")"
   ]
  },
  {
   "cell_type": "markdown",
   "metadata": {},
   "source": [
    "### 7.- Our own version of WOfS with NDVI thresholding"
   ]
  },
  {
   "cell_type": "code",
   "execution_count": null,
   "metadata": {},
   "outputs": [],
   "source": [
    "(ndvi(ds)<0).plot(cmap=\"Blues\", col='time', col_wrap=4)"
   ]
  },
  {
   "cell_type": "markdown",
   "metadata": {},
   "source": [
    "#### Adding all the images together"
   ]
  },
  {
   "cell_type": "code",
   "execution_count": null,
   "metadata": {},
   "outputs": [],
   "source": [
    "((ndvi(ds)<0).sum(dim=\"time\")>1).plot(cmap=\"Blues\")"
   ]
  },
  {
   "cell_type": "markdown",
   "metadata": {},
   "source": [
    "### 8.- Enhanced Vegetation Index (EVI) (Huete et al., 2002) and improved version of NDVI\n",
    "\n",
    "#### While the EVI is calculated similarly to NDVI, it corrects for some distortions in the reflected light caused by the particles in the air as well as the ground cover below the vegetation. The EVI data product also does not become saturated as easily as the NDVI when viewing dense forests.\n",
    "\n",
    "##### EVI = 2.5 * (NIR - RED) / (NIR + 6 * RED - 7.5 * BLUE + 1)"
   ]
  },
  {
   "cell_type": "code",
   "execution_count": null,
   "metadata": {},
   "outputs": [],
   "source": [
    "def evi(ds):\n",
    "    G = 2.5\n",
    "    C1 = 6\n",
    "    C2 = 7.5\n",
    "    L = 1\n",
    "\n",
    "    return G * (ds.nbart_nir - ds.nbart_red) / (ds.nbart_nir + C1 * ds.nbart_red - C2 * ds.nbart_blue + L)\n",
    "\n",
    "evi(ds).plot(col='time', col_wrap=4, cmap=\"summer_r\")"
   ]
  },
  {
   "cell_type": "markdown",
   "metadata": {},
   "source": [
    "### 9.- EVIr a rescaled version of EVI\n",
    "\n",
    "##### EVIr = min(1, max(0, EVI/0.9 ))"
   ]
  },
  {
   "cell_type": "code",
   "execution_count": null,
   "metadata": {},
   "outputs": [],
   "source": [
    "def evir(ds):\n",
    "    return np.clip(evi(ds)/0.9, 0, 1)\n",
    "\n",
    "evir(ds).plot(col='time', col_wrap=4, cmap=\"summer_r\")"
   ]
  },
  {
   "cell_type": "markdown",
   "metadata": {},
   "source": [
    "### 10.- Global Vegetation Moisture Index (GVMI) (Ceccato et al., 2002)\n",
    "\n",
    "##### GVMI=((NIR+0.1)-(SWIR+0.02)) / ((NIR+0.1)+(SWIR+0.02))"
   ]
  },
  {
   "cell_type": "code",
   "execution_count": null,
   "metadata": {},
   "outputs": [],
   "source": [
    "def gvmi(ds):\n",
    "    return ((ds.nbart_nir + .1) - (ds.nbart_swir_2 + .02)) / ((ds.nbart_nir + .1) + (ds.nbart_swir_2 + .02))\n",
    "\n",
    "gvmi(ds).plot(col='time', col_wrap=4, cmap=\"Blues\")"
   ]
  },
  {
   "cell_type": "markdown",
   "metadata": {},
   "source": [
    "### 11.- Residual Moisture Index (RMI)\n",
    "\n",
    "##### combinines the Enhanced Vegetation Index (EVI)  and the Global Vegetation Moisture Index (GVMI)\n",
    "\n",
    "##### RMI = min(1, max(0, GVMI - (0.775*EVI-0.0757)))"
   ]
  },
  {
   "cell_type": "code",
   "execution_count": null,
   "metadata": {},
   "outputs": [],
   "source": [
    "def rmi(ds):\n",
    "    return np.clip(gvmi(ds) - (0.775 * evi(ds) - 0.0757), 0, 1)\n",
    "\n",
    "rmi(ds).plot(col='time', col_wrap=4, cmap=\"Blues\")"
   ]
  },
  {
   "cell_type": "markdown",
   "metadata": {},
   "source": [
    "### 12.- Crop factor kc\n",
    "\n",
    "##### The crop’s water use can be determined by multiplying an estimated PET by a crop coefficient, Kc, which takes into account the difference in ET between the crop and reference evapotranspiration.\n",
    "\n",
    "##### ET = PET * Kc\n",
    "\n",
    "##### The crop coefficients, Kc values, represent the crop type and the development of the crop. There may be several Kc values for a single crop depending on the crop’s stage of development."
   ]
  },
  {
   "cell_type": "code",
   "execution_count": null,
   "metadata": {},
   "outputs": [],
   "source": [
    "def kc(ds):\n",
    "    c1 = 0.680\n",
    "    c2 = -14.12\n",
    "    c3 = 2.482\n",
    "    c4 = -7.991\n",
    "    c5 = 0.890\n",
    "\n",
    "    return c1 * (1 - np.exp(c2 * np.power(evir(ds), c3) + c4 * np.power(rmi(ds), c5)))\n",
    "\n",
    "kc(ds).plot(col='time', col_wrap=4, cmap=\"copper\")"
   ]
  },
  {
   "cell_type": "markdown",
   "metadata": {},
   "source": [
    "### Adding climate variables\n",
    "\n",
    "### 13.- Potential Evapotranspiration (PET) from BoM online servers\n",
    "\n",
    "[AWRA BoM page](http://www.bom.gov.au/water/landscape/)"
   ]
  },
  {
   "cell_type": "code",
   "execution_count": null,
   "metadata": {},
   "outputs": [],
   "source": [
    "ds_pet = xr.open_dataset(\"http://www.bom.gov.au/jsp/awra/thredds/dodsC/AWRACMS/values/month/e0.nc\", decode_times=False)\n",
    "base = date(1900, 1, 1)\n",
    "ds_pet['time'] = [np.datetime64(base + timedelta(days=int(x))) for x in ds_pet.time.values]\n",
    "\n",
    "ds_pet.e0.isel(time=-1).plot(cmap=\"Blues\")"
   ]
  },
  {
   "cell_type": "markdown",
   "metadata": {},
   "source": [
    "### 14.- Selecting the grid point corresponding to our location"
   ]
  },
  {
   "cell_type": "code",
   "execution_count": null,
   "metadata": {},
   "outputs": [],
   "source": [
    "pet = ds_pet.e0.sel(longitude=coords[0], latitude=coords[1], time=ds.time, method=\"nearest\")\n",
    "\n",
    "pet.plot()"
   ]
  },
  {
   "cell_type": "markdown",
   "metadata": {},
   "source": [
    "### 15.- Precipitation"
   ]
  },
  {
   "cell_type": "code",
   "execution_count": null,
   "metadata": {},
   "outputs": [],
   "source": [
    "ds_prec = xr.open_dataset(\"http://www.bom.gov.au/jsp/awra/thredds/dodsC/AWRACMS/values/month/rain_day.nc\", decode_times=False)\n",
    "base = date(1900, 1, 1)\n",
    "ds_prec['time'] = [np.datetime64(base + timedelta(days=int(x))) for x in ds_prec.time.values]\n",
    "\n",
    "ds_prec.rain_day.isel(time=-1).plot(cmap=\"Blues\")"
   ]
  },
  {
   "cell_type": "code",
   "execution_count": null,
   "metadata": {},
   "outputs": [],
   "source": [
    "prec = ds_prec.rain_day.sel(longitude=coords[0], latitude=coords[1], time=ds.time, method=\"nearest\")\n",
    "prec.plot()"
   ]
  },
  {
   "cell_type": "markdown",
   "metadata": {},
   "source": [
    "### 16.- Finally, lets calculate the Actual Evapotranspiration (AET)\n",
    "\n",
    "##### AET = kc * PET"
   ]
  },
  {
   "cell_type": "code",
   "execution_count": null,
   "metadata": {},
   "outputs": [],
   "source": [
    "(kc(ds)*pet.values[:,None,None]).plot(col='time', col_wrap=4, cmap=\"Blues\")"
   ]
  },
  {
   "cell_type": "markdown",
   "metadata": {},
   "source": [
    "### 17.- Plot the temporal evolution over the whole area"
   ]
  },
  {
   "cell_type": "code",
   "execution_count": null,
   "metadata": {},
   "outputs": [],
   "source": [
    "(kc(ds)*pet.values[:,None,None]).mean(dim=[\"x\",\"y\"]).plot()"
   ]
  },
  {
   "cell_type": "markdown",
   "metadata": {},
   "source": [
    "### 18.- Can you repeat the process for Redbank"
   ]
  },
  {
   "cell_type": "code",
   "execution_count": null,
   "metadata": {},
   "outputs": [],
   "source": [
    "locs = {\"Norwood\": {\"coords\": [149.7543738, -29.3741845]},\n",
    "        \"Redbank\": {\"coords\": [150.0313090, -29.4199982]}}\n",
    "\n",
    "coords = locs[\"Redbank\"][\"coords\"]\n",
    "\n",
    "query = {'lat': (coords[1]+0.05, coords[1]-0.05),\n",
    "         'lon': (coords[0]-0.05, coords[0]+0.05),\n",
    "         'output_crs': 'EPSG:3577',\n",
    "         'resolution': (-25, 25),\n",
    "         'measurements': ['nbart_red', 'nbart_green', 'nbart_blue', \n",
    "                          'nbart_nir', 'nbart_swir_1', 'nbart_swir_2'],\n",
    "         'time':(\"2020-09-01\", \"2021-01-01\")}\n",
    "\n",
    "# Scale values between 0-1\n",
    "ds = dc.load(product='ga_ls8c_ard_3', group_by='solar_day', **query)/10000\n",
    "\n",
    "ds[['nbart_red','nbart_green','nbart_blue']].clip(0,0.15).to_array().plot.imshow(col='time', col_wrap=4)"
   ]
  },
  {
   "cell_type": "code",
   "execution_count": null,
   "metadata": {},
   "outputs": [],
   "source": []
  },
  {
   "cell_type": "code",
   "execution_count": null,
   "metadata": {},
   "outputs": [],
   "source": []
  },
  {
   "cell_type": "code",
   "execution_count": null,
   "metadata": {},
   "outputs": [],
   "source": []
  },
  {
   "cell_type": "code",
   "execution_count": null,
   "metadata": {},
   "outputs": [],
   "source": []
  }
 ],
 "metadata": {
  "kernelspec": {
   "display_name": "Python 3",
   "language": "python",
   "name": "python3"
  },
  "language_info": {
   "codemirror_mode": {
    "name": "ipython",
    "version": 3
   },
   "file_extension": ".py",
   "mimetype": "text/x-python",
   "name": "python",
   "nbconvert_exporter": "python",
   "pygments_lexer": "ipython3",
   "version": "3.6.9"
  }
 },
 "nbformat": 4,
 "nbformat_minor": 4
}
