{
 "cells": [
  {
   "cell_type": "markdown",
   "metadata": {},
   "source": [
    "## Cowell Power Plant Project\n",
    "\n",
    "Cowell is a coastal town on Franklin Harbor on the eastern side of the Eyre Peninsula, in South Australia 493 km by road from Adelaide. Franklin Harbor is a natural harbour with a channel to the sea just 100 metres wide.\n",
    "\n",
    "This town is the major population centre of the District Council of Franklin Harbour, and the centre of an agricultural district, farming wheat and sheep. Fishing, and more recently, oyster farming has also been an important industry."
   ]
  },
  {
   "cell_type": "markdown",
   "metadata": {},
   "source": [
    "<img src=\"data/Cowell_Satellite.png\" alt=\"drawing\" width=\"400\"/>"
   ]
  },
  {
   "cell_type": "markdown",
   "metadata": {},
   "source": [
    "Cowell has recently attracted the attention of the South Australian government as a potential place to test a promising new technology that allows getting energy from the tides. Franklin Harbour has a narrow channel to the sea through which, every day, millions of liters of water flow in and out as the tide changes. The people in the town are quite excited with the idea of becoming a major producer of energy in SA and hosting the first tidal clean energy plant in Australia."
   ]
  },
  {
   "cell_type": "markdown",
   "metadata": {},
   "source": [
    "### Your task:\n",
    "\n",
    "You are an engineer working at Tidesla, a new company that has developed a promising technology for building and installing underwater turbines. You have been tasked with finding the best location in Australia to test the technology and you are starting by Cowell. The most urgent matter is getting an estimate about how much energy this plant could generate. You have no previous experience working in tidal power plants but you have heard about Digital Earth Australia and the InterTidal Extents Model (ITEM) product, which presents information of tidal extents in Australia observed from satellites.\n",
    "\n",
    "Using this dataset you are going to calculate how many liters of water go through the channel every time there is a change of tide. These numbers can then be transformed into KWatts using the efficiency values provided by the turbine development team. \n",
    "\n",
    "One of your colleagues has given you the polygon delimiting Franklin Harbour. This polygon cuts the channels at the place where the underwater turbines would be placed. Go to [geojson.io](http://geojson.io) to visualise the polygon. \n",
    "\n",
    "> Tip: Paste the contents delimited by the outer curly braces, in the next cell, into the right hand side panel of geojson.io webpage."
   ]
  },
  {
   "cell_type": "code",
   "execution_count": null,
   "metadata": {},
   "outputs": [],
   "source": [
    "poly = \"\"\"{\n",
    "      \"type\": \"Feature\",\n",
    "      \"properties\": {},\n",
    "      \"geometry\": {\n",
    "        \"type\": \"LineString\",\n",
    "        \"coordinates\": [[136.91986083984375,-33.66549665763364],\n",
    "          [136.86492919921872,-33.71577279930021],\n",
    "          [136.84432983398438,-33.75403149821638],\n",
    "          [136.84398651123047,-33.798835278253975],\n",
    "          [136.86458587646484,-33.79312909288506],\n",
    "          [136.96208953857422,-33.745467600106174],\n",
    "          [136.96964263916016,-33.738615865848736],\n",
    "          [136.9552230834961,-33.73490428127589],\n",
    "          [136.98612213134766,-33.693780606387506],\n",
    "          [136.97650909423828,-33.667211101197545],\n",
    "          [136.91986083984375,-33.66549665763364]]}}\"\"\""
   ]
  },
  {
   "cell_type": "markdown",
   "metadata": {},
   "source": [
    "### Getting ready by loading some packages \n",
    "\n",
    "Once you have verified the polygon data you decide to load your favorite Python libraries to start working on this project."
   ]
  },
  {
   "cell_type": "code",
   "execution_count": null,
   "metadata": {},
   "outputs": [],
   "source": [
    "%matplotlib inline\n",
    "\n",
    "import datacube\n",
    "import matplotlib.pyplot as plt\n",
    "import numpy as np\n",
    "import json\n",
    "import sys\n",
    "import xarray as xr\n",
    "\n",
    "sys.path.append(\"./Scripts\")\n",
    "from dea_masking import mask"
   ]
  },
  {
   "cell_type": "code",
   "execution_count": null,
   "metadata": {},
   "outputs": [],
   "source": [
    "dc = datacube.Datacube(app=\"tidal_powerplant\")"
   ]
  },
  {
   "cell_type": "markdown",
   "metadata": {},
   "source": [
    "### Selecting and loading the data\n",
    "\n",
    "Getting Cowell's coordinates from Wikipedia you define an extension that covers the entire area around Franklin Harbour."
   ]
  },
  {
   "cell_type": "code",
   "execution_count": null,
   "metadata": {},
   "outputs": [],
   "source": [
    "y = -33.683333\n",
    "x = 136.916667\n",
    "\n",
    "query = {'x': (x - .08, x + .1),\n",
    "         'y': (y - .12, y + 0.03),         \n",
    "         'crs': 'EPSG:4326'}\n",
    "\n",
    "# Import ITEM v2.0 relative layer \n",
    "item_data = dc.load(product='item_v2', **query)\n",
    "\n",
    "# Squeeze out the unnecessary temporal dimension:\n",
    "item_data = item_data.squeeze(dim = 'time', drop = True)\n",
    "\n",
    "# Filter out -6666 values present in this area\n",
    "item_data['relative'] = item_data.relative.where(item_data.relative != -6666, 0)\n",
    "\n",
    "item_data"
   ]
  },
  {
   "cell_type": "markdown",
   "metadata": {},
   "source": [
    "### Plotting the ITEM Relative Extent data\n",
    "\n",
    "Using your matplotlib skills you write a function to visualise the extensions exposed at different tide levels."
   ]
  },
  {
   "cell_type": "code",
   "execution_count": null,
   "metadata": {},
   "outputs": [],
   "source": [
    "def plot_tides(ds):\n",
    "    # Set up colour schemes and plot labels\n",
    "    item_cs = ['black', '#d7191c', '#ec6e43', '#fdb96e', '#fee7a4', \n",
    "               '#e7f5b7', '#b7e1a7', '#74b6ad', '#2b83ba', 'white']\n",
    "    labels = ['Non-\\nintertidal', '1: 0-10%', '2: 10-20%', '3: 20-30%', \n",
    "              '4: 30-40%', '5: 40-50%', '6: 50-60%', '7: 60-70%', '8: 70-80%']\n",
    "\n",
    "    # Plot ITEM Relative Extent Model\n",
    "    item_plot = ds.plot(figsize=(8,6), levels=10, colors=item_cs, add_colorbar=False)\n",
    "    plt.title('ITEM Relative Extent Model')\n",
    "\n",
    "    # Add tidal interval percentages to colorbar\n",
    "    cbar = plt.colorbar(item_plot)\n",
    "    cbar.ax.get_yaxis().set_ticks([])\n",
    "    cbar.ax.set_title('ITEM interval', loc = 'left')\n",
    "\n",
    "    for j, label in enumerate(labels):\n",
    "        cbar.ax.text(1.5, (j + 0.5) / 9.0, label, ha='left', va='center', color='black')\n",
    "    cbar.ax.get_yaxis().labelpad = 15\n",
    "    \n",
    "plot_tides(item_data.relative)"
   ]
  },
  {
   "cell_type": "markdown",
   "metadata": {},
   "source": [
    "### Masking out the outside of Franklin Harbour\n",
    "\n",
    "The image returned by DEA contains data outside the Harbour and you are only interested in the data inside. You use the `mask()` function to create a binary mask defined by a polygon with the same extents and resolution of a `DataArray`. This mask is a 2-D numpy array that contains `0` for pixels outside the polygon and `1` for the pixels inside."
   ]
  },
  {
   "cell_type": "code",
   "execution_count": null,
   "metadata": {},
   "outputs": [],
   "source": [
    "msk = mask(item_data.relative, poly)\n",
    "plt.imshow(msk)"
   ]
  },
  {
   "cell_type": "markdown",
   "metadata": {},
   "source": [
    "Now we apply this mask to the ITEM `DataArray` by multiplying (elementwise) the ITEM raster and the mask.\n",
    "\n",
    "But there is a problem! The area outside the polygon gets assigned a `0`, which indicates \"Non-intertidal\", and we want this area to be marked with `9` instead. Can you figure out how to achieve this? \n",
    "\n",
    "> Tip: Reversing the mask with the logical not numpy `~` operator might be handy."
   ]
  },
  {
   "cell_type": "code",
   "execution_count": null,
   "metadata": {},
   "outputs": [],
   "source": [
    "### Your code here\n",
    "\n",
    "#item_data['relative'] = item_data['relative'] * ....\n",
    "\n",
    "\n",
    "plot_tides(item_data.relative)"
   ]
  },
  {
   "cell_type": "markdown",
   "metadata": {},
   "source": [
    "In the DEA ITEM documentation you have found an interesting plot representing the correspondance between the `[1-8]` encoding in the product and the actual values of ocean height."
   ]
  },
  {
   "cell_type": "markdown",
   "metadata": {},
   "source": [
    "![image](http://dea-public-data.s3-ap-southeast-2.amazonaws.com/ITEM_Intervals/ITEM_REL_209_122.20_-18.07.jpg)"
   ]
  },
  {
   "cell_type": "markdown",
   "metadata": {},
   "source": [
    "This is very handy and you start to figure out how useful these data is for your project. You decide to create a Python dictionary to map between ITEM values and actual ocean heights.\n",
    "\n",
    "You then start by computing the total area of the harbour in square meters. \n",
    "\n",
    "> Tip: Each pixel represents a square area of 25 meters on the side."
   ]
  },
  {
   "cell_type": "code",
   "execution_count": null,
   "metadata": {},
   "outputs": [],
   "source": [
    "item_data['relative'] = item_data['relative'].astype(np.float32)\n",
    "item_data['relative'] = item_data.relative.where(item_data.relative != 9, np.nan)\n",
    "\n",
    "harbour_area = None\n",
    "\n",
    "###Solution:\n",
    "\n",
    "harbour_area"
   ]
  },
  {
   "cell_type": "markdown",
   "metadata": {},
   "source": [
    "But you realise that not all this area gets filled with water in every tide. The numbers in ITEM represent the level of the sea at which an area gets exposed. \n",
    "\n",
    "You make the assumption that each day there are two complete tide cycles. You also estimate an average tide range of 4 meters for Cowell. In low tide the water is 2 meters below the mean sea level and in high tide is 2 meters above.\n",
    "\n",
    "* The non-intertidal region `0` gets the whole 4 meters of tidal range.\n",
    "* The areas represented with the largest value `8`, get exposed when the tide goes below +2 meters\n",
    "* The areas represented with the next value `7`, get exposed when the tide goes below +1.75 meters\n",
    "* ...\n",
    "* The last value `1`, gets exposed at the lowest point of the tide, which is -2 meters.\n",
    "\n",
    "Following this sequence you assign a coefficient to each tidal point representing the proportion of the total 4 meters range that each pixels experience.\n",
    "\n",
    "The non-intertidal region `0` gets the whole 4 meters of tidal range, so its coefficient is `1`. For the rest of the values you assume a linear decrease in this coefficient mapping the values from `8` to `1` in `0.125` steps."
   ]
  },
  {
   "cell_type": "code",
   "execution_count": null,
   "metadata": {},
   "outputs": [],
   "source": [
    "item_data['relative'] = item_data.relative.where(item_data.relative != 0, 1)\n",
    "\n",
    "for i in range(8):\n",
    "    item_data['relative'] = item_data.relative.where(item_data.relative != i+1, 0.125 + (i*0.125))\n",
    "\n",
    "d = item_data.relative.data\n",
    "print(np.nanmax(d))\n",
    "print(np.nanmin(d))\n",
    "\n",
    "np.unique(d[~np.isnan(d)])"
   ]
  },
  {
   "cell_type": "markdown",
   "metadata": {},
   "source": [
    "You are finally ready to get the number of cubic metres *(1000 litres)* that flow in half tidal cycle. *From either hight to low tide and from low to high tide.*\n"
   ]
  },
  {
   "cell_type": "code",
   "execution_count": null,
   "metadata": {},
   "outputs": [],
   "source": [
    "# water_vol = coeff_sum * 4 metres depth * 25 meters wide * 25 meters height\n",
    "water_vol = np.nansum(item_data.relative.data) * 4 * 25 * 25\n",
    "\n",
    "print(\"The total water volume per half tidal cycle in Franklin Harbour is: {} m^3\".format(water_vol))"
   ]
  },
  {
   "cell_type": "markdown",
   "metadata": {},
   "source": [
    "For converting this number to Watts you need to convert this number into a flow [litres/second].\n",
    "\n",
    "High tides occur 12 hours and 25 minutes apart. It takes 6 hours and 12.5 minutes for the water at the shore to go from high to low, or from low to high. You decide to use the Datetime Python library to calculate the seconds in 6 hours and 12.5 minutes."
   ]
  },
  {
   "cell_type": "code",
   "execution_count": null,
   "metadata": {},
   "outputs": [],
   "source": [
    "import datetime\n",
    "\n",
    "half_cycle_secs = datetime.timedelta(hours=6,minutes=12,seconds=30).total_seconds()\n",
    "\n",
    "print(\"The water flow at Franklin Harbour channels is: {} m^3/s\".format(water_vol / half_cycle_secs))"
   ]
  },
  {
   "cell_type": "markdown",
   "metadata": {},
   "source": [
    "Finally you get the formula you've been given to transform this number into actual energy, which consist in dividing the flow by 45.5 to get KWatts."
   ]
  },
  {
   "cell_type": "code",
   "execution_count": null,
   "metadata": {},
   "outputs": [],
   "source": [
    "print(\"The Franklin Harbour Tidal Power Plant would generate: {:0.2f} kWatts\".format((water_vol / half_cycle_secs) / 45.5))"
   ]
  },
  {
   "cell_type": "markdown",
   "metadata": {},
   "source": [
    "Congratulations! It's been an intense but productive day of work. You're about to get yourself a deserved coffee when you receive a call from the [Lake Illawarra](https://en.wikipedia.org/wiki/Lake_Illawarra) Authority in NSW. They have heard about your company's new tidal power plant technology and they reckon their location would be the perfect place to test it.\n",
    "\n",
    "Can you do follow the same process to calculate how much Illawara Tidal Power Plant would generate?"
   ]
  },
  {
   "cell_type": "code",
   "execution_count": null,
   "metadata": {},
   "outputs": [],
   "source": []
  },
  {
   "cell_type": "code",
   "execution_count": null,
   "metadata": {},
   "outputs": [],
   "source": []
  }
 ],
 "metadata": {
  "kernelspec": {
   "display_name": "Python 3",
   "language": "python",
   "name": "python3"
  },
  "language_info": {
   "codemirror_mode": {
    "name": "ipython",
    "version": 3
   },
   "file_extension": ".py",
   "mimetype": "text/x-python",
   "name": "python",
   "nbconvert_exporter": "python",
   "pygments_lexer": "ipython3",
   "version": "3.6.9"
  }
 },
 "nbformat": 4,
 "nbformat_minor": 4
}
