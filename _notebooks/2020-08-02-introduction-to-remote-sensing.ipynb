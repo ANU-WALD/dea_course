{
 "cells": [
  {
   "cell_type": "markdown",
   "metadata": {},
   "source": [
    "# Introduction to Remote Sensing\n",
    "> This tutorial expands the previous numpy and matplotlib functionality applied to real remote sensing data.\n",
    "\n",
    "- toc: false \n",
    "- badges: true\n",
    "- comments: true\n",
    "- categories: [numpy,matplotlib,satellite]"
   ]
  },
  {
   "cell_type": "markdown",
   "metadata": {},
   "source": [
    "#### We often associate the term \"Remote Sensing\" to satellites but this field has a long history that started in the XIX century mounting cameras on hot air balloons. The field really took off as a discipline during the mid XX century with the development of the space technology. The first image from a satellite dates back from the 1960 when the US satellite weather TIROS I was able to capture and send to ground receivers images of the Earth's atmosphere.\n",
    "\n",
    "#### Since then, remote sensing has greatly developed with an increasing number of satellites and types of sensors. Nowadays there are hundreds of satellites which send us a constant stream of information about our planet.\n",
    "\n",
    "![](data/history.png \"Credit: Albert van Dijk -- Australian National University\")\n"
   ]
  },
  {
   "cell_type": "markdown",
   "metadata": {},
   "source": [
    "#### Satellites can be classified by the orbits they describe around the Earth. The most common satellite orbits for environmental remote sensing satellites are geostationary and sun-synchronous polar orbits. Geostationary satellites orbit around us following the Earth's rotation, so they provide images for a fixed area, normally a half sphere. Polar orbiting satellites circulate our planet at lower altitudes scanning a small fraction of the Earth between the poles in each pass. The following figure shows the consecutive passes and area covered by a polar satellite. The orbit of this satellites is normally synchronised with the sun so they follow a trajectory that coincides with the solar noon -- this is referred as sun-synchronous orbit.\n",
    "\n",
    "![](data/sun-synchronous.png \"Credit: https://earthobservatory.nasa.gov/features/OrbitsCatalog\")\n",
    "\n",
    "#### Due to their increased spatial resolution compared to geostationary satellites, polar-orbiting satellites are often preferred for environmental applications and research. DEA provides a high quality collection of high resolution polar orbiting satellite data coming from two missions: Landsat and Sentinel."
   ]
  },
  {
   "cell_type": "markdown",
   "metadata": {},
   "source": [
    "#### The human eye can only capture a limited proportion of the electromagnetic spectrum, which is referred as the visible spectrum. However, the sun emits radiation with a much broader spectrum than the visible light. Sensors in satellites are able to capture the proportion of the Sun's energy that gets reflected by the Earth at different frequencies. The Earth also emits radiation at lower frequencies than the Sun at what is called the thermal infrarred region. The following figure represents from top to bottom a) the energy spectrum emitted by the Sun and Earth's determined by the Plank's law. b) The absortion spectrum of the Earth's atmosphere which absorbs energy differently depending on the region of the spectrum. c) Representation of the electromagnetic spectrum and names for each region.\n",
    "\n",
    "![](data/Spektrum_eng_700.png \"Credit: https://seos-project.eu/remotesensing/remotesensing-c01-p01.html\")\n",
    "\n",
    "\n",
    "#### The sensors mounted in satellites can measure the energy from a limited number of regions in the spectrum. Multispectral sensors can measure reflected and radiated energy at several regions of the spectrum. The following figure represents the sensing 'windows' at which Sentinel 2 and Landsat 7/8 sensors can capture which are tipycally designed to coincide with the atmospheric absortion windows.\n",
    "\n",
    "![](data/dmidS2LS7Comparison.png \"Credit: https://www.usgs.gov/media/images/comparison-landsat-7-and-8-bands-sentinel-2\")\n",
    "\n",
    "#### The reason why we use multispectral images to study the Earth's surface is because different materials and processes reflect energy with a unique footprint that help us identify them. For example, two surfaces with very similar colour in the visible spectrum might reflect energy very differently at other regions of the spectrum, which help us to differentiate them using remote sensing images.\n",
    "\n",
    "#### To understand this we are going to see the spectral response of different surfaces:\n",
    "\n",
    "![](data/spectral_response.png \"Credit: https://www.intechopen.com/books/biomass-and-remote-sensing-of-biomass/introduction-to-remote-sensing-of-biomass\")"
   ]
  },
  {
   "cell_type": "code",
   "execution_count": 7,
   "metadata": {},
   "outputs": [],
   "source": [
    "%matplotlib inline\n",
    "\n",
    "import numpy as np\n",
    "import pandas as pd\n",
    "from matplotlib import pyplot as plt"
   ]
  },
  {
   "cell_type": "code",
   "execution_count": null,
   "metadata": {},
   "outputs": [],
   "source": []
  }
 ],
 "metadata": {
  "kernelspec": {
   "display_name": "Python 3",
   "language": "python",
   "name": "python3"
  },
  "language_info": {
   "codemirror_mode": {
    "name": "ipython",
    "version": 3
   },
   "file_extension": ".py",
   "mimetype": "text/x-python",
   "name": "python",
   "nbconvert_exporter": "python",
   "pygments_lexer": "ipython3",
   "version": "3.7.6"
  }
 },
 "nbformat": 4,
 "nbformat_minor": 4
}
