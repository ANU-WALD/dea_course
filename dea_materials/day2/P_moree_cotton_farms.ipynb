{
 "cells": [
  {
   "cell_type": "markdown",
   "metadata": {},
   "source": [
    "## Cotton farms in Moree\n",
    "\n",
    "Moree is a town in northern New South Wales, Australia. It is located on the banks of the Mehi River, in the centre of the Jim plains. Its name comes from an Aboriginal word for “rising sun”, “long spring”, or “water hole\".\n",
    "\n",
    "Moree is a major agricultural centre, noted for its part in the Australian cotton-growing industry which was established there in the early 1960s. The town is renowned by its healing artesian hot spring baths. At the 2016 census, the town of Moree had a population of 7,383. "
   ]
  },
  {
   "cell_type": "markdown",
   "metadata": {},
   "source": [
    "<img src=\"data/Moree_Satellite.png\" alt=\"drawing\" width=\"400\" align=\"left\"/>"
   ]
  },
  {
   "cell_type": "markdown",
   "metadata": {},
   "source": [
    "Australia’s cotton growing season lasts approximately six months, starting in September/October (planting) and ending in March/April (picking). Irrigation water availability is a limiting factor in cotton production. Water-use efficiency has increased by approximately 240 percent since the 1970’s and Australian cotton growers are now recognised as the most water-use efficient in the world and three times more efficient than the global average. [Source: agriculture.gov.au](http://www.agriculture.gov.au)\n",
    "\n",
    "The demand for cotton worldwide has been steadily increasing in recent years. The good quality of Australian cotton is recognised worldwide and constitutes an attractive product for farmers."
   ]
  },
  {
   "cell_type": "markdown",
   "metadata": {},
   "source": [
    "<figure>\n",
    "  <img src=\"data/cotton_demand.jpg\" alt=\"drawing\" width=\"400\" align=\"left\"/>\n",
    "  <figcaption>Evolution of worldwide cotton demand since year 2000. (Source: Abares)</figcaption>\n",
    "</figure>"
   ]
  },
  {
   "cell_type": "markdown",
   "metadata": {},
   "source": [
    "### Your task:\n",
    "\n",
    "After many years working in an office, you have decided to become a cotton farmer. You are looking for properties for sale near Moree but you have heard at the local pub, about the big differences in productivity between lands. \n",
    "\n",
    "There are a couple of properties that fit your budget and you would like to find out which one has historically performed better in the past years. You cannot trust much the numbers that the previous owners are giving to you and want to find a more independent method to inform your decision. Luckily, in your previous job you had to use the DEA for very different purposes and you decide to give it a go.\n",
    "\n",
    "You know about the Fractional Cover product and you decide to use it for comparing the performance for these two properties, over the last growing season.\n",
    "\n",
    "Fractional Cover represents the proportion of the land surface that is bare (BS), covered by photosynthetic vegetation (PV), or non-photosynthetic vegetation (NPV). The green (PV) fraction includes leaves and grass, the non-photosynthetic fraction (NPV) includes branches, dry grass and dead leaf litter, and the bare soil (BS) fraction includes bare soil or rock. You expect to see an increase in the bare soil fraction over the past years."
   ]
  },
  {
   "cell_type": "markdown",
   "metadata": {},
   "source": [
    "### Load packages\n",
    "\n",
    "You start by loading the usual Python libraries to start working on this project."
   ]
  },
  {
   "cell_type": "code",
   "execution_count": null,
   "metadata": {},
   "outputs": [],
   "source": [
    "%matplotlib inline\n",
    "\n",
    "import datacube\n",
    "\n",
    "import matplotlib.pyplot as plt\n",
    "import numpy as np\n",
    "import pandas as pd\n",
    "import sys\n",
    "import xarray as xr"
   ]
  },
  {
   "cell_type": "markdown",
   "metadata": {},
   "source": [
    "### Setting up\n",
    "\n",
    "We create the DEA object and list the products that are currently available on the DEA containing the string `fc` which is the code that indicates Fractional Cover."
   ]
  },
  {
   "cell_type": "code",
   "execution_count": null,
   "metadata": {},
   "outputs": [],
   "source": [
    "dc = datacube.Datacube(app='dc-FC')\n",
    "products = dc.list_products()\n",
    "display_columns = ['name', 'description']\n",
    "display_rows = [1]\n",
    "dc_products = products[display_columns]\n",
    "dc_products[dc_products['name'].str.contains(\"fc\")]"
   ]
  },
  {
   "cell_type": "markdown",
   "metadata": {},
   "source": [
    "### Property A\n",
    "\n",
    "You start by putting together Fractional Cover for Landsat 8 data for the first property."
   ]
  },
  {
   "cell_type": "code",
   "execution_count": null,
   "metadata": {},
   "outputs": [],
   "source": [
    "dc_moree = datacube.Datacube(app=\"Moree_CottonFarms\")\n",
    "\n",
    "query = {'lat': (-29.34, -29.42),\n",
    "         'lon': (149.78, 149.91),\n",
    "         'time':('2018-06-01', '2019-06-01')}\n",
    "\n",
    "fc_propA = dc_moree.load(product='ls8_fc_albers', **query)\n",
    "\n",
    "# Cloud filtering functionality for FC is currently being developed so we manually filter cloudly images\n",
    "fc_propA = fc_propA.isel(time=[0,2,4,5,6,7,9,10,11,12,13,16,19,20,22])\n",
    "\n",
    "fc_propA"
   ]
  },
  {
   "cell_type": "markdown",
   "metadata": {},
   "source": [
    "### Visualising the 3 fractions together\n",
    "\n",
    "You have 23 clean images of the area around the first property for the last year. You create a function to plot the 3 fraction plus the Unmixing Error (UE) variable which gives an indication about the uncertainty in the computation of the fractions."
   ]
  },
  {
   "cell_type": "code",
   "execution_count": null,
   "metadata": {},
   "outputs": [],
   "source": [
    "import matplotlib.gridspec as gridspec\n",
    "\n",
    "def plot_fractions(ds, scene):\n",
    "    #set up our images on a grid using gridspec\n",
    "    plt.figure(figsize=(12,8))\n",
    "    gs = gridspec.GridSpec(2,2) # set up a 2 x 2 grid of 4 images for better presentation\n",
    "\n",
    "    ax1=plt.subplot(gs[0,0])\n",
    "    ds.PV.isel(time=scene).plot(cmap='gist_earth_r')\n",
    "    ax1.set_title('PV')\n",
    "\n",
    "    ax2=plt.subplot(gs[1,0])\n",
    "    ds.BS.isel(time=scene).plot(cmap='Oranges')\n",
    "    ax2.set_title('BS')\n",
    "\n",
    "    ax3=plt.subplot(gs[0,1])\n",
    "    ds.NPV.isel(time=scene).plot(cmap='copper')\n",
    "    ax3.set_title('NPV')\n",
    "\n",
    "    ax4=plt.subplot(gs[1,1])\n",
    "    ds.UE.isel(time=scene).plot(cmap='magma')\n",
    "    ax4.set_title('UE')\n",
    "\n",
    "    plt.tight_layout()\n",
    "    plt.show()\n",
    "    \n",
    "plot_fractions(fc_propA, 0)"
   ]
  },
  {
   "cell_type": "markdown",
   "metadata": {},
   "source": [
    "### Detecting cropping lands\n",
    "\n",
    "Land dedicated to cropping goes through a series of changes during the season. At the beginning of the season, the land is plowed and presents no vegetation and, at the middle of the season, the fields are green. Later in the growing season, depending on the type of crop, fields start yellowing until the harvest time.\n",
    "\n",
    "The changes in land dedicated to crop are usually larger than in the surrounding lands. The PV fraction in the fractional cover product might become handy for identifying the parts of land dedicated to grow crops. If we consider the temporal evolution of an individual pixels in a PV image, we'll observe that the variability is usually larger for crop farms that for other types of land.\n",
    "\n",
    "Making use of the variability through time, you are going to identify the cropping areas around Moree."
   ]
  },
  {
   "cell_type": "code",
   "execution_count": null,
   "metadata": {},
   "outputs": [],
   "source": [
    "land_std = fc_propA.PV.std(dim='time')\n",
    "print(\"Shape:\",land_std.shape)\n",
    "print(\"Min: {:02f}, Max: {:02f}, Mean {:02f}\".format(np.nanmin(land_std), np.nanmax(land_std), np.nanmean(land_std)))### Now we load and look at some data"
   ]
  },
  {
   "cell_type": "markdown",
   "metadata": {},
   "source": [
    "### Masking croplands\n",
    "\n",
    "Now you look at the maximum and minimum values and determine a threshold value to create a mask for leaving out all non-cropping lands. After some try and error, 20 seems to give reasonable results.\n",
    "\n",
    "You use this mask to filter the farms out of the original images."
   ]
  },
  {
   "cell_type": "code",
   "execution_count": null,
   "metadata": {},
   "outputs": [],
   "source": [
    "(land_std > 20).plot(cmap='Greys_r')"
   ]
  },
  {
   "cell_type": "markdown",
   "metadata": {},
   "source": [
    "## Using masks within XArray Datasets\n",
    "\n",
    "XArray contains a function `.where` to apply binary masks to all the `DataArrays` in a `Dataset`. Here you use it filter your data with the cropping land mask first and then with an unmixing error threshold. As you can see you can chain as many operations as you want to a `Dataset`. The expression evaluates from left to right so the order of the operations affect the result and also the performance (time) of the operation.\n",
    "\n",
    "You create this expression which filters your data twice and then plot the result specifying a colormap and minimum and maximum values for the colour scale."
   ]
  },
  {
   "cell_type": "code",
   "execution_count": null,
   "metadata": {},
   "outputs": [],
   "source": [
    "mean_error = fc_propA.UE.mean(dim='time')\n",
    "\n",
    "fc_propA.PV.where(land_std>20).where(mean_error<=20.0).isel(time=3).plot(cmap='YlGn', vmax=120, vmin=0)"
   ]
  },
  {
   "cell_type": "markdown",
   "metadata": {},
   "source": [
    "### Interactive plots\n",
    "\n",
    "You have seen in a blog post someone demonstrating a very cool Jupyter notebook functionality to create dynamic visualisations. Once you have located you decide to create an interactive time lapse version of the last cropping season for the first property. "
   ]
  },
  {
   "cell_type": "code",
   "execution_count": null,
   "metadata": {},
   "outputs": [],
   "source": [
    "from ipywidgets import interactive\n",
    "\n",
    "def plot_field(t):\n",
    "    fc_propA.PV.where(land_std>20).where(mean_error<=20.0).isel(time=t).plot(cmap='YlGn', vmax=120, vmin=0)\n",
    "\n",
    "interactive_plot = interactive(plot_field, t=(0, fc_propA.time.shape[0]-1))\n",
    "output = interactive_plot.children[-1]\n",
    "output.layout.height = '350px'\n",
    "\n",
    "interactive_plot"
   ]
  },
  {
   "cell_type": "markdown",
   "metadata": {},
   "source": [
    "### Temporal plots\n",
    "\n",
    "Finally you want to visualise the temporal evolution of the cropping lands over the last year. You are quite surprised to realise that there are what it looks like two seasons, first in spring and the second one more productive in autum."
   ]
  },
  {
   "cell_type": "code",
   "execution_count": null,
   "metadata": {},
   "outputs": [],
   "source": [
    "plt.figure(figsize=(10,2))\n",
    "fc_propA.PV.where(land_std>20).where(mean_error<=20.0).mean(dim=['x','y']).plot()"
   ]
  },
  {
   "cell_type": "markdown",
   "metadata": {},
   "source": [
    "### Property B\n",
    "\n",
    "Now that you know how to perform the analysis you repeat the process for the second farm."
   ]
  },
  {
   "cell_type": "code",
   "execution_count": null,
   "metadata": {},
   "outputs": [],
   "source": [
    "query = {'lat': (-29.30, -29.38),\n",
    "         'lon': (149.65, 149.78),\n",
    "         'time':('2018-06-01', '2019-06-01')}\n",
    "\n",
    "fc_propB = dc_moree.load(product='ls8_fc_albers', **query)\n",
    "\n",
    "print(fc_propB.time.shape)\n",
    "\n",
    "# Cloud filtering functionality for FC is currently being developed so we manually filter cloudly images\n",
    "fc_propB = fc_propB.isel(time=[0,2,4,5,6,7,9,10,11,12,13,16,19,20,22])\n",
    "\n",
    "fc_propB"
   ]
  },
  {
   "cell_type": "markdown",
   "metadata": {},
   "source": [
    "### Detecting cropping lands"
   ]
  },
  {
   "cell_type": "code",
   "execution_count": null,
   "metadata": {},
   "outputs": [],
   "source": [
    "land_std = fc_propB.PV.std(dim='time')\n",
    "print(\"Shape:\",land_std.shape)\n",
    "print(\"Min: {:02f}, Max: {:02f}, Mean {:02f}\".format(np.nanmin(land_std), np.nanmax(land_std), np.nanmean(land_std)))### Now we load and look at some data\n",
    "\n",
    "(land_std > 20).plot(cmap='Greys_r')"
   ]
  },
  {
   "cell_type": "markdown",
   "metadata": {},
   "source": [
    "### Plotting fractions"
   ]
  },
  {
   "cell_type": "code",
   "execution_count": null,
   "metadata": {},
   "outputs": [],
   "source": [
    "plot_fractions(fc_propB, 0)"
   ]
  },
  {
   "cell_type": "markdown",
   "metadata": {},
   "source": [
    "### Interactive year time-lapse"
   ]
  },
  {
   "cell_type": "code",
   "execution_count": null,
   "metadata": {},
   "outputs": [],
   "source": [
    "def plot_field(t):\n",
    "    fc_propB.PV.where(land_std>20).isel(time=t).plot(cmap='YlGn', vmax=120, vmin=0)\n",
    "\n",
    "interactive_plot = interactive(plot_field, t=(0, fc_propB.time.shape[0]-1))\n",
    "\n",
    "output = interactive_plot.children[-1]\n",
    "output.layout.height = '350px'\n",
    "\n",
    "interactive_plot"
   ]
  },
  {
   "cell_type": "markdown",
   "metadata": {},
   "source": [
    "### Year vegetation evolution"
   ]
  },
  {
   "cell_type": "code",
   "execution_count": null,
   "metadata": {},
   "outputs": [],
   "source": [
    "plt.figure(figsize=(10,2))\n",
    "fc_propB.PV.where(land_std>20).mean(dim=['x','y']).plot()"
   ]
  },
  {
   "cell_type": "markdown",
   "metadata": {},
   "source": [
    "### Exercise\n",
    "\n",
    "You are very curious about this double cycle and decide to explore if this is the case in other cotton growing areas in Australia. Can you locate a cotton farming area near Toowoomba (QLD) and create a similar plot for the last year?"
   ]
  },
  {
   "cell_type": "code",
   "execution_count": null,
   "metadata": {},
   "outputs": [],
   "source": []
  }
 ],
 "metadata": {
  "kernelspec": {
   "display_name": "Python 3",
   "language": "python",
   "name": "python3"
  },
  "language_info": {
   "codemirror_mode": {
    "name": "ipython",
    "version": 3
   },
   "file_extension": ".py",
   "mimetype": "text/x-python",
   "name": "python",
   "nbconvert_exporter": "python",
   "pygments_lexer": "ipython3",
   "version": "3.6.9"
  }
 },
 "nbformat": 4,
 "nbformat_minor": 4
}
