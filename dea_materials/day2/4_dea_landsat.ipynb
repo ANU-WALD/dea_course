{
 "cells": [
  {
   "cell_type": "markdown",
   "metadata": {},
   "source": [
    "## Introduction to DEA Landsat surface reflectance\n",
    "\n",
    "#### Digital Earth Australia currently contains two Landsat products that differ in their specifications.  This notebook is intended as a quick guide to understanding the specifications and provenance of each product. Each product description includes information on:\n",
    "\n",
    "* The data processing pipeline used to produce the dataset\n",
    "* Some important details on each products configurations\n",
    "* The operational status of each product\n",
    "* The date range available for each product\n",
    "* The minimum loading requirements to use with `dc.load` to extract data\n",
    "* The bands each product contains"
   ]
  },
  {
   "cell_type": "markdown",
   "metadata": {},
   "source": [
    "## About Landsat \n",
    "\n",
    "\"Landsat represents the world's longest continuously acquired collection of space-based moderate-resolution land remote sensing data. Four decades of imagery provides a unique resource for those who work in agriculture, geology, forestry, regional planning, education, mapping, and global change research. Landsat images are also invaluable for emergency response and disaster relief.\" [[1](#References)] \n",
    "\n",
    "\"In the mid-1960s an ambitious effort to develop and launch the first civilian Earth observation satellite was started. The goal was achieved on July 23, 1972, with the launch of the Earth Resources Technology Satellite (ERTS-1), which was later renamed Landsat 1. The launches of Landsat 2, Landsat 3, and Landsat 4 followed in 1975, 1978, and 1982, respectively. When Landsat 5 was launched in 1984, no one could have predicted that the satellite would continue to deliver high quality, global data of Earth's land surfaces for 28 years and 10 months until its retirement in June, 2013. Landsat 6, however, failed to achieve orbit in 1993. Landsat 7 was successfully launched in 1999 and, along with Landsat 8 launched in 2013, continues to provide daily global data. Landsat 9 is planned to be launched in late 2020.\" [[2](#References)]\n",
    "\n",
    "![Fig 1. Time-line of the working lives of Landsats since 1972](data/TimelineOnlyForWebRGB.jpg)\n"
   ]
  },
  {
   "cell_type": "markdown",
   "metadata": {},
   "source": [
    "### Basic details about Landsat 5 to 9 [[3](#References)][[4](#References)][[5](#References)][[6](#References)][[7](#References)]\n",
    "\n",
    "![Fig 2. Basic details about the Landsats](data/landsats.jpg)\n"
   ]
  },
  {
   "cell_type": "markdown",
   "metadata": {},
   "source": [
    "#### GA has acquired Landsat imagery over Australia since 1979, including TM, ETM+ and OLI imagery. While this data has been used extensively for numerous land and coastal mapping studies, its utility for accurate monitoring of environmental resources has been limited by the processing methods that have been traditionally used to correct for inherent geometric and radiometric distortions in EO imagery. To improve access to Australia's archive of Landsat TM/ETM+/OLI data, GA has collaboratively developed an integrated approach to image data correction that incorporates normalising models to account for atmospheric effects, BRDF and topographic shading."
   ]
  },
  {
   "cell_type": "markdown",
   "metadata": {},
   "source": [
    "#### The sensors on the Landsats are different and collect reflected radiance in various spectral wavelengths. These are called bands. The following bands are included in the DEA archive: band names to be used in code, when retrieving the data, are given in brackets.\n",
    "\n",
    "- **Landsat 5 and 7:**\n",
    "    - Excludes Landsat 5 Thematic Mapper (TM) thermal band and Multispectral Scanner (MSS) bands, and Landsat 7 Enhanced Thematic Mapper Plus (ETM+) thermal band and panchromatic band    \n",
    "    - Includes the following Landsat 5 TM and Landsat 7 ETM+ bands:  \n",
    "        - Band 1: blue (`blue`)\n",
    "        - Band 2: green (`green`)\n",
    "        - Band 3: red (`red`)\n",
    "        - Band 4: near-infrared (`nir`)\n",
    "        - Band 5: shortwave infrared 1 (`swir1`)\n",
    "        - Band 7: shortwave infrared 2 (`swir2`)\n",
    "- **Landsat 8:**\n",
    "    - Excludes the Operational Land Imager Thermal Infrared Sensor (TIRS) bands\n",
    "    - Includes the following Operational Land Imager (OLI) bands:\n",
    "        - Band 1: coastal aerosol (`coastal_aerosol`)         \n",
    "        - Band 2: blue (`blue`)\n",
    "        - Band 3: green (`green`)\n",
    "        - Band 4: red (`red`)\n",
    "        - Band 5: near-infrared (`nir`)\n",
    "        - Band 6: shortwave infrared 1 (`swir1`)\n",
    "        - Band 7: shortwave infrared 2 (`swir2`)\n",
    "        - Band 8: panchromatic (`panchromatic`)"
   ]
  },
  {
   "cell_type": "markdown",
   "metadata": {},
   "source": [
    "#### Landsat 7 Scan Line Corrector failure: \"The Scan Line Corrector (SLC) is an electro-optical mechanism composed of two parallel mirrors set at an angle on a shaft. The SLC is positioned behind the primary optics and compensates for the along-track motion of the spacecraft occurring during an active SMA cross-track scan. As a result, a rectilinear scan pattern is produced using the SLC instead of the zigzag pattern that would be produced without it. The SLC failed for Landsat 7 on May 31, 2003. Without an operating SLC, the ETM+ line of sight now traces a zig-zag pattern along the satellite ground track (see the figure above) resulting in wedge shaped scan-to-scan gaps (and alternating overlap areas) which increase in magnitude away from nadir. Despite the SLC failure, Landsat 7 ETM+ is still capable of acquiring useful image data with the SLC turned off (SLC-off), particularly within the central portion of any given scene.\" [[8](#References)]\n",
    "\n",
    "#### The top panel in the figure below shows how Landat 7 imagery appears prior to the May 31 2003 SLC failure (i.e. Landsat 7 SLC-on). The bottom panel shows the same area after the SLC failed (i.e. Landsat 7 SLC-off), with obvious diagonal striping that covers approximately 22% of the scene. This striping will be present in all post-May 31 2003 in the DEA archive. For certain applications, it may be best to completely exclude post post-May 31 2003 imagery from analyses.\n",
    "\n",
    "![Figure 3. Scan line corrected image.](data/SLC_comparison.jpg)"
   ]
  },
  {
   "cell_type": "markdown",
   "metadata": {},
   "source": [
    "#### The recommended collection to work with Landsat surface reflectance data is the GA Collection 3. This collection exposes the following product names: “ga_ls8c_ard_3”, \"ga_ls7e_ard_3\", and \"ga_ls5t_ard_3\", containing data for each satellite mission.\n",
    "\n",
    "#### In this tutorial we are going to see how to load Collection 3 Landsat data using DEA, plot the data and perform simple analyses."
   ]
  },
  {
   "cell_type": "code",
   "execution_count": null,
   "metadata": {},
   "outputs": [],
   "source": [
    "%matplotlib inline\n",
    "\n",
    "import sys\n",
    "import warnings\n",
    "import datacube\n",
    "import matplotlib.pyplot as plt\n",
    "from check_answer import check_answer\n",
    "\n",
    "dc = datacube.Datacube(app=\"Landsat\")"
   ]
  },
  {
   "cell_type": "markdown",
   "metadata": {},
   "source": [
    "#### Specify a *query* with coordinates, date range and the desired NBART measurements:\n",
    "\n",
    "- **lat/lon:** Latitude and longitude of the area. e.g. Canberra = `'lat': (-35.25, -35.35), 'lon': (149.05, 149.17)`\n",
    "- **time:** Date range to fetch the scenes. The approximate time between two scenes is 16 days. If there is a location near a swath boundary, it may be captured in two passes and so there could be two images within the 16 day period.\n",
    "\n",
    ">Note: Time needs to be in accordance to the availavility of data for each Landsat mission."
   ]
  },
  {
   "cell_type": "code",
   "execution_count": null,
   "metadata": {},
   "outputs": [],
   "source": [
    "# Define temporal and spatial extents to pass to `dc.load` for the data extraction:\n",
    "query = {'lat': (-35.25, -35.35),\n",
    "         'lon': (149.05, 149.17),\n",
    "         'output_crs': 'EPSG:3577',\n",
    "         'resolution': (-25, 25),\n",
    "         'measurements': ['nbart_red', 'nbart_green', 'nbart_blue', \n",
    "                          'nbart_nir', 'nbart_swir_1', 'nbart_swir_2'],\n",
    "         'time':('2017-01-01', '2017-01-15')}"
   ]
  },
  {
   "cell_type": "markdown",
   "metadata": {},
   "source": [
    "#### Load Landsat data: When loading NBAR-T data from the Landsat 8 satellite. Sometimes multiple scenes are acquired by the satellite on the same day. For convenience we can group these together, using the `group_by='solar_day'` option in the `load()` function."
   ]
  },
  {
   "cell_type": "code",
   "execution_count": null,
   "metadata": {},
   "outputs": [],
   "source": [
    "# Load data for the specified query extent using `dc.load`:\n",
    "ds = dc.load(product='ga_ls8c_ard_3', group_by='solar_day', **query)\n",
    "ds"
   ]
  },
  {
   "cell_type": "markdown",
   "metadata": {},
   "source": [
    ">Note: Remember Landsat bands are listed under `Data variables`. Surface reflectance values for each of the Landsat bands are expressed as **16-bit integers scaled between 0 and 10000.**\n",
    "\n",
    "#### Exercise 4.1: Can you get the first value of the time dimension in the previous datacube and assign it to the `answ` variable?"
   ]
  },
  {
   "cell_type": "code",
   "execution_count": null,
   "metadata": {},
   "outputs": [],
   "source": [
    "answ = ds.?\n",
    "\n",
    "check_answer(\"DEA4.1\", str(answ.values))"
   ]
  },
  {
   "cell_type": "markdown",
   "metadata": {},
   "source": [
    "#### Let's plot the `nbart_nir` band for both times using a red colourmap:"
   ]
  },
  {
   "cell_type": "code",
   "execution_count": null,
   "metadata": {},
   "outputs": [],
   "source": [
    "# Make a plot with one column for each time-step:\n",
    "ds.nbart_nir.plot(col='time', figsize=(10, 5), cmap = 'Reds');  # This also works: ds['nir'].plot(col='time')"
   ]
  },
  {
   "cell_type": "markdown",
   "metadata": {},
   "source": [
    "#### We see that the second image contains land surface for most of the area with the exception of the bottom-right corner which coincides with the limits of the swath. However the first image contains clouds that prevent us from seeing most of the Earth's surface.\n",
    "\n",
    "#### Exercise 4.2: Can you create a true colour image composite of the second image?\n",
    "\n",
    "> Note: By specifying the `red`, `green` and `blue` bands, we can produce a ['true colour' plot](https://crisp.nus.edu.sg/~research/tutorial/opt_int.htm) that approximates how the landscape would appear to the human eye. Note however that below we use the `robust=True` argument to remove extreme values and result in a colour-enhanced image:"
   ]
  },
  {
   "cell_type": "code",
   "execution_count": null,
   "metadata": {},
   "outputs": [],
   "source": [
    "# Select the band names and time from the initial ds variable\n",
    "answ = ds[?].?\n",
    "\n",
    "answ.to_array().plot.imshow(robust=True, figsize=(8, 8))"
   ]
  },
  {
   "cell_type": "markdown",
   "metadata": {},
   "source": [
    "#### Bands from Landsat surface reflectance products can be combined to compute simple remote sensing indices that provide insights into different aspects of the observed landscape. For example, we can calculate the Normalized Difference Water Index (NDWI), which has high values where a pixel is likely to be open water (e.g. NDWI > 0, or red colours below):"
   ]
  },
  {
   "cell_type": "code",
   "execution_count": null,
   "metadata": {},
   "outputs": [],
   "source": [
    "# Compute NDWI using the formula (green - nir) / (green + nir). \n",
    "ds_ndwi = (ds.nbart_green - ds.nbart_nir) / (ds.nbart_green + ds.nbart_nir)\n",
    "\n",
    "# We can now add this back into our dataset as a new data variable\n",
    "# sharing dimensions with the rest of the data\n",
    "ds[\"NDWI\"] = ds_ndwi\n",
    "ds"
   ]
  },
  {
   "cell_type": "markdown",
   "metadata": {},
   "source": [
    "#### Plotting a single data variable or band. Newly created data variables (like `NDWI` above) can be plotted in exactly the same way as individual Landsat bands:"
   ]
  },
  {
   "cell_type": "code",
   "execution_count": null,
   "metadata": {},
   "outputs": [],
   "source": [
    "# First, we select the variable we want ('NDWI'), and then make a \n",
    "# plot with one column for each time-step:\n",
    "ds.NDWI.plot(col='time', figsize=(10, 5)); "
   ]
  },
  {
   "cell_type": "markdown",
   "metadata": {},
   "source": [
    "#### Exercise 4.3: Can you add a Normalized Difference Vegetation Index (NDVI) to the same dataset. Call the new variable `NDVI`."
   ]
  },
  {
   "cell_type": "code",
   "execution_count": null,
   "metadata": {},
   "outputs": [],
   "source": [
    "# Compute NDVI using the formula (nir - red) / (nir + red)\n",
    "ds_ndvi = ?\n",
    "\n",
    "# Add this back into our dataset as a new data variable:\n",
    "ds[?] = ds_ndvi\n",
    "\n",
    "# Plot:\n",
    "ds.NDVI.plot(col='time', figsize=(10, 5), cmap='summer_r')\n",
    "\n",
    "check_answer(\"DEA4.3\", ds.NDVI.shape)"
   ]
  },
  {
   "cell_type": "markdown",
   "metadata": {},
   "source": [
    "#### Pixel quality with FMask: As we have seen in the previous example, clouds are present in satellite images. The DEA ARD data comes with extra information that we can use to detects and filter these clouds and its related effects.\n",
    "\n",
    "#### FMask provides an assessment of each image pixel to determine if it is a valid pixel or if its covered by clouds, shadow or water. an unobscured, unsaturated observation of the Earth surface and also whether the pixel is represented in each spectral band. The PQ product allows users to produce masks which can be used to exclude pixels which do not meet their quality criteria from analysis. FMask provides an assessment of the quality of observations at a pixel level, and contains information about whether a pixel is affected by the following.\n",
    "\n",
    "- Valid pixel\n",
    "- Presence of snow\n",
    "- Presence of cloud\n",
    "- Presence of cloud shadow\n",
    "- Presence of water \n",
    "\n",
    "#### FMask data exactly matches the resolution and projection system of Landsat 5, 7 and 8 data, with 25 square metre grid cells in the same Australian Albers Equal Area (EPSG:3577) projection system as the reflectance data.\n",
    "\n",
    "#### To load Landsat fmask data we specify a *query* with coordinates and date range and add the `oa_fmask` variable to the list of measurements."
   ]
  },
  {
   "cell_type": "code",
   "execution_count": null,
   "metadata": {},
   "outputs": [],
   "source": [
    "query = {'lat': (-35.25, -35.35),\n",
    "         'lon': (149.05, 149.17),\n",
    "         'output_crs': 'EPSG:3577',\n",
    "         'resolution': (-25, 25),\n",
    "         'measurements': ['nbart_red', 'nbart_green', 'nbart_blue', \n",
    "                          'nbart_nir', 'nbart_swir_1', 'nbart_swir_2',\n",
    "                          'oa_fmask'],\n",
    "         'time':('2015-07-19', '2015-07-21')}\n",
    "\n",
    "# Load data\n",
    "ds = dc.load(product='ga_ls8c_ard_3', group_by='solar_day', **query)\n",
    "\n",
    "ds"
   ]
  },
  {
   "cell_type": "markdown",
   "metadata": {},
   "source": [
    "#### Exercise 4.4: Click on the file icon on the right of the `oa_fmask` variable to display the metadata. Can you find the value in this mask that designates `valid` pixels?\n",
    "\n",
    "> Tip: You might need to click on the triangle next to `Data variables:` to open the list variables."
   ]
  },
  {
   "cell_type": "code",
   "execution_count": null,
   "metadata": {},
   "outputs": [],
   "source": [
    "answ = ?\n",
    "\n",
    "check_answer(\"DEA4.4\", int(answ))"
   ]
  },
  {
   "cell_type": "markdown",
   "metadata": {},
   "source": [
    "#### Now let's create an true colour RGB image of the previous request:"
   ]
  },
  {
   "cell_type": "code",
   "execution_count": null,
   "metadata": {},
   "outputs": [],
   "source": [
    "ds[['nbart_red', 'nbart_green', 'nbart_blue']].to_array().plot.imshow(robust=True,col='time',figsize=(8,8))"
   ]
  },
  {
   "cell_type": "markdown",
   "metadata": {},
   "source": [
    "#### As you can see there are many clouds in this image. We are going to use the `oa_fmask` variable in combination with the XArray `.where()` function to filter out all the non valid pixels in the previous image:"
   ]
  },
  {
   "cell_type": "code",
   "execution_count": null,
   "metadata": {},
   "outputs": [],
   "source": [
    "ds[['nbart_red', 'nbart_green', 'nbart_blue']].where(ds.oa_fmask.values==1).to_array().plot.imshow(robust=True,col='time',figsize=(8,8))"
   ]
  },
  {
   "cell_type": "markdown",
   "metadata": {},
   "source": [
    "#### Exercise 4.5: Can you show a false colour image (red -> nir) in which we only filter the cloud shadows in the previous image?"
   ]
  },
  {
   "cell_type": "code",
   "execution_count": null,
   "metadata": {},
   "outputs": [],
   "source": [
    "answ = ds[?].where(?)\n",
    "\n",
    "answ.to_array().plot.imshow(robust=True, col='time', figsize=(8,8))\n",
    "\n",
    "check_answer(\"DEA4.5\", int(answ.nbart_nir.mean().values))"
   ]
  },
  {
   "cell_type": "markdown",
   "metadata": {},
   "source": [
    "#### The other surface reflectance product available in DEA is called: GA Collection 2. This collection exposes the following product names: \"ls5_nbar(t)_albers\", \"ls7_nbar(t)_albers\", “ls8_nbar(t)_albers”\n",
    "\n",
    "#### The data processing pipeline begins with [USGS Level 0 telemetry](https://landsat.usgs.gov/landsat-level-0-samples), and then GA processes the data to NBAR(T) & PQ\n",
    "\n",
    "#### Important details:\n",
    "* Surface reflectance product\n",
    "    * Valid SR scaling: 0 – 10,000\n",
    "* Spatial resolution is 25 x 25 m\n",
    "* Albers Equal Area projection (epsg: 3577)\n",
    "* NBART and NBAR provided as seperate products\n",
    "* Pixel quality provided as seperate product (GA PQ)\n",
    "* Pixel alignment is left-edge\n",
    "* LS7 SLC-off scenes are not interpolated\n",
    "\n",
    "#### Currently running in parallel with GA Landsat Collection 3, but will eventually be decommissioned when GA Collection 3 has a fully automated ARD pipeline, and the derivative products are produced (WOfS, FC etc).  Only available on the NCI.\n",
    "\n",
    "#### This data collection currently coverrs the 1987-05 to 2019-12 period and exposes the following measurements:\n",
    "       \n",
    "* blue     \n",
    "* green    \n",
    "* red    \n",
    "* nir     \n",
    "* swir1  \n",
    "* swir2           "
   ]
  },
  {
   "cell_type": "markdown",
   "metadata": {},
   "source": [
    "### References\n",
    "\n",
    "1. USGS, 2018a. *Landsat Project Description | Landsat Missions*, Page Last Modified: 04/25/18 01:57 pm. <https://landsat.usgs.gov/landsat-project-description>\n",
    "2. USGS, 2018b. *Landsat Missions Timeline | Landsat Missions*, Page Last Modified: 04/25/18 01:57 pm <https://landsat.usgs.gov/landsat-missions-timeline>\n",
    "3. USGS, 2018c. *Landsat 5 History | Landsat Missions*, Page Last Modified: 04/25/18 01:57 pm <https://landsat.usgs.gov/landsat-5-history>\n",
    "4. USGS, 2018d. *Landsat 6 History | Landsat Missions*, Page Last Modified: 04/25/18 01:57 pm <https://landsat.usgs.gov/landsat-6-history>\n",
    "5. USGS, 2018e. *Landsat 7 | Landsat Missions*, Page Last Modified: 04/25/18 01:57 pm <https://landsat.usgs.gov/landsat-7-history>\n",
    "6. USGS, 2018f. *Landsat 8 | Landsat Missions*, Page Last Modified: 04/25/18 01:57 pm <https://landsat.usgs.gov/landsat-8-mission>\n",
    "7. USGS, 2018g. *Landsat 9 | Landsat Missions*, Page Last Modified: 04/25/18 01:57 pm <https://landsat.usgs.gov/landsat-9-mission>\n",
    "8. USGS, 2018h. *Landsat 7 Data Users Handbook - Section 2 | Landsat Missions*, Page Last Modified: 04/25/18 01:57 pm <https://landsat.usgs.gov/landsat-7-data-users-handbook-section-2>\n",
    "9. GA, 2017. *Surface Reflectance &mdash; Digital Earth Australia 1.0.0 documentation* <http://geoscienceaustralia.github.io/digitalearthau/data/data.html>\n",
    "\n"
   ]
  }
 ],
 "metadata": {
  "celltoolbar": "Raw Cell Format",
  "kernelspec": {
   "display_name": "Python 3",
   "language": "python",
   "name": "python3"
  },
  "language_info": {
   "codemirror_mode": {
    "name": "ipython",
    "version": 3
   },
   "file_extension": ".py",
   "mimetype": "text/x-python",
   "name": "python",
   "nbconvert_exporter": "python",
   "pygments_lexer": "ipython3",
   "version": "3.6.9"
  }
 },
 "nbformat": 4,
 "nbformat_minor": 4
}
