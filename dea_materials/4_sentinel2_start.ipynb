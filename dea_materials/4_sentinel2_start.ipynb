{
 "cells": [
  {
   "cell_type": "markdown",
   "metadata": {},
   "source": [
    "# Introduction to Sentinel 2\n",
    "\n",
    "**What does this notebook do?** This notebook steps you through how to load in and plot up data from Sentinel 2. It explores the data that are available from the Sentinel 2 satellite, and briefly describes the Sentinel satellite bands. It then loads in the `s2a_ard_granule` product and plots it up in true and false colour. It uses the provided pixel quality data to filters the example scene based on `cloud` and `cloud shadow`-free pixels. \n",
    "\n",
    "**Date**: November 2018\n",
    "\n",
    "**Author**: Claire Krause, Robbi Bishop-Taylor"
   ]
  },
  {
   "cell_type": "raw",
   "metadata": {
    "raw_mimetype": "text/restructuredtext"
   },
   "source": [
    "Tags: :index:`Sentinel2`, :index:`products`, :index:`DEAPlotting`, :index:`rgb`, :index:`dc.list_products`, :index:`dc.load`, :index:`query`, :index:`beginner`, :index:`plot`, :index:`image`, :index:`pixelquality`"
   ]
  },
  {
   "cell_type": "code",
   "execution_count": null,
   "metadata": {},
   "outputs": [],
   "source": [
    "%matplotlib inline\n",
    "from datacube.storage import masking\n",
    "from datacube import Datacube\n",
    "from datetime import datetime\n",
    "from skimage import exposure\n",
    "import matplotlib.pyplot as plt\n",
    "import numpy as np\n",
    "import sys\n",
    "import os\n",
    "\n",
    "# Point this to where you have the algorithms from the dea-notebooks/algorithms saved\n",
    "sys.path.append(os.path.abspath('./scripts'))\n",
    "#import DEAPlotting\n",
    "import DEADataHandling\n",
    "\n",
    "# Connect to datacube\n",
    "dc = Datacube(app='Intro to Sentinel2')"
   ]
  },
  {
   "cell_type": "markdown",
   "metadata": {},
   "source": [
    "## Sentinel 2 products currently available"
   ]
  },
  {
   "cell_type": "code",
   "execution_count": null,
   "metadata": {},
   "outputs": [],
   "source": [
    "products = dc.list_products()\n",
    "display_columns = ['name', 'description', 'instrument',\n",
    "                   'platform', 'product_type', 'crs', 'resolution']\n",
    "sentinel_products = products[products['instrument'] == 'MSI'][display_columns]\n",
    "sentinel_products"
   ]
  },
  {
   "cell_type": "markdown",
   "metadata": {},
   "source": [
    "There are two spectral Sentinel satellites currently in DEA; **Sentinel-2A** and **Sentinel-2B**. Sentinel-2A was launched on 23 June 2015 and Sentinel-2B followed on 7 March 2017.\n",
    "\n",
    "Both of the Sentinel 2 satellites carries an innovative wide swath high-resolution multispectral imager with 13 spectral bands. The mission is based on a constellation of two identical satellites in the same orbit, 180° apart for optimal coverage and data delivery. Together they cover all Earth's land surfaces, large islands, inland and coastal waters every five days at the equator.\n",
    "\n",
    "For more information on the Sentinel 2 platforms and applications, check out the [European Space Agency website](http://www.esa.int/Our_Activities/Observing_the_Earth/Copernicus/Sentinel-2). "
   ]
  },
  {
   "cell_type": "markdown",
   "metadata": {},
   "source": [
    "## Loading Sentinel 2 data\n",
    "\n",
    "We will focus on data from the Sentinel-2a platform for this demonstration, as there is more data available than 2b. To explore the spectral datasets from Sentinel-2a, we will use the `s2a_ard_granule` product. Sometimes multiple scenes are acquired by the satellite on the same day. We want to group these together, and will use `group_by='solar_day'` to do this.\n",
    "\n",
    "To load in the Sentinel data, we have a number of options we can use in building our data extraction query:\n",
    "\n",
    "* `lat`/`lon` - specify a bounding box for the extraction. Note that a polygon can be used instead. See [here](https://datacube-core.readthedocs.io/en/stable/dev/generate/datacube.api.query.Query.html#datacube.api.query.Query) for more details\n",
    "* `output_crs` - the output coordinate reference system to project the data into. The CRS you request will impact on the format for the `resolution` query. Two handy CRSs are 'EPSG:3577', which is the Australian Albers projected coordinate system, and 'EPSG:4325', which is WGS84 a global geographic coordinate system.\n",
    "* `resolution` - the requested output resolution for the data. If you have selected a geographic coordinate system for the `output_crs`, this will be in degrees. If you have selected a projected coordinate system, this will be in metres. \n",
    "* `time` - the time range for the query."
   ]
  },
  {
   "cell_type": "code",
   "execution_count": null,
   "metadata": {},
   "outputs": [],
   "source": [
    "query = {\n",
    "        'lat': (-35.27, -35.33),\n",
    "        'lon': (149.07, 149.15),\n",
    "        'output_crs': 'EPSG:3577',\n",
    "        'resolution': (-20, 20),\n",
    "        'time': ('2017-01-01', '2017-02-01')\n",
    "        }\n",
    "\n",
    "Canberra = dc.load(product='s2a_ard_granule', group_by='solar_day', **query)"
   ]
  },
  {
   "cell_type": "markdown",
   "metadata": {},
   "source": [
    "### See what came back from the extraction"
   ]
  },
  {
   "cell_type": "code",
   "execution_count": null,
   "metadata": {},
   "outputs": [],
   "source": [
    "Canberra"
   ]
  },
  {
   "cell_type": "markdown",
   "metadata": {},
   "source": [
    "### Sentinel 2 bands\n",
    "Sentinel 2 satellites have 13 spectral channels:\n",
    "\n",
    "| Sentinel 2 bands | DEA band name | Band number | Central wavelength (nm) | Resolution (m) | Bandwidth (nm) |\n",
    "| -----------------|---------------|-------------|-------------------------|----------------|----------------|\n",
    "| Coastal aerosol | `nbar(t)_coastal_aerosol` | 1 | 443 | 60 | 20 |\n",
    "| Blue | `nbar(t)_blue` | 2 | 490 | 10 | 65 |\n",
    "| Green | `nbar(t)_green` | 3 | 560 | 10 | 35 |\n",
    "| Red | `nbar(t)_red` | 4 | 665 | 10 | 30 |\n",
    "| Vegetation red edge | `nbar(t)_red_edge_1` | 5 | 705 | 20 | 15 |\n",
    "| Vegetation red edge | `nbar(t)_red_edge_2` | 6 | 740 | 20 | 15 |\n",
    "| Vegetation red edge | `nbar(t)_red_edge_3` | 7 | 783 | 20 | 20 |\n",
    "| NIR | `nbar(t)_nir_1` | 8 | 842 | 10 | 115 |\n",
    "| Narrow NIR | `nbar(t)_nir_2` | 8A | 865 | 20 | 20 |\n",
    "| Water vapour | N/A | 9 | 945 | 60 | 20 |\n",
    "| SWIR - Cirrus | N/A | 10 | 1375 | 60 | 20 |\n",
    "| SWIR | `nbar(t)_swir_2` | 11 | 1610 | 20 | 90 |\n",
    "| SWIR | `nbar(t)_swir_3` | 12 | 2190 | 20 | 180 |\n",
    "\n",
    "These bands cover the visible, near-infrared and short-wave infrared wave lengths.\n",
    "\n",
    "![Sentinel 2 bands](http://www.geosage.com/highview/figures/Sentinel2_Spectral_Bands.jpg)\n",
    "\n",
    "**Note** There are a number of additional datasets that are alse returned from our query. These are a combination of datasets used in the correction process, and layers relating to pixel quality. We will explore the pixel quality layers below."
   ]
  },
  {
   "cell_type": "markdown",
   "metadata": {},
   "source": [
    "### Data corrections\n",
    "\n",
    "There are two corrections applied to the Sentinel data:\n",
    "\n",
    "1. **NBAR (e.g. `nbar_green`)**  \n",
    "NBAR stands for Nadir-corrected BRDF Adjusted Reflectance, where BRDF stands for Bidirectional reflectance distribution function The approach involves atmospheric correction to compute surface-leaving radiance, and bi-directional reflectance modelling to remove the effects of topography and angular variation in reflectance.\n",
    "\n",
    "2. **T_NBAR (e.g. `nbart_green`)**  \n",
    "Surface reflectance T_NBAR includes the terrain illumination reflectance correction and has the same features of NBAR, along with some additional features.\n",
    "\n",
    "For more information on these corrections, see the explanation on the [DEA surface reflectance page](http://geoscienceaustralia.github.io/digitalearthau/data/data.html#). "
   ]
  },
  {
   "cell_type": "markdown",
   "metadata": {},
   "source": [
    "### Dealing with missing data"
   ]
  },
  {
   "cell_type": "markdown",
   "metadata": {},
   "source": [
    "Note that the `nbart` data insert a missing value (`-9999`) into the dataset to denote a terrain shadow. This should be converted to a `NaN` value before using this data to avoid treating it as a valid value:\n",
    "\n"
   ]
  },
  {
   "cell_type": "code",
   "execution_count": null,
   "metadata": {},
   "outputs": [],
   "source": [
    "Canberra = masking.mask_invalid_data(Canberra)"
   ]
  },
  {
   "cell_type": "markdown",
   "metadata": {},
   "source": [
    "### Plot as a true colour image\n",
    "\n",
    "True colour images approximate what the human eye sees when looking at a landscape. Note that the function used for this true colour plot enhances the contrast between the bands, resulting in a colour-enhanced image."
   ]
  },
  {
   "cell_type": "code",
   "execution_count": null,
   "metadata": {},
   "outputs": [],
   "source": [
    "Canberra[['nbart_red', 'nbart_green', 'nbart_blue']].isel(time=1).to_array().plot.imshow(robust=True, figsize=(6,6))"
   ]
  },
  {
   "cell_type": "markdown",
   "metadata": {},
   "source": [
    "### Plot as a false colour image\n",
    "\n",
    "This plot uses the SWIR, NIR and green bands to accentuate the presence of water in the landscape."
   ]
  },
  {
   "cell_type": "code",
   "execution_count": null,
   "metadata": {},
   "outputs": [],
   "source": [
    "Canberra[['nbart_swir_2', 'nbart_nir_1', 'nbart_green']].isel(time=1).to_array().plot.imshow(robust=True, figsize=(6,6))"
   ]
  },
  {
   "cell_type": "markdown",
   "metadata": {},
   "source": [
    "### Compare observations side-by-side"
   ]
  },
  {
   "cell_type": "code",
   "execution_count": null,
   "metadata": {},
   "outputs": [],
   "source": [
    "Canberra[['nbart_swir_2', 'nbart_nir_1', 'nbart_green']].isel(time=slice(0,2)).to_array().plot.imshow('x', 'y', col='time', col_wrap=2, robust=True, figsize=(12,6))\n"
   ]
  },
  {
   "cell_type": "markdown",
   "metadata": {},
   "source": [
    "## Filter scenes using pixel quality\n",
    "\n",
    "A pixel quality dataset (`fmask`) is provided alongside the spectral data, which can be used to filter out noisy pixels. The key things we want to filter are clouds and shadows. \n",
    "\n",
    "The `fmask` field contains values from 0 to 5. \n",
    "\n",
    "| Value | Description |\n",
    "|-------|-------------|\n",
    "| 0 | Null |\n",
    "| 1 | Valid |\n",
    "| 2 | Cloud |\n",
    "| 3 | Cloud shadow |\n",
    "| 4 | Snow |\n",
    "| 5 | Water |"
   ]
  },
  {
   "cell_type": "markdown",
   "metadata": {},
   "source": [
    "Here is the cloudy image we would like to mask:"
   ]
  },
  {
   "cell_type": "code",
   "execution_count": null,
   "metadata": {},
   "outputs": [],
   "source": [
    "Canberra[['nbart_swir_2', 'nbart_nir_1', 'nbart_green']].isel(time=0).to_array().plot.imshow(robust=True, figsize=(6,6))"
   ]
  },
  {
   "cell_type": "markdown",
   "metadata": {},
   "source": [
    "### Plot pixel quality information \n",
    "Here we plot pixel quality information that corresponds to the observation above. This data is stored in the `fmask` variable:"
   ]
  },
  {
   "cell_type": "code",
   "execution_count": null,
   "metadata": {},
   "outputs": [],
   "source": [
    "Canberra.isel(time=0).fmask.plot(figsize=[10, 10])"
   ]
  },
  {
   "cell_type": "markdown",
   "metadata": {},
   "source": [
    "### Use pixel quality information to create a mask, and apply it to the spectral data\n",
    "\n",
    "We want to filter out no data, cloud and cloud shadow, so we will use the `fmask` values `0`, `2` and `3` for our filter."
   ]
  },
  {
   "cell_type": "code",
   "execution_count": null,
   "metadata": {},
   "outputs": [],
   "source": [
    "# Numpy's `isin` function tests whether a pixel's value is in `test_elements`. Because we want to \n",
    "# discard pixels where this is the case (because these pixels represent nodata, cloud or cloud shadow),\n",
    "# we also use `invert=True` to keep only good quality pixels\n",
    "clear_pixels = np.isin(Canberra.fmask, test_elements=[0, 2, 3], invert=True)\n",
    "\n",
    "# Use clear pixels as a mask to keep only clear pixels\n",
    "Clear_Canberra = Canberra.where(clear_pixels)"
   ]
  },
  {
   "cell_type": "markdown",
   "metadata": {},
   "source": [
    "### Plot cloud-masked image"
   ]
  },
  {
   "cell_type": "code",
   "execution_count": null,
   "metadata": {},
   "outputs": [],
   "source": [
    "Clear_Canberra[['nbart_swir_2', 'nbart_nir_1', 'nbart_green']].isel(time=0).to_array().plot.imshow(robust=True, figsize=(6,6))"
   ]
  },
  {
   "cell_type": "markdown",
   "metadata": {},
   "source": [
    "## Use `load_clearsentinel2` to automatically load cloud free observations\n",
    "To make loading Sentinel 2 data more convenient, the `load_clearsentinel2` function was written to automate common tasks like returning cloud-free time series:"
   ]
  },
  {
   "cell_type": "code",
   "execution_count": null,
   "metadata": {},
   "outputs": [],
   "source": [
    "query = {\n",
    "        'lat': (-35.27, -35.33),\n",
    "        'lon': (149.07, 149.15),\n",
    "        'output_crs': 'EPSG:3577',\n",
    "        'resolution': (-10, 10),\n",
    "        'time': ('2017-01-01', '2017-02-01')\n",
    "        }\n",
    "\n",
    "# The `load_clearsentinel2` can be given a query containing spatial and temporal bounds, and a list of bands to return.\n",
    "# By setting `mask_pixel_quality=True`, the function will automatically remove nodata, cloud or cloud shadow pixels:\n",
    "Clear_Canberra = DEADataHandling.load_clearsentinel2(dc=dc,\n",
    "                                                     query=query,\n",
    "                                                     bands_of_interest=('nbart_red', 'nbart_green', 'nbart_blue', \n",
    "                                                                        'nbart_nir_1', 'nbart_swir_2', 'nbart_swir_3'),\n",
    "                                                     masked_prop=0,\n",
    "                                                     mask_pixel_quality=True)\n",
    "\n",
    "Clear_Canberra"
   ]
  },
  {
   "cell_type": "markdown",
   "metadata": {},
   "source": [
    "We can plot the same observation as earlier to verify we get the same result:"
   ]
  },
  {
   "cell_type": "code",
   "execution_count": null,
   "metadata": {},
   "outputs": [],
   "source": [
    "Clear_Canberra[['nbart_swir_2', 'nbart_nir_1', 'nbart_green']].isel(time=0).to_array().plot.imshow(robust=True, figsize=(6,6))"
   ]
  },
  {
   "cell_type": "markdown",
   "metadata": {},
   "source": [
    "### Returning only cloud-free images\n",
    "The `load_clearsentinel2` function also allows you to return only images that contain greater than a given percentage of good quality pixels. For example, this can be used to return only cloud-free images. To do this, we specify a minimum proportion of good pixels using the `masked_prop` argument (e.g. specifying 0.3 below will return only images with more than 30% good quality, cloud-free pixels).\n",
    "\n",
    "**Please note:** the Sentinel 2 cloud masking algorithm currently performs poorly over urban areas, where it commonly confuses buildings with clouds. Because of this, you make need to use a small value for `masked_prop` to ensure the algorithm does not discard an excessive number of images."
   ]
  },
  {
   "cell_type": "code",
   "execution_count": null,
   "metadata": {},
   "outputs": [],
   "source": [
    "query = {\n",
    "        'lat': (-25.32,-25.37),\n",
    "        'lon': (131.0,131.07),\n",
    "        'output_crs': 'EPSG:3577',\n",
    "        'resolution': (-10, 10),\n",
    "        'time': ('2019-01-01', '2019-03-01')\n",
    "        }\n",
    "\n",
    "Clear_Uluru = DEADataHandling.load_clearsentinel2(dc=dc,\n",
    "                                                     query=query,\n",
    "                                                     bands_of_interest=('nbart_red', 'nbart_green', 'nbart_blue', \n",
    "                                                                        'nbart_nir_1', 'nbart_swir_2', 'nbart_swir_3'),\n",
    "                                                     masked_prop=0.3)\n",
    "\n",
    "Clear_Uluru"
   ]
  },
  {
   "cell_type": "code",
   "execution_count": null,
   "metadata": {},
   "outputs": [],
   "source": [
    "Clear_Uluru[['nbart_swir_2', 'nbart_nir_1', 'nbart_green']].isel(time=0).to_array().plot.imshow(robust=True, figsize=(8,8))\n"
   ]
  },
  {
   "cell_type": "markdown",
   "metadata": {},
   "source": [
    "### Are you curious about seeing any other places in high-res?"
   ]
  },
  {
   "cell_type": "code",
   "execution_count": null,
   "metadata": {},
   "outputs": [],
   "source": []
  }
 ],
 "metadata": {
  "celltoolbar": "Raw Cell Format",
  "kernelspec": {
   "display_name": "Python 3",
   "language": "python",
   "name": "python3"
  },
  "language_info": {
   "codemirror_mode": {
    "name": "ipython",
    "version": 3
   },
   "file_extension": ".py",
   "mimetype": "text/x-python",
   "name": "python",
   "nbconvert_exporter": "python",
   "pygments_lexer": "ipython3",
   "version": "3.6.8"
  },
  "toc": {
   "base_numbering": 1,
   "nav_menu": {},
   "number_sections": true,
   "sideBar": true,
   "skip_h1_title": false,
   "title_cell": "Table of Contents",
   "title_sidebar": "Contents",
   "toc_cell": false,
   "toc_position": {},
   "toc_section_display": "block",
   "toc_window_display": false
  }
 },
 "nbformat": 4,
 "nbformat_minor": 4
}
